{
  "cells": [
    {
      "cell_type": "markdown",
      "metadata": {
        "id": "view-in-github",
        "colab_type": "text"
      },
      "source": [
        "<a href=\"https://colab.research.google.com/github/nikolimaj/text_mining/blob/main/Ex1.ipynb\" target=\"_parent\"><img src=\"https://colab.research.google.com/assets/colab-badge.svg\" alt=\"Open In Colab\"/></a>"
      ]
    },
    {
      "cell_type": "markdown",
      "id": "a1e51581-23c7-4ae2-b77f-141b09f1f9ae",
      "metadata": {
        "id": "a1e51581-23c7-4ae2-b77f-141b09f1f9ae"
      },
      "source": [
        "# **Data**\n",
        "\n",
        "For our exercises we will use two different datasets:\n",
        "- The AG News subset that features english news articles of 4 different categories\n",
        "- The 10kGNAD dataset that features german news articles of 9 different categories"
      ]
    },
    {
      "cell_type": "code",
      "execution_count": null,
      "id": "8aba7fa7-7a00-4367-92df-33c4873c1794",
      "metadata": {
        "id": "8aba7fa7-7a00-4367-92df-33c4873c1794"
      },
      "outputs": [],
      "source": [
        "import csv\n",
        "import pandas as pd\n",
        "\n",
        "# english data\n",
        "classes_en = {1: \"World\", 2: \"Sports\", 3: \"Business\", 4: \"Sci/Tech\"}\n",
        "train_en = pd.read_csv(\"https://raw.githubusercontent.com/michabirklbauer/hgb_dse_text_mining/master/data/AGNews/train.csv\",\n",
        "                       names = [\"Label\", \"Title\", \"Article\"],\n",
        "                       encoding = \"utf-8\")\n",
        "test_en = pd.read_csv(\"https://raw.githubusercontent.com/michabirklbauer/hgb_dse_text_mining/master/data/AGNews/test.csv\",\n",
        "                      names = [\"Label\", \"Title\", \"Article\"],\n",
        "                      encoding = \"utf-8\")\n",
        "\n",
        "# german data\n",
        "train_de = pd.read_csv(\"https://raw.githubusercontent.com/michabirklbauer/hgb_dse_text_mining/master/data/10kGNAD/train.csv\",\n",
        "                       sep = \";\", names = [\"Label\", \"Article\"],\n",
        "                       quotechar = \"\\'\", quoting = csv.QUOTE_MINIMAL, encoding = \"utf-8\")\n",
        "test_de = pd.read_csv(\"https://raw.githubusercontent.com/michabirklbauer/hgb_dse_text_mining/master/data/10kGNAD/test.csv\",\n",
        "                       sep = \";\", names = [\"Label\", \"Article\"],\n",
        "                       quotechar = \"\\'\", quoting = csv.QUOTE_MINIMAL, encoding = \"utf-8\")"
      ]
    },
    {
      "cell_type": "markdown",
      "id": "348c9409-f422-4145-9b3a-3276cafb1f81",
      "metadata": {
        "id": "348c9409-f422-4145-9b3a-3276cafb1f81"
      },
      "source": [
        "### The english dataset features 120 000 training and 7600 test samples with equally balanced classes"
      ]
    },
    {
      "cell_type": "code",
      "execution_count": null,
      "id": "449c32da-918c-4474-ade5-f3c20b6489d6",
      "metadata": {
        "id": "449c32da-918c-4474-ade5-f3c20b6489d6",
        "outputId": "a26b8404-f167-458e-c97d-77c6924bc1dd"
      },
      "outputs": [
        {
          "name": "stdout",
          "output_type": "stream",
          "text": [
            "(120000, 3)\n",
            "(7600, 3)\n"
          ]
        },
        {
          "data": {
            "text/html": [
              "<div>\n",
              "<style scoped>\n",
              "    .dataframe tbody tr th:only-of-type {\n",
              "        vertical-align: middle;\n",
              "    }\n",
              "\n",
              "    .dataframe tbody tr th {\n",
              "        vertical-align: top;\n",
              "    }\n",
              "\n",
              "    .dataframe thead th {\n",
              "        text-align: right;\n",
              "    }\n",
              "</style>\n",
              "<table border=\"1\" class=\"dataframe\">\n",
              "  <thead>\n",
              "    <tr style=\"text-align: right;\">\n",
              "      <th></th>\n",
              "      <th>Label</th>\n",
              "      <th>Title</th>\n",
              "      <th>Article</th>\n",
              "    </tr>\n",
              "  </thead>\n",
              "  <tbody>\n",
              "    <tr>\n",
              "      <th>0</th>\n",
              "      <td>3</td>\n",
              "      <td>Wall St. Bears Claw Back Into the Black (Reuters)</td>\n",
              "      <td>Reuters - Short-sellers, Wall Street's dwindli...</td>\n",
              "    </tr>\n",
              "    <tr>\n",
              "      <th>1</th>\n",
              "      <td>3</td>\n",
              "      <td>Carlyle Looks Toward Commercial Aerospace (Reu...</td>\n",
              "      <td>Reuters - Private investment firm Carlyle Grou...</td>\n",
              "    </tr>\n",
              "    <tr>\n",
              "      <th>2</th>\n",
              "      <td>3</td>\n",
              "      <td>Oil and Economy Cloud Stocks' Outlook (Reuters)</td>\n",
              "      <td>Reuters - Soaring crude prices plus worries\\ab...</td>\n",
              "    </tr>\n",
              "    <tr>\n",
              "      <th>3</th>\n",
              "      <td>3</td>\n",
              "      <td>Iraq Halts Oil Exports from Main Southern Pipe...</td>\n",
              "      <td>Reuters - Authorities have halted oil export\\f...</td>\n",
              "    </tr>\n",
              "    <tr>\n",
              "      <th>4</th>\n",
              "      <td>3</td>\n",
              "      <td>Oil prices soar to all-time record, posing new...</td>\n",
              "      <td>AFP - Tearaway world oil prices, toppling reco...</td>\n",
              "    </tr>\n",
              "  </tbody>\n",
              "</table>\n",
              "</div>"
            ],
            "text/plain": [
              "   Label                                              Title  \\\n",
              "0      3  Wall St. Bears Claw Back Into the Black (Reuters)   \n",
              "1      3  Carlyle Looks Toward Commercial Aerospace (Reu...   \n",
              "2      3    Oil and Economy Cloud Stocks' Outlook (Reuters)   \n",
              "3      3  Iraq Halts Oil Exports from Main Southern Pipe...   \n",
              "4      3  Oil prices soar to all-time record, posing new...   \n",
              "\n",
              "                                             Article  \n",
              "0  Reuters - Short-sellers, Wall Street's dwindli...  \n",
              "1  Reuters - Private investment firm Carlyle Grou...  \n",
              "2  Reuters - Soaring crude prices plus worries\\ab...  \n",
              "3  Reuters - Authorities have halted oil export\\f...  \n",
              "4  AFP - Tearaway world oil prices, toppling reco...  "
            ]
          },
          "execution_count": 2,
          "metadata": {},
          "output_type": "execute_result"
        }
      ],
      "source": [
        "print(train_en.shape)\n",
        "print(test_en.shape)\n",
        "train_en.head()"
      ]
    },
    {
      "cell_type": "code",
      "execution_count": null,
      "id": "a183299e-96fe-4371-a118-42f2dc9fd0ea",
      "metadata": {
        "id": "a183299e-96fe-4371-a118-42f2dc9fd0ea",
        "outputId": "d543f7ae-4a43-4449-9086-8012cd2c1d90"
      },
      "outputs": [
        {
          "data": {
            "text/plain": [
              "<Axes: xlabel='Label'>"
            ]
          },
          "execution_count": 3,
          "metadata": {},
          "output_type": "execute_result"
        },
        {
          "data": {
            "image/png": "[encoded data removed]",
            "text/plain": [
              "<Figure size 640x480 with 1 Axes>"
            ]
          },
          "metadata": {},
          "output_type": "display_data"
        }
      ],
      "source": [
        "train_en[\"Label\"].value_counts().plot(kind = \"bar\")"
      ]
    },
    {
      "cell_type": "markdown",
      "id": "d9a1f958-60c9-4f2e-a2b2-b8220064eb8f",
      "metadata": {
        "id": "d9a1f958-60c9-4f2e-a2b2-b8220064eb8f"
      },
      "source": [
        "### The german dataset features 9245 training and 1028 test samples with rather unbalanced classes"
      ]
    },
    {
      "cell_type": "code",
      "execution_count": null,
      "id": "83676efc-a53c-4794-a7ce-add7aac7cac7",
      "metadata": {
        "id": "83676efc-a53c-4794-a7ce-add7aac7cac7",
        "outputId": "4b7e8505-c863-406f-ce93-dcdc6374eaa9"
      },
      "outputs": [
        {
          "name": "stdout",
          "output_type": "stream",
          "text": [
            "(9245, 2)\n",
            "(1028, 2)\n"
          ]
        },
        {
          "data": {
            "text/html": [
              "<div>\n",
              "<style scoped>\n",
              "    .dataframe tbody tr th:only-of-type {\n",
              "        vertical-align: middle;\n",
              "    }\n",
              "\n",
              "    .dataframe tbody tr th {\n",
              "        vertical-align: top;\n",
              "    }\n",
              "\n",
              "    .dataframe thead th {\n",
              "        text-align: right;\n",
              "    }\n",
              "</style>\n",
              "<table border=\"1\" class=\"dataframe\">\n",
              "  <thead>\n",
              "    <tr style=\"text-align: right;\">\n",
              "      <th></th>\n",
              "      <th>Label</th>\n",
              "      <th>Article</th>\n",
              "    </tr>\n",
              "  </thead>\n",
              "  <tbody>\n",
              "    <tr>\n",
              "      <th>0</th>\n",
              "      <td>Sport</td>\n",
              "      <td>21-Jähriger fällt wohl bis Saisonende aus. Wie...</td>\n",
              "    </tr>\n",
              "    <tr>\n",
              "      <th>1</th>\n",
              "      <td>Kultur</td>\n",
              "      <td>Erfundene Bilder zu Filmen, die als verloren g...</td>\n",
              "    </tr>\n",
              "    <tr>\n",
              "      <th>2</th>\n",
              "      <td>Web</td>\n",
              "      <td>Der frischgekürte CEO Sundar Pichai setzt auf ...</td>\n",
              "    </tr>\n",
              "    <tr>\n",
              "      <th>3</th>\n",
              "      <td>Wirtschaft</td>\n",
              "      <td>Putin: \"Einigung, dass wir Menge auf Niveau vo...</td>\n",
              "    </tr>\n",
              "    <tr>\n",
              "      <th>4</th>\n",
              "      <td>Inland</td>\n",
              "      <td>Estland sieht den künftigen österreichischen P...</td>\n",
              "    </tr>\n",
              "  </tbody>\n",
              "</table>\n",
              "</div>"
            ],
            "text/plain": [
              "        Label                                            Article\n",
              "0       Sport  21-Jähriger fällt wohl bis Saisonende aus. Wie...\n",
              "1      Kultur  Erfundene Bilder zu Filmen, die als verloren g...\n",
              "2         Web  Der frischgekürte CEO Sundar Pichai setzt auf ...\n",
              "3  Wirtschaft  Putin: \"Einigung, dass wir Menge auf Niveau vo...\n",
              "4      Inland  Estland sieht den künftigen österreichischen P..."
            ]
          },
          "execution_count": 4,
          "metadata": {},
          "output_type": "execute_result"
        }
      ],
      "source": [
        "print(train_de.shape)\n",
        "print(test_de.shape)\n",
        "train_de.head()"
      ]
    },
    {
      "cell_type": "code",
      "execution_count": null,
      "id": "5e5f54ab-6967-4018-8a0d-330dd974c856",
      "metadata": {
        "id": "5e5f54ab-6967-4018-8a0d-330dd974c856",
        "outputId": "0af74224-8fb4-46b4-a2d6-34dea0099f07"
      },
      "outputs": [
        {
          "data": {
            "text/plain": [
              "<Axes: xlabel='Label'>"
            ]
          },
          "execution_count": 5,
          "metadata": {},
          "output_type": "execute_result"
        },
        {
          "data": {
            "image/png": "[encoded data removed]",
            "text/plain": [
              "<Figure size 640x480 with 1 Axes>"
            ]
          },
          "metadata": {},
          "output_type": "display_data"
        }
      ],
      "source": [
        "train_de[\"Label\"].value_counts().plot(kind = \"bar\")"
      ]
    },
    {
      "cell_type": "markdown",
      "id": "d98d9d85-8875-430f-8f78-a3865e2774fe",
      "metadata": {
        "id": "d98d9d85-8875-430f-8f78-a3865e2774fe"
      },
      "source": [
        "# **spaCy**\n",
        "\n",
        "spaCy is a natural language processing library that comes with many built-in features that solve core linguistic tasks.  \n",
        "The following exercises should be carried out by getting familiar with the spaCy API. The documentation can be found at:\n",
        "\n",
        "[https://spacy.io/usage](https://spacy.io/usage)\n",
        "\n",
        "spaCy needs a language model to analyze text, we will work with both the english and the german language models which can be downloaded by executing the following:"
      ]
    },
    {
      "cell_type": "code",
      "execution_count": null,
      "id": "7a0e5a33-39fa-4c95-b7ce-6b0acc90b114",
      "metadata": {
        "scrolled": true,
        "id": "7a0e5a33-39fa-4c95-b7ce-6b0acc90b114"
      },
      "outputs": [],
      "source": [
        "%%capture output\n",
        "!python -m spacy download en_core_web_sm"
      ]
    },
    {
      "cell_type": "code",
      "execution_count": null,
      "id": "f2e6fc4d-48c7-4fc5-9317-c043409e57ac",
      "metadata": {
        "id": "f2e6fc4d-48c7-4fc5-9317-c043409e57ac",
        "outputId": "38418515-2efc-4b85-cb0c-92df9c83757f"
      },
      "outputs": [
        {
          "name": "stdout",
          "output_type": "stream",
          "text": [
            "Download and installation successful!\n"
          ]
        }
      ],
      "source": [
        "if \"Download and installation successful\" in output.stdout:\n",
        "    print(\"Download and installation successful!\")\n",
        "else:\n",
        "    print(output.stdout)\n",
        "    print(output.stderr)"
      ]
    },
    {
      "cell_type": "code",
      "execution_count": null,
      "id": "ce9c0b96-f09a-48c3-a74d-87f04501365a",
      "metadata": {
        "scrolled": true,
        "id": "ce9c0b96-f09a-48c3-a74d-87f04501365a"
      },
      "outputs": [],
      "source": [
        "%%capture output\n",
        "!python -m spacy download en_core_web_lg"
      ]
    },
    {
      "cell_type": "code",
      "execution_count": null,
      "id": "626a8532-8012-47de-ae26-1c0446bcbd64",
      "metadata": {
        "id": "626a8532-8012-47de-ae26-1c0446bcbd64",
        "outputId": "ce1345c0-260b-4ad4-a430-2bf144d56142"
      },
      "outputs": [
        {
          "name": "stdout",
          "output_type": "stream",
          "text": [
            "Download and installation successful!\n"
          ]
        }
      ],
      "source": [
        "if \"Download and installation successful\" in output.stdout:\n",
        "    print(\"Download and installation successful!\")\n",
        "else:\n",
        "    print(output.stdout)\n",
        "    print(output.stderr)"
      ]
    },
    {
      "cell_type": "code",
      "execution_count": null,
      "id": "ae4c28b8-8c4e-464c-9ec4-871f5f749d15",
      "metadata": {
        "scrolled": true,
        "id": "ae4c28b8-8c4e-464c-9ec4-871f5f749d15"
      },
      "outputs": [],
      "source": [
        "%%capture output\n",
        "!python -m spacy download de_core_news_sm"
      ]
    },
    {
      "cell_type": "code",
      "execution_count": null,
      "id": "13b86c68-6771-416d-9f2d-2daf5487f994",
      "metadata": {
        "id": "13b86c68-6771-416d-9f2d-2daf5487f994",
        "outputId": "e5d24bd9-35f6-4a06-da7d-571abd8d7f4c"
      },
      "outputs": [
        {
          "name": "stdout",
          "output_type": "stream",
          "text": [
            "Download and installation successful!\n"
          ]
        }
      ],
      "source": [
        "if \"Download and installation successful\" in output.stdout:\n",
        "    print(\"Download and installation successful!\")\n",
        "else:\n",
        "    print(output.stdout)\n",
        "    print(output.stderr)"
      ]
    },
    {
      "cell_type": "code",
      "execution_count": null,
      "id": "97e8a653-49e2-4a07-b0a3-d15e798ec55f",
      "metadata": {
        "scrolled": true,
        "id": "97e8a653-49e2-4a07-b0a3-d15e798ec55f"
      },
      "outputs": [],
      "source": [
        "%%capture output\n",
        "!python -m spacy download de_core_news_lg"
      ]
    },
    {
      "cell_type": "code",
      "execution_count": null,
      "id": "a4714995-79f3-4b23-a208-ae1775195d46",
      "metadata": {
        "id": "a4714995-79f3-4b23-a208-ae1775195d46",
        "outputId": "1ac9137d-d38f-4630-f1c9-c6baf233ec97"
      },
      "outputs": [
        {
          "name": "stdout",
          "output_type": "stream",
          "text": [
            "Download and installation successful!\n"
          ]
        }
      ],
      "source": [
        "if \"Download and installation successful\" in output.stdout:\n",
        "    print(\"Download and installation successful!\")\n",
        "else:\n",
        "    print(output.stdout)\n",
        "    print(output.stderr)"
      ]
    },
    {
      "cell_type": "markdown",
      "id": "a1e00d63-0f75-47ed-a974-b100f7d3006d",
      "metadata": {
        "id": "a1e00d63-0f75-47ed-a974-b100f7d3006d"
      },
      "source": [
        "### Loading models"
      ]
    },
    {
      "cell_type": "code",
      "execution_count": null,
      "id": "2dbccc8e-a6c8-4255-9750-84b488acd5dc",
      "metadata": {
        "id": "2dbccc8e-a6c8-4255-9750-84b488acd5dc"
      },
      "outputs": [],
      "source": [
        "import spacy\n",
        "import random\n",
        "import en_core_web_lg\n",
        "import de_core_news_lg\n",
        "\n",
        "nlp_en = en_core_web_lg.load()\n",
        "nlp_de = de_core_news_lg.load()"
      ]
    },
    {
      "cell_type": "markdown",
      "id": "747159d0-9d36-4cfc-971f-dff0315472c8",
      "metadata": {
        "tags": [],
        "id": "747159d0-9d36-4cfc-971f-dff0315472c8"
      },
      "source": [
        "### Use spaCy to tokenize a random Article of both the english and the german dataset"
      ]
    },
    {
      "cell_type": "code",
      "execution_count": null,
      "id": "b693eab1-6b6d-43e0-8b50-e3583bd73bba",
      "metadata": {
        "id": "b693eab1-6b6d-43e0-8b50-e3583bd73bba",
        "outputId": "8871463f-a97f-462a-f87f-2f48bd37b4b2"
      },
      "outputs": [
        {
          "name": "stdout",
          "output_type": "stream",
          "text": [
            "Pakistan says its troops have killed six suspected al-Qaida militants in a semi-autonomous tribal region near the Afghan border. Army officials say the clash took place early Sunday in a mountainous area near \n",
            "['Pakistan', 'says', 'its', 'troops', 'have', 'killed', 'six', 'suspected', 'al', '-', 'Qaida', 'militants', 'in', 'a', 'semi', '-', 'autonomous', 'tribal', 'region', 'near', 'the', 'Afghan', 'border', '.', 'Army', 'officials', 'say', 'the', 'clash', 'took', 'place', 'early', 'Sunday', 'in', 'a', 'mountainous', 'area', 'near']\n"
          ]
        }
      ],
      "source": [
        "# english\n",
        "r_en = random.randint(0, train_en.shape[0] - 1)\n",
        "tokens_en = nlp_en(train_en[\"Article\"].iloc[r_en])\n",
        "\n",
        "print(train_en[\"Article\"].iloc[r_en])\n",
        "print([token_en.text for token_en in tokens_en])"
      ]
    },
    {
      "cell_type": "code",
      "execution_count": null,
      "id": "021b6dc3-6013-4d5f-acd5-06876170f87f",
      "metadata": {
        "id": "021b6dc3-6013-4d5f-acd5-06876170f87f",
        "outputId": "6592baa5-5373-4914-966f-42699b9a480f"
      },
      "outputs": [
        {
          "name": "stdout",
          "output_type": "stream",
          "text": [
            "Exkanzler Wolfgang Schüssel wurde seinem medialen Beinamen \"Schweigekanzler\" im U-Ausschuss nicht gerecht. Tilo Berlin hat auch noch als Vorstandschef der Hypo Geld in die Bank gesteckt. Er empfahl der Republik, sich Geld von den Bayern zurückzuholen.. Wien – Eines einte die beiden Auskunftspersonen, die am Mittwoch vor dem parlamentarischen Hypo-U-Ausschuss ausgesagt haben. Exkanzler Wolfgang Schüssel (ÖVP) und Exbankchef und Investor Tilo Berlin schlängelten sich bei ihrer Ankunft an den vielen, vielen vor dem Budgetsaal wartenden Medienvertretern vorbei. Während Schüssel im Ausschusslokal selbst nolens volens ein Blitzlichtgewitter über sich ergehen ließ, lehnte Berlin die Ablichtung ab: Es gibt genug Fotos von mir. Exkanzler Schüssel hatte sich zuvor selbstsicher wie immer gezeigt. Manchmal ein wenig genervt (Für Sie Herr Doktor Schüssel, schulte er Team-Stronach-Mandatar Robert Lugar um), manchmal staatstragend (Hören Sie, ich war 2006 EU-Präsident. Ich weiß gar nicht, wo ich da genau herumgekurvt bin in der Weltgeschichte), manchmal aber auch auf dünnem Eis unterwegs. So beim Thema Einstieg der BayernLB in die damalige Kärntner Landesbank. Anlässlich der Frage Lugars, warum Schüssel 2006 bei der wankenden Bawag medienwirksam ein Sparbuch eröffnete, aber nicht bei der Hypo, kam der Exkanzler auf die Bayern zu reden. Die hätten damals schon großes Interesse gezeigt, die Hypo zu kaufen. In den folgenden Stunden kamen die Abgeordneten immer wieder auf dieses Thema zurück. Denn tatsächlich sind die Bayern erst Mitte 2007 mehrheitlich in die Hypo eingestiegen; die (hochgeheimen) Verhandlungen mit den Kärntnern sollen frühestens ab Anfang 2007 geführt worden sein, wird allseits beteuert. Von Bedeutung ist das vor allem auch wegen des Einstiegs der Investorengruppe Tilo Berlin ab Dezember 2006. Auch ihre Proponenten beteuern, vom Einstieg der Bayern, bei dem sie einen riesigen Schnitt machten, vorerst nicht gewusst zu haben. Immer wieder also wurde Schüssel nach Details für seine Information gefragt, immer weniger sagte er dazu. Alle möglichen Bayern, die immer wieder vorbeigekommen sind hätten ihr Interesse deponiert. Wer genau? Daran könne er sich nicht mehr erinnern. Der Exkanzler selbst hat sich mit dem Thema Hypo in seiner Ära offenbar nicht intensiv auseinandergesetzt. Er habe zwar 2006 beim (mittlerweile berühmten) Spaziergang mit den damaligen FMA-Chefs Heinrich Traumüller und Kurt Pribil mit selbigen auch über die Hypo geredet – dass die davon sprachen, dass die Hypo wie ein Sportflugzeug ohne Radar im Nebel unterwegs war, bestätigte er aber nicht. Die FMA-Chefs hätten gemeint, sie hätten alles unter Kontrolle – und sie haben mit dem Absetzungsverfahren gegen den Bankvorstand auch richtig reagiert, meinte Schüssel. Der im übrigen nicht müde wurde, die Aufsicht, die in seiner und Karl-Heinz Grassers Ära reformiert wurde, zu verteidigen. Nicht, dass sie heiligzusprechen ist, da sind schon Fehler passiert, aber man könne sie nicht so hinstellen, als sei sie zum Krenreiben.  Für ihn stünden in erster Linie immer die Wirtschaftsprüfer und der Aufsichtsrat in der Verantwortung. Tilo Berlin kam mit seinem Bruder, Anwalt Malte Berlin, ins Parlament. Er zeigte sich auskunftsfreudig, sofern vom Geschäfts- oder Bankgeheimnis entbunden, oder er sich wegen eines laufenden Finanzstrafverfahrens der Aussage entschlug. Das war der Fall, als Neos-Mandatar Rainer Hable Berlin vorhielt, dass den 70 Investoren der dritten Tranche (da war der Bayern-Einstieg schon bekannt) ein Geschenk gemacht wurde. Hable ließ es nicht dabei bewenden – und landete einen Treffer. Erst meinte Berlin, er selbst oder eine seiner Firmen sei bei dem Investment nicht mehr dabei gewesen. Nach Vorlage eines Aktes korrigierte er sich:_2,5 Mio. Euro habe eine Firma, an der er beteiligt war, in Genussscheine gesteckt. Laut Hable war der Vermögensverwalter gar mit 18 Mio. Euro in der dritten Tranche investiert, was Berlin bestritt. Dann ging der frühere Hypo-Chef in die Offensive. Er selbst sei bei dem Investment betrogen worden, weil die Hypo-Bilanzen falsch gewesen seien. Und:_Die Bayern hätten sich das erste Staatsgeld Ende 2008 erschlichen, damals sei der Rückzug aus der Hypo längst festgestanden. Anzeigen zu diesem Vorfall und betreffend die Verstaatlichung der Kärntner Bank ein Jahr später bei der Staatsanwaltschaft hätten aber kaum Folgen gezeitigt. Letzterer Sachverhalt sei mangels Anfangsverdachts gleich in den Müll gewandert. Berlins Tipp an die Regierung:_Die 900 Millionen Euro Partizipationskapital müsste man von den Bayern zurückfordern. Fehler bei sich vermag der Finanzmann hingegen nicht zu entdecken.\n",
            "['Exkanzler', 'Wolfgang', 'Schüssel', 'wurde', 'seinem', 'medialen', 'Beinamen', '\"', 'Schweigekanzler', '\"', 'im', 'U-Ausschuss', 'nicht', 'gerecht', '.', 'Tilo', 'Berlin', 'hat', 'auch', 'noch', 'als', 'Vorstandschef', 'der', 'Hypo', 'Geld', 'in', 'die', 'Bank', 'gesteckt', '.', 'Er', 'empfahl', 'der', 'Republik', ',', 'sich', 'Geld', 'von', 'den', 'Bayern', 'zurückzuholen', '..', 'Wien', '–', 'Eines', 'einte', 'die', 'beiden', 'Auskunftspersonen', ',', 'die', 'am', 'Mittwoch', 'vor', 'dem', 'parlamentarischen', 'Hypo-U-Ausschuss', 'ausgesagt', 'haben', '.', 'Exkanzler', 'Wolfgang', 'Schüssel', '(', 'ÖVP', ')', 'und', 'Exbankchef', 'und', 'Investor', 'Tilo', 'Berlin', 'schlängelten', 'sich', 'bei', 'ihrer', 'Ankunft', 'an', 'den', 'vielen', ',', 'vielen', 'vor', 'dem', 'Budgetsaal', 'wartenden', 'Medienvertretern', 'vorbei', '.', 'Während', 'Schüssel', 'im', 'Ausschusslokal', 'selbst', 'nolens', 'volens', 'ein', 'Blitzlichtgewitter', 'über', 'sich', 'ergehen', 'ließ', ',', 'lehnte', 'Berlin', 'die', 'Ablichtung', 'ab', ':', 'Es', 'gibt', 'genug', 'Fotos', 'von', 'mir', '.', 'Exkanzler', 'Schüssel', 'hatte', 'sich', 'zuvor', 'selbstsicher', 'wie', 'immer', 'gezeigt', '.', 'Manchmal', 'ein', 'wenig', 'genervt', '(', 'Für', 'Sie', 'Herr', 'Doktor', 'Schüssel', ',', 'schulte', 'er', 'Team-Stronach-Mandatar', 'Robert', 'Lugar', 'um', ')', ',', 'manchmal', 'staatstragend', '(', 'Hören', 'Sie', ',', 'ich', 'war', '2006', 'EU-Präsident', '.', 'Ich', 'weiß', 'gar', 'nicht', ',', 'wo', 'ich', 'da', 'genau', 'herumgekurvt', 'bin', 'in', 'der', 'Weltgeschichte', ')', ',', 'manchmal', 'aber', 'auch', 'auf', 'dünnem', 'Eis', 'unterwegs', '.', 'So', 'beim', 'Thema', 'Einstieg', 'der', 'BayernLB', 'in', 'die', 'damalige', 'Kärntner', 'Landesbank', '.', 'Anlässlich', 'der', 'Frage', 'Lugars', ',', 'warum', 'Schüssel', '2006', 'bei', 'der', 'wankenden', 'Bawag', 'medienwirksam', 'ein', 'Sparbuch', 'eröffnete', ',', 'aber', 'nicht', 'bei', 'der', 'Hypo', ',', 'kam', 'der', 'Exkanzler', 'auf', 'die', 'Bayern', 'zu', 'reden', '.', 'Die', 'hätten', 'damals', 'schon', 'großes', 'Interesse', 'gezeigt', ',', 'die', 'Hypo', 'zu', 'kaufen', '.', 'In', 'den', 'folgenden', 'Stunden', 'kamen', 'die', 'Abgeordneten', 'immer', 'wieder', 'auf', 'dieses', 'Thema', 'zurück', '.', 'Denn', 'tatsächlich', 'sind', 'die', 'Bayern', 'erst', 'Mitte', '2007', 'mehrheitlich', 'in', 'die', 'Hypo', 'eingestiegen', ';', 'die', '(', 'hochgeheimen', ')', 'Verhandlungen', 'mit', 'den', 'Kärntnern', 'sollen', 'frühestens', 'ab', 'Anfang', '2007', 'geführt', 'worden', 'sein', ',', 'wird', 'allseits', 'beteuert', '.', 'Von', 'Bedeutung', 'ist', 'das', 'vor', 'allem', 'auch', 'wegen', 'des', 'Einstiegs', 'der', 'Investorengruppe', 'Tilo', 'Berlin', 'ab', 'Dezember', '2006.', 'Auch', 'ihre', 'Proponenten', 'beteuern', ',', 'vom', 'Einstieg', 'der', 'Bayern', ',', 'bei', 'dem', 'sie', 'einen', 'riesigen', 'Schnitt', 'machten', ',', 'vorerst', 'nicht', 'gewusst', 'zu', 'haben', '.', 'Immer', 'wieder', 'also', 'wurde', 'Schüssel', 'nach', 'Details', 'für', 'seine', 'Information', 'gefragt', ',', 'immer', 'weniger', 'sagte', 'er', 'dazu', '.', 'Alle', 'möglichen', 'Bayern', ',', 'die', 'immer', 'wieder', 'vorbeigekommen', 'sind', 'hätten', 'ihr', 'Interesse', 'deponiert', '.', 'Wer', 'genau', '?', 'Daran', 'könne', 'er', 'sich', 'nicht', 'mehr', 'erinnern', '.', 'Der', 'Exkanzler', 'selbst', 'hat', 'sich', 'mit', 'dem', 'Thema', 'Hypo', 'in', 'seiner', 'Ära', 'offenbar', 'nicht', 'intensiv', 'auseinandergesetzt', '.', 'Er', 'habe', 'zwar', '2006', 'beim', '(', 'mittlerweile', 'berühmten', ')', 'Spaziergang', 'mit', 'den', 'damaligen', 'FMA-Chefs', 'Heinrich', 'Traumüller', 'und', 'Kurt', 'Pribil', 'mit', 'selbigen', 'auch', 'über', 'die', 'Hypo', 'geredet', '–', 'dass', 'die', 'davon', 'sprachen', ',', 'dass', 'die', 'Hypo', 'wie', 'ein', 'Sportflugzeug', 'ohne', 'Radar', 'im', 'Nebel', 'unterwegs', 'war', ',', 'bestätigte', 'er', 'aber', 'nicht', '.', 'Die', 'FMA-Chefs', 'hätten', 'gemeint', ',', 'sie', 'hätten', 'alles', 'unter', 'Kontrolle', '–', 'und', 'sie', 'haben', 'mit', 'dem', 'Absetzungsverfahren', 'gegen', 'den', 'Bankvorstand', 'auch', 'richtig', 'reagiert', ',', 'meinte', 'Schüssel', '.', 'Der', 'im', 'übrigen', 'nicht', 'müde', 'wurde', ',', 'die', 'Aufsicht', ',', 'die', 'in', 'seiner', 'und', 'Karl-Heinz', 'Grassers', 'Ära', 'reformiert', 'wurde', ',', 'zu', 'verteidigen', '.', 'Nicht', ',', 'dass', 'sie', 'heiligzusprechen', 'ist', ',', 'da', 'sind', 'schon', 'Fehler', 'passiert', ',', 'aber', 'man', 'könne', 'sie', 'nicht', 'so', 'hinstellen', ',', 'als', 'sei', 'sie', 'zum', 'Krenreiben', '.', ' ', 'Für', 'ihn', 'stünden', 'in', 'erster', 'Linie', 'immer', 'die', 'Wirtschaftsprüfer', 'und', 'der', 'Aufsichtsrat', 'in', 'der', 'Verantwortung', '.', 'Tilo', 'Berlin', 'kam', 'mit', 'seinem', 'Bruder', ',', 'Anwalt', 'Malte', 'Berlin', ',', 'ins', 'Parlament', '.', 'Er', 'zeigte', 'sich', 'auskunftsfreudig', ',', 'sofern', 'vom', 'Geschäfts-', 'oder', 'Bankgeheimnis', 'entbunden', ',', 'oder', 'er', 'sich', 'wegen', 'eines', 'laufenden', 'Finanzstrafverfahrens', 'der', 'Aussage', 'entschlug', '.', 'Das', 'war', 'der', 'Fall', ',', 'als', 'Neos-Mandatar', 'Rainer', 'Hable', 'Berlin', 'vorhielt', ',', 'dass', 'den', '70', 'Investoren', 'der', 'dritten', 'Tranche', '(', 'da', 'war', 'der', 'Bayern-Einstieg', 'schon', 'bekannt', ')', 'ein', 'Geschenk', 'gemacht', 'wurde', '.', 'Hable', 'ließ', 'es', 'nicht', 'dabei', 'bewenden', '–', 'und', 'landete', 'einen', 'Treffer', '.', 'Erst', 'meinte', 'Berlin', ',', 'er', 'selbst', 'oder', 'eine', 'seiner', 'Firmen', 'sei', 'bei', 'dem', 'Investment', 'nicht', 'mehr', 'dabei', 'gewesen', '.', 'Nach', 'Vorlage', 'eines', 'Aktes', 'korrigierte', 'er', 'sich:_2,5', 'Mio.', 'Euro', 'habe', 'eine', 'Firma', ',', 'an', 'der', 'er', 'beteiligt', 'war', ',', 'in', 'Genussscheine', 'gesteckt', '.', 'Laut', 'Hable', 'war', 'der', 'Vermögensverwalter', 'gar', 'mit', '18', 'Mio.', 'Euro', 'in', 'der', 'dritten', 'Tranche', 'investiert', ',', 'was', 'Berlin', 'bestritt', '.', 'Dann', 'ging', 'der', 'frühere', 'Hypo-Chef', 'in', 'die', 'Offensive', '.', 'Er', 'selbst', 'sei', 'bei', 'dem', 'Investment', 'betrogen', 'worden', ',', 'weil', 'die', 'Hypo-Bilanzen', 'falsch', 'gewesen', 'seien', '.', 'Und:_Die', 'Bayern', 'hätten', 'sich', 'das', 'erste', 'Staatsgeld', 'Ende', '2008', 'erschlichen', ',', 'damals', 'sei', 'der', 'Rückzug', 'aus', 'der', 'Hypo', 'längst', 'festgestanden', '.', 'Anzeigen', 'zu', 'diesem', 'Vorfall', 'und', 'betreffend', 'die', 'Verstaatlichung', 'der', 'Kärntner', 'Bank', 'ein', 'Jahr', 'später', 'bei', 'der', 'Staatsanwaltschaft', 'hätten', 'aber', 'kaum', 'Folgen', 'gezeitigt', '.', 'Letzterer', 'Sachverhalt', 'sei', 'mangels', 'Anfangsverdachts', 'gleich', 'in', 'den', 'Müll', 'gewandert', '.', 'Berlins', 'Tipp', 'an', 'die', 'Regierung:_Die', '900', 'Millionen', 'Euro', 'Partizipationskapital', 'müsste', 'man', 'von', 'den', 'Bayern', 'zurückfordern', '.', 'Fehler', 'bei', 'sich', 'vermag', 'der', 'Finanzmann', 'hingegen', 'nicht', 'zu', 'entdecken', '.']\n"
          ]
        }
      ],
      "source": [
        "# german\n",
        "r_de = random.randint(0, train_de.shape[0] - 1)\n",
        "tokens_de = nlp_de(train_de[\"Article\"].iloc[r_de])\n",
        "\n",
        "print(train_de[\"Article\"].iloc[r_de])\n",
        "print([token_de.text for token_de in tokens_de])"
      ]
    },
    {
      "cell_type": "markdown",
      "id": "64bf2b76-3c49-49fe-9e07-2e21d6292aa3",
      "metadata": {
        "id": "64bf2b76-3c49-49fe-9e07-2e21d6292aa3"
      },
      "source": [
        "### Use spaCy to lemmatize a random Article of both the english and the german dataset"
      ]
    },
    {
      "cell_type": "code",
      "execution_count": null,
      "id": "d1687de7-0473-473b-8a55-fc7657657d9f",
      "metadata": {
        "id": "d1687de7-0473-473b-8a55-fc7657657d9f",
        "outputId": "b0309af1-e58c-4cda-f95c-b87cd4222411"
      },
      "outputs": [
        {
          "name": "stdout",
          "output_type": "stream",
          "text": [
            "Pakistan says its troops have killed six suspected al-Qaida militants in a semi-autonomous tribal region near the Afghan border. Army officials say the clash took place early Sunday in a mountainous area near \n",
            "['Pakistan', 'say', 'its', 'troop', 'have', 'kill', 'six', 'suspect', 'al', '-', 'Qaida', 'militant', 'in', 'a', 'semi', '-', 'autonomous', 'tribal', 'region', 'near', 'the', 'afghan', 'border', '.', 'army', 'official', 'say', 'the', 'clash', 'take', 'place', 'early', 'Sunday', 'in', 'a', 'mountainous', 'area', 'near']\n"
          ]
        }
      ],
      "source": [
        "print(train_en[\"Article\"].iloc[r_en])\n",
        "print([token_en.lemma_ for token_en in tokens_en])"
      ]
    },
    {
      "cell_type": "code",
      "execution_count": null,
      "id": "c85e4e95-18e3-40c4-bcad-277a9b3f1b61",
      "metadata": {
        "id": "c85e4e95-18e3-40c4-bcad-277a9b3f1b61",
        "outputId": "d6cb89bc-0b13-4ab9-c04a-e255b6373c03"
      },
      "outputs": [
        {
          "name": "stdout",
          "output_type": "stream",
          "text": [
            "Exkanzler Wolfgang Schüssel wurde seinem medialen Beinamen \"Schweigekanzler\" im U-Ausschuss nicht gerecht. Tilo Berlin hat auch noch als Vorstandschef der Hypo Geld in die Bank gesteckt. Er empfahl der Republik, sich Geld von den Bayern zurückzuholen.. Wien – Eines einte die beiden Auskunftspersonen, die am Mittwoch vor dem parlamentarischen Hypo-U-Ausschuss ausgesagt haben. Exkanzler Wolfgang Schüssel (ÖVP) und Exbankchef und Investor Tilo Berlin schlängelten sich bei ihrer Ankunft an den vielen, vielen vor dem Budgetsaal wartenden Medienvertretern vorbei. Während Schüssel im Ausschusslokal selbst nolens volens ein Blitzlichtgewitter über sich ergehen ließ, lehnte Berlin die Ablichtung ab: Es gibt genug Fotos von mir. Exkanzler Schüssel hatte sich zuvor selbstsicher wie immer gezeigt. Manchmal ein wenig genervt (Für Sie Herr Doktor Schüssel, schulte er Team-Stronach-Mandatar Robert Lugar um), manchmal staatstragend (Hören Sie, ich war 2006 EU-Präsident. Ich weiß gar nicht, wo ich da genau herumgekurvt bin in der Weltgeschichte), manchmal aber auch auf dünnem Eis unterwegs. So beim Thema Einstieg der BayernLB in die damalige Kärntner Landesbank. Anlässlich der Frage Lugars, warum Schüssel 2006 bei der wankenden Bawag medienwirksam ein Sparbuch eröffnete, aber nicht bei der Hypo, kam der Exkanzler auf die Bayern zu reden. Die hätten damals schon großes Interesse gezeigt, die Hypo zu kaufen. In den folgenden Stunden kamen die Abgeordneten immer wieder auf dieses Thema zurück. Denn tatsächlich sind die Bayern erst Mitte 2007 mehrheitlich in die Hypo eingestiegen; die (hochgeheimen) Verhandlungen mit den Kärntnern sollen frühestens ab Anfang 2007 geführt worden sein, wird allseits beteuert. Von Bedeutung ist das vor allem auch wegen des Einstiegs der Investorengruppe Tilo Berlin ab Dezember 2006. Auch ihre Proponenten beteuern, vom Einstieg der Bayern, bei dem sie einen riesigen Schnitt machten, vorerst nicht gewusst zu haben. Immer wieder also wurde Schüssel nach Details für seine Information gefragt, immer weniger sagte er dazu. Alle möglichen Bayern, die immer wieder vorbeigekommen sind hätten ihr Interesse deponiert. Wer genau? Daran könne er sich nicht mehr erinnern. Der Exkanzler selbst hat sich mit dem Thema Hypo in seiner Ära offenbar nicht intensiv auseinandergesetzt. Er habe zwar 2006 beim (mittlerweile berühmten) Spaziergang mit den damaligen FMA-Chefs Heinrich Traumüller und Kurt Pribil mit selbigen auch über die Hypo geredet – dass die davon sprachen, dass die Hypo wie ein Sportflugzeug ohne Radar im Nebel unterwegs war, bestätigte er aber nicht. Die FMA-Chefs hätten gemeint, sie hätten alles unter Kontrolle – und sie haben mit dem Absetzungsverfahren gegen den Bankvorstand auch richtig reagiert, meinte Schüssel. Der im übrigen nicht müde wurde, die Aufsicht, die in seiner und Karl-Heinz Grassers Ära reformiert wurde, zu verteidigen. Nicht, dass sie heiligzusprechen ist, da sind schon Fehler passiert, aber man könne sie nicht so hinstellen, als sei sie zum Krenreiben.  Für ihn stünden in erster Linie immer die Wirtschaftsprüfer und der Aufsichtsrat in der Verantwortung. Tilo Berlin kam mit seinem Bruder, Anwalt Malte Berlin, ins Parlament. Er zeigte sich auskunftsfreudig, sofern vom Geschäfts- oder Bankgeheimnis entbunden, oder er sich wegen eines laufenden Finanzstrafverfahrens der Aussage entschlug. Das war der Fall, als Neos-Mandatar Rainer Hable Berlin vorhielt, dass den 70 Investoren der dritten Tranche (da war der Bayern-Einstieg schon bekannt) ein Geschenk gemacht wurde. Hable ließ es nicht dabei bewenden – und landete einen Treffer. Erst meinte Berlin, er selbst oder eine seiner Firmen sei bei dem Investment nicht mehr dabei gewesen. Nach Vorlage eines Aktes korrigierte er sich:_2,5 Mio. Euro habe eine Firma, an der er beteiligt war, in Genussscheine gesteckt. Laut Hable war der Vermögensverwalter gar mit 18 Mio. Euro in der dritten Tranche investiert, was Berlin bestritt. Dann ging der frühere Hypo-Chef in die Offensive. Er selbst sei bei dem Investment betrogen worden, weil die Hypo-Bilanzen falsch gewesen seien. Und:_Die Bayern hätten sich das erste Staatsgeld Ende 2008 erschlichen, damals sei der Rückzug aus der Hypo längst festgestanden. Anzeigen zu diesem Vorfall und betreffend die Verstaatlichung der Kärntner Bank ein Jahr später bei der Staatsanwaltschaft hätten aber kaum Folgen gezeitigt. Letzterer Sachverhalt sei mangels Anfangsverdachts gleich in den Müll gewandert. Berlins Tipp an die Regierung:_Die 900 Millionen Euro Partizipationskapital müsste man von den Bayern zurückfordern. Fehler bei sich vermag der Finanzmann hingegen nicht zu entdecken.\n",
            "['Exkanzler', 'Wolfgang', 'Schüssel', 'werden', 'sein', 'medial', 'Beinamen', '--', 'Schweigekanzler', '--', 'in', 'U-Ausschuss', 'nicht', 'gerecht', '--', 'Tilo', 'Berlin', 'haben', 'auch', 'noch', 'als', 'Vorstandschef', 'der', 'Hypo', 'Geld', 'in', 'der', 'Bank', 'stecken', '--', 'er', 'empfehlen', 'der', 'Republik', '--', 'sich', 'Geld', 'von', 'der', 'Bayern', 'zurückholen', '..', 'Wien', '--', 'Eines', 'einen', 'der', 'beide', 'Auskunftsperson', '--', 'der', 'an', 'Mittwoch', 'vor', 'der', 'parlamentarisch', 'Hypo-U-Ausschuss', 'aussagen', 'haben', '--', 'Exkanzler', 'Wolfgang', 'Schüssel', '--', 'ÖVP', '--', 'und', 'Exbankchef', 'und', 'Investor', 'Tilo', 'Berlin', 'schlängelen', 'sich', 'bei', 'ihr', 'Ankunft', 'an', 'der', 'vieler', '--', 'viele', 'vor', 'der', 'Budgetsaal', 'wartend', 'Medienvertreter', 'vorbei', '--', 'während', 'Schüssel', 'in', 'Ausschusslokal', 'selbst', 'nolens', 'volens', 'ein', 'Blitzlichtgewitter', 'über', 'sich', 'ergehen', 'lassen', '--', 'lehnen', 'Berlin', 'der', 'Ablichtung', 'ab', '--', 'es', 'geben', 'genug', 'Foto', 'von', 'mir', '--', 'Exkanzler', 'Schüssel', 'haben', 'sich', 'zuvor', 'selbstsich', 'wie', 'immer', 'zeigen', '--', 'manchmal', 'ein', 'wenig', 'genervt', '--', 'für', 'sie', 'Herr', 'Doktor', 'Schüssel', '--', 'schulen', 'er', 'Team-Stronach-Mandatar', 'Robert', 'Lugar', 'um', '--', '--', 'manchmal', 'staatstragend', '--', 'hören', 'sie', '--', 'ich', 'sein', '2006', 'EU-Präsident', '--', 'ich', 'wissen', 'gar', 'nicht', '--', 'wo', 'ich', 'da', 'genau', 'herumgekurvt', 'sein', 'in', 'der', 'Weltgeschichte', '--', '--', 'manchmal', 'aber', 'auch', 'auf', 'dünn', 'Eis', 'unterwegs', '--', 'so', 'bei', 'Thema', 'Einstieg', 'der', 'BayernLB', 'in', 'der', 'damalig', 'Kärntner', 'Landesbank', '--', 'anlässlich', 'der', 'Frage', 'Lugar', '--', 'warum', 'Schüssel', '2006', 'bei', 'der', 'wankend', 'Bawag', 'medienwirksam', 'ein', 'Sparbuch', 'eröffnen', '--', 'aber', 'nicht', 'bei', 'der', 'Hypo', '--', 'kommen', 'der', 'Exkanzler', 'auf', 'der', 'Bayer', 'zu', 'reden', '--', 'der', 'haben', 'damals', 'schon', 'groß', 'Interesse', 'zeigen', '--', 'der', 'Hypo', 'zu', 'kaufen', '--', 'in', 'der', 'folgend', 'Stunde', 'kommen', 'der', 'abgeordneter', 'immer', 'wieder', 'auf', 'dieser', 'Thema', 'zurück', '--', 'denn', 'tatsächlich', 'sein', 'der', 'Bayer', 'erst', 'Mitte', '2007', 'mehrheitlich', 'in', 'der', 'Hypo', 'einsteigen', '--', 'der', '--', 'hochgeheimen', '--', 'Verhandlung', 'mit', 'der', 'Kärntner', 'sollen', 'frühestens', 'ab', 'Anfang', '2007', 'führen', 'werden', 'sein', '--', 'werden', 'allseits', 'beteuern', '--', 'von', 'Bedeutung', 'sein', 'der', 'vor', 'alle', 'auch', 'wegen', 'der', 'Einstieg', 'der', 'Investorengruppe', 'Tilo', 'Berlin', 'ab', 'Dezember', '2006.', 'auch', 'ihr', 'Proponente', 'beteuern', '--', 'von', 'Einstieg', 'der', 'Bayer', '--', 'bei', 'der', 'sie', 'ein', 'riesig', 'Schnitt', 'machen', '--', 'vorerst', 'nicht', 'wussen', 'zu', 'haben', '--', 'immer', 'wieder', 'also', 'werden', 'Schüssel', 'nach', 'Detail', 'für', 'sein', 'Information', 'fragen', '--', 'immer', 'weniger', 'sagen', 'er', 'dazu', '--', 'aller', 'möglich', 'Bayer', '--', 'der', 'immer', 'wieder', 'vorbeigekommen', 'sein', 'haben', 'ihr', 'Interesse', 'deponieren', '--', 'wer', 'genau', '--', 'daran', 'können', 'er', 'sich', 'nicht', 'mehr', 'erinnern', '--', 'der', 'Exkanzler', 'selbst', 'haben', 'sich', 'mit', 'der', 'Thema', 'Hypo', 'in', 'sein', 'Ära', 'offenbar', 'nicht', 'intensiv', 'auseinandergesetzt', '--', 'er', 'haben', 'zwar', '2006', 'bei', '--', 'mittlerweile', 'berühmt', '--', 'Spaziergang', 'mit', 'der', 'damalig', 'FMA-Chef', 'Heinrich', 'Traumüller', 'und', 'Kurt', 'Pribil', 'mit', 'selbig', 'auch', 'über', 'der', 'Hypo', 'reden', '--', 'dass', 'der', 'davon', 'sprechen', '--', 'dass', 'der', 'Hypo', 'wie', 'ein', 'Sportflugzeug', 'ohne', 'Radar', 'in', 'Nebel', 'unterwegs', 'sein', '--', 'bestätigen', 'er', 'aber', 'nicht', '--', 'der', 'FMA-Chef', 'haben', 'meinen', '--', 'sie', 'haben', 'alle', 'unter', 'Kontrolle', '-', 'und', 'sie', 'haben', 'mit', 'der', 'Absetzungsverfahr', 'gegen', 'der', 'Bankvorstand', 'auch', 'richtig', 'reagieren', '--', 'meinen', 'Schüssel', '--', 'der', 'in', 'übrig', 'nicht', 'müde', 'werden', '--', 'der', 'Aufsicht', '--', 'der', 'in', 'sein', 'und', 'Karl-Heinz', 'Grasser', 'Ära', 'reformieren', 'werden', '--', 'zu', 'verteidigen', '--', 'nicht', '--', 'dass', 'sie', 'heiligzusprech', 'sein', '--', 'da', 'sein', 'schon', 'Fehler', 'passieren', '--', 'aber', 'man', 'können', 'sie', 'nicht', 'so', 'hinstellen', '--', 'als', 'sein', 'sie', 'zu', 'Krenreibe', '--', ' ', 'für', 'ihn', 'stehen', 'in', 'erster', 'Linie', 'immer', 'der', 'Wirtschaftsprüfer', 'und', 'der', 'Aufsichtsrat', 'in', 'der', 'Verantwortung', '--', 'Tilo', 'Berlin', 'kommen', 'mit', 'sein', 'Bruder', '--', 'Anwalt', 'Malte', 'Berlin', '--', 'in', 'Parlament', '--', 'er', 'zeigen', 'sich', 'auskunftsfreudig', '--', 'sofern', 'von', 'Geschäft', 'oder', 'Bankgeheimnis', 'entbinden', '--', 'oder', 'er', 'sich', 'wegen', 'ein', 'laufend', 'Finanzstrafverfahren', 'der', 'Aussage', 'entschlagen', '--', 'der', 'sein', 'der', 'Fall', '--', 'als', 'Neos-Mandatar', 'Rainer', 'Hable', 'Berlin', 'vorhalten', '--', 'dass', 'der', '70', 'Investor', 'der', 'dritter', 'Tranche', '--', 'da', 'sein', 'der', 'Bayern-Einstieg', 'schon', 'bekannt', '--', 'ein', 'Geschenk', 'machen', 'werden', '--', 'Hable', 'lassen', 'es', 'nicht', 'dabei', 'bewenden', '--', 'und', 'landen', 'ein', 'Treffer', '--', 'erst', 'meinen', 'Berlin', '--', 'er', 'selbst', 'oder', 'einer', 'sein', 'Firma', 'sein', 'bei', 'der', 'Investment', 'nicht', 'mehr', 'dabei', 'sein', '--', 'nach', 'Vorlage', 'ein', 'Akt', 'korrigieren', 'er', 'sich:_2,5', 'Mio.', 'Euro', 'haben', 'ein', 'Firma', '--', 'an', 'der', 'er', 'beteiligen', 'sein', '--', 'in', 'Genussschein', 'stecken', '--', 'laut', 'Hable', 'sein', 'der', 'Vermögensverwalter', 'gar', 'mit', '18', 'Mio.', 'Euro', 'in', 'der', 'dritter', 'Tranche', 'investieren', '--', 'wer', 'Berlin', 'bestreiten', '--', 'dann', 'gehen', 'der', 'früh', 'Hypo-Chef', 'in', 'der', 'Offensive', '--', 'er', 'selbst', 'sein', 'bei', 'der', 'Investment', 'betrügen', 'werden', '--', 'weil', 'der', 'Hypo-Bilanze', 'falsch', 'sein', 'sein', '--', 'Und:_Die', 'Bayern', 'haben', 'sich', 'der', 'erster', 'Staatsgeld', 'Ende', '2008', 'erschlich', '--', 'damals', 'sein', 'der', 'Rückzug', 'aus', 'der', 'Hypo', 'längst', 'feststehen', '--', 'Anzeige', 'zu', 'dieser', 'Vorfall', 'und', 'betreffend', 'der', 'Verstaatlichung', 'der', 'Kärntner', 'Bank', 'ein', 'Jahr', 'spät', 'bei', 'der', 'Staatsanwaltschaft', 'haben', 'aber', 'kaum', 'Folge', 'zeitigen', '--', 'Letzterer', 'Sachverhalt', 'sein', 'mangels', 'Anfangsverdachts', 'gleich', 'in', 'der', 'Müll', 'wandern', '--', 'Berlin', 'Tipp', 'an', 'der', 'Regierung:_Die', '900', 'Million', 'Euro', 'Partizipationskapital', 'müsste', 'man', 'von', 'der', 'Bayer', 'zurückfordern', '--', 'Fehler', 'bei', 'sich', 'vermögen', 'der', 'Finanzmann', 'hingegen', 'nicht', 'zu', 'entdecken', '--']\n"
          ]
        }
      ],
      "source": [
        "print(train_de[\"Article\"].iloc[r_de])\n",
        "print([token_de.lemma_ for token_de in tokens_de])"
      ]
    },
    {
      "cell_type": "markdown",
      "id": "56da6a4a-e092-413f-aadc-9f3374f26e64",
      "metadata": {
        "id": "56da6a4a-e092-413f-aadc-9f3374f26e64"
      },
      "source": [
        "### Use spaCy for Part-Of-Speech tagging of a random Article of both the english and the german dataset\n",
        "\n",
        "- Either print the token attributes or visualize them as a table!\n",
        "- What do the attributes describe?\n",
        "- Visualize the POS attribute as a dependency plot with spaCy's displacy!\n",
        "- Optional: For the german dataset visualize sentences separately for better readability."
      ]
    },
    {
      "cell_type": "code",
      "execution_count": null,
      "id": "914d85f2-bc04-4405-bf86-8aed3528d2e1",
      "metadata": {
        "id": "914d85f2-bc04-4405-bf86-8aed3528d2e1",
        "outputId": "789f88fd-a200-4803-9e25-a16ccbef5125"
      },
      "outputs": [
        {
          "data": {
            "text/html": [
              "<div>\n",
              "<style scoped>\n",
              "    .dataframe tbody tr th:only-of-type {\n",
              "        vertical-align: middle;\n",
              "    }\n",
              "\n",
              "    .dataframe tbody tr th {\n",
              "        vertical-align: top;\n",
              "    }\n",
              "\n",
              "    .dataframe thead th {\n",
              "        text-align: right;\n",
              "    }\n",
              "</style>\n",
              "<table border=\"1\" class=\"dataframe\">\n",
              "  <thead>\n",
              "    <tr style=\"text-align: right;\">\n",
              "      <th></th>\n",
              "      <th>Text</th>\n",
              "      <th>Lemma</th>\n",
              "      <th>POS</th>\n",
              "      <th>Tag</th>\n",
              "      <th>Dep</th>\n",
              "      <th>Shape</th>\n",
              "      <th>is alpha</th>\n",
              "      <th>is stop</th>\n",
              "    </tr>\n",
              "  </thead>\n",
              "  <tbody>\n",
              "    <tr>\n",
              "      <th>0</th>\n",
              "      <td>Pakistan</td>\n",
              "      <td>Pakistan</td>\n",
              "      <td>PROPN</td>\n",
              "      <td>NNP</td>\n",
              "      <td>nsubj</td>\n",
              "      <td>Xxxxx</td>\n",
              "      <td>True</td>\n",
              "      <td>False</td>\n",
              "    </tr>\n",
              "    <tr>\n",
              "      <th>1</th>\n",
              "      <td>says</td>\n",
              "      <td>say</td>\n",
              "      <td>VERB</td>\n",
              "      <td>VBZ</td>\n",
              "      <td>ROOT</td>\n",
              "      <td>xxxx</td>\n",
              "      <td>True</td>\n",
              "      <td>False</td>\n",
              "    </tr>\n",
              "    <tr>\n",
              "      <th>2</th>\n",
              "      <td>its</td>\n",
              "      <td>its</td>\n",
              "      <td>PRON</td>\n",
              "      <td>PRP$</td>\n",
              "      <td>poss</td>\n",
              "      <td>xxx</td>\n",
              "      <td>True</td>\n",
              "      <td>True</td>\n",
              "    </tr>\n",
              "    <tr>\n",
              "      <th>3</th>\n",
              "      <td>troops</td>\n",
              "      <td>troop</td>\n",
              "      <td>NOUN</td>\n",
              "      <td>NNS</td>\n",
              "      <td>nsubj</td>\n",
              "      <td>xxxx</td>\n",
              "      <td>True</td>\n",
              "      <td>False</td>\n",
              "    </tr>\n",
              "    <tr>\n",
              "      <th>4</th>\n",
              "      <td>have</td>\n",
              "      <td>have</td>\n",
              "      <td>AUX</td>\n",
              "      <td>VBP</td>\n",
              "      <td>aux</td>\n",
              "      <td>xxxx</td>\n",
              "      <td>True</td>\n",
              "      <td>True</td>\n",
              "    </tr>\n",
              "  </tbody>\n",
              "</table>\n",
              "</div>"
            ],
            "text/plain": [
              "       Text     Lemma    POS   Tag    Dep  Shape  is alpha  is stop\n",
              "0  Pakistan  Pakistan  PROPN   NNP  nsubj  Xxxxx      True    False\n",
              "1      says       say   VERB   VBZ   ROOT   xxxx      True    False\n",
              "2       its       its   PRON  PRP$   poss    xxx      True     True\n",
              "3    troops     troop   NOUN   NNS  nsubj   xxxx      True    False\n",
              "4      have      have    AUX   VBP    aux   xxxx      True     True"
            ]
          },
          "execution_count": 19,
          "metadata": {},
          "output_type": "execute_result"
        }
      ],
      "source": [
        "\"\"\"\n",
        "    Text: The original word text.\n",
        "    Lemma: The base form of the word.\n",
        "    POS: The simple UPOS part-of-speech tag.\n",
        "    Tag: The detailed part-of-speech tag.\n",
        "    Dep: Syntactic dependency, i.e. the relation between tokens.\n",
        "    Shape: The word shape – capitalization, punctuation, digits.\n",
        "    is alpha: Is the token an alpha character?\n",
        "    is stop: Is the token part of a stop list, i.e. the most common words of the language?\n",
        "\"\"\"\n",
        "\n",
        "token_df_en = pd.DataFrame({\"Text\": [token_en.text for token_en in tokens_en],\n",
        "                            \"Lemma\": [token_en.lemma_ for token_en in tokens_en],\n",
        "                            \"POS\": [token_en.pos_ for token_en in tokens_en],\n",
        "                            \"Tag\": [token_en.tag_ for token_en in tokens_en],\n",
        "                            \"Dep\": [token_en.dep_ for token_en in tokens_en],\n",
        "                            \"Shape\": [token_en.shape_ for token_en in tokens_en],\n",
        "                            \"is alpha\": [token_en.is_alpha for token_en in tokens_en],\n",
        "                            \"is stop\": [token_en.is_stop for token_en in tokens_en]})\n",
        "\n",
        "token_df_en.head()"
      ]
    },
    {
      "cell_type": "code",
      "execution_count": null,
      "id": "feb2a148-e088-4a0d-8efd-97747547f29e",
      "metadata": {
        "id": "feb2a148-e088-4a0d-8efd-97747547f29e",
        "outputId": "12d341be-9460-4727-a54b-9907ba40d18f"
      },
      "outputs": [
        {
          "data": {
            "text/html": [
              "<span class=\"tex2jax_ignore\"><svg xmlns=\"http://www.w3.org/2000/svg\" xmlns:xlink=\"http://www.w3.org/1999/xlink\" xml:lang=\"en\" id=\"a43afe3b8aca46e39848cdf4b40179c5-0\" class=\"displacy\" width=\"6175\" height=\"574.5\" direction=\"ltr\" style=\"max-width: none; height: 574.5px; color: #000000; background: #ffffff; font-family: Arial; direction: ltr\">\n",
              "<text class=\"displacy-token\" fill=\"currentColor\" text-anchor=\"middle\" y=\"484.5\">\n",
              "    <tspan class=\"displacy-word\" fill=\"currentColor\" x=\"50\">Pakistan</tspan>\n",
              "    <tspan class=\"displacy-tag\" dy=\"2em\" fill=\"currentColor\" x=\"50\">PROPN</tspan>\n",
              "</text>\n",
              "\n",
              "<text class=\"displacy-token\" fill=\"currentColor\" text-anchor=\"middle\" y=\"484.5\">\n",
              "    <tspan class=\"displacy-word\" fill=\"currentColor\" x=\"225\">says</tspan>\n",
              "    <tspan class=\"displacy-tag\" dy=\"2em\" fill=\"currentColor\" x=\"225\">VERB</tspan>\n",
              "</text>\n",
              "\n",
              "<text class=\"displacy-token\" fill=\"currentColor\" text-anchor=\"middle\" y=\"484.5\">\n",
              "    <tspan class=\"displacy-word\" fill=\"currentColor\" x=\"400\">its</tspan>\n",
              "    <tspan class=\"displacy-tag\" dy=\"2em\" fill=\"currentColor\" x=\"400\">PRON</tspan>\n",
              "</text>\n",
              "\n",
              "<text class=\"displacy-token\" fill=\"currentColor\" text-anchor=\"middle\" y=\"484.5\">\n",
              "    <tspan class=\"displacy-word\" fill=\"currentColor\" x=\"575\">troops</tspan>\n",
              "    <tspan class=\"displacy-tag\" dy=\"2em\" fill=\"currentColor\" x=\"575\">NOUN</tspan>\n",
              "</text>\n",
              "\n",
              "<text class=\"displacy-token\" fill=\"currentColor\" text-anchor=\"middle\" y=\"484.5\">\n",
              "    <tspan class=\"displacy-word\" fill=\"currentColor\" x=\"750\">have</tspan>\n",
              "    <tspan class=\"displacy-tag\" dy=\"2em\" fill=\"currentColor\" x=\"750\">AUX</tspan>\n",
              "</text>\n",
              "\n",
              "<text class=\"displacy-token\" fill=\"currentColor\" text-anchor=\"middle\" y=\"484.5\">\n",
              "    <tspan class=\"displacy-word\" fill=\"currentColor\" x=\"925\">killed</tspan>\n",
              "    <tspan class=\"displacy-tag\" dy=\"2em\" fill=\"currentColor\" x=\"925\">VERB</tspan>\n",
              "</text>\n",
              "\n",
              "<text class=\"displacy-token\" fill=\"currentColor\" text-anchor=\"middle\" y=\"484.5\">\n",
              "    <tspan class=\"displacy-word\" fill=\"currentColor\" x=\"1100\">six</tspan>\n",
              "    <tspan class=\"displacy-tag\" dy=\"2em\" fill=\"currentColor\" x=\"1100\">NUM</tspan>\n",
              "</text>\n",
              "\n",
              "<text class=\"displacy-token\" fill=\"currentColor\" text-anchor=\"middle\" y=\"484.5\">\n",
              "    <tspan class=\"displacy-word\" fill=\"currentColor\" x=\"1275\">suspected</tspan>\n",
              "    <tspan class=\"displacy-tag\" dy=\"2em\" fill=\"currentColor\" x=\"1275\">VERB</tspan>\n",
              "</text>\n",
              "\n",
              "<text class=\"displacy-token\" fill=\"currentColor\" text-anchor=\"middle\" y=\"484.5\">\n",
              "    <tspan class=\"displacy-word\" fill=\"currentColor\" x=\"1450\">al-</tspan>\n",
              "    <tspan class=\"displacy-tag\" dy=\"2em\" fill=\"currentColor\" x=\"1450\">PROPN</tspan>\n",
              "</text>\n",
              "\n",
              "<text class=\"displacy-token\" fill=\"currentColor\" text-anchor=\"middle\" y=\"484.5\">\n",
              "    <tspan class=\"displacy-word\" fill=\"currentColor\" x=\"1625\">Qaida</tspan>\n",
              "    <tspan class=\"displacy-tag\" dy=\"2em\" fill=\"currentColor\" x=\"1625\">PROPN</tspan>\n",
              "</text>\n",
              "\n",
              "<text class=\"displacy-token\" fill=\"currentColor\" text-anchor=\"middle\" y=\"484.5\">\n",
              "    <tspan class=\"displacy-word\" fill=\"currentColor\" x=\"1800\">militants</tspan>\n",
              "    <tspan class=\"displacy-tag\" dy=\"2em\" fill=\"currentColor\" x=\"1800\">NOUN</tspan>\n",
              "</text>\n",
              "\n",
              "<text class=\"displacy-token\" fill=\"currentColor\" text-anchor=\"middle\" y=\"484.5\">\n",
              "    <tspan class=\"displacy-word\" fill=\"currentColor\" x=\"1975\">in</tspan>\n",
              "    <tspan class=\"displacy-tag\" dy=\"2em\" fill=\"currentColor\" x=\"1975\">ADP</tspan>\n",
              "</text>\n",
              "\n",
              "<text class=\"displacy-token\" fill=\"currentColor\" text-anchor=\"middle\" y=\"484.5\">\n",
              "    <tspan class=\"displacy-word\" fill=\"currentColor\" x=\"2150\">a</tspan>\n",
              "    <tspan class=\"displacy-tag\" dy=\"2em\" fill=\"currentColor\" x=\"2150\">DET</tspan>\n",
              "</text>\n",
              "\n",
              "<text class=\"displacy-token\" fill=\"currentColor\" text-anchor=\"middle\" y=\"484.5\">\n",
              "    <tspan class=\"displacy-word\" fill=\"currentColor\" x=\"2325\">semi-</tspan>\n",
              "    <tspan class=\"displacy-tag\" dy=\"2em\" fill=\"currentColor\" x=\"2325\">ADJ</tspan>\n",
              "</text>\n",
              "\n",
              "<text class=\"displacy-token\" fill=\"currentColor\" text-anchor=\"middle\" y=\"484.5\">\n",
              "    <tspan class=\"displacy-word\" fill=\"currentColor\" x=\"2500\">autonomous</tspan>\n",
              "    <tspan class=\"displacy-tag\" dy=\"2em\" fill=\"currentColor\" x=\"2500\">ADJ</tspan>\n",
              "</text>\n",
              "\n",
              "<text class=\"displacy-token\" fill=\"currentColor\" text-anchor=\"middle\" y=\"484.5\">\n",
              "    <tspan class=\"displacy-word\" fill=\"currentColor\" x=\"2675\">tribal</tspan>\n",
              "    <tspan class=\"displacy-tag\" dy=\"2em\" fill=\"currentColor\" x=\"2675\">ADJ</tspan>\n",
              "</text>\n",
              "\n",
              "<text class=\"displacy-token\" fill=\"currentColor\" text-anchor=\"middle\" y=\"484.5\">\n",
              "    <tspan class=\"displacy-word\" fill=\"currentColor\" x=\"2850\">region</tspan>\n",
              "    <tspan class=\"displacy-tag\" dy=\"2em\" fill=\"currentColor\" x=\"2850\">NOUN</tspan>\n",
              "</text>\n",
              "\n",
              "<text class=\"displacy-token\" fill=\"currentColor\" text-anchor=\"middle\" y=\"484.5\">\n",
              "    <tspan class=\"displacy-word\" fill=\"currentColor\" x=\"3025\">near</tspan>\n",
              "    <tspan class=\"displacy-tag\" dy=\"2em\" fill=\"currentColor\" x=\"3025\">ADP</tspan>\n",
              "</text>\n",
              "\n",
              "<text class=\"displacy-token\" fill=\"currentColor\" text-anchor=\"middle\" y=\"484.5\">\n",
              "    <tspan class=\"displacy-word\" fill=\"currentColor\" x=\"3200\">the</tspan>\n",
              "    <tspan class=\"displacy-tag\" dy=\"2em\" fill=\"currentColor\" x=\"3200\">DET</tspan>\n",
              "</text>\n",
              "\n",
              "<text class=\"displacy-token\" fill=\"currentColor\" text-anchor=\"middle\" y=\"484.5\">\n",
              "    <tspan class=\"displacy-word\" fill=\"currentColor\" x=\"3375\">Afghan</tspan>\n",
              "    <tspan class=\"displacy-tag\" dy=\"2em\" fill=\"currentColor\" x=\"3375\">ADJ</tspan>\n",
              "</text>\n",
              "\n",
              "<text class=\"displacy-token\" fill=\"currentColor\" text-anchor=\"middle\" y=\"484.5\">\n",
              "    <tspan class=\"displacy-word\" fill=\"currentColor\" x=\"3550\">border.</tspan>\n",
              "    <tspan class=\"displacy-tag\" dy=\"2em\" fill=\"currentColor\" x=\"3550\">NOUN</tspan>\n",
              "</text>\n",
              "\n",
              "<text class=\"displacy-token\" fill=\"currentColor\" text-anchor=\"middle\" y=\"484.5\">\n",
              "    <tspan class=\"displacy-word\" fill=\"currentColor\" x=\"3725\">Army</tspan>\n",
              "    <tspan class=\"displacy-tag\" dy=\"2em\" fill=\"currentColor\" x=\"3725\">NOUN</tspan>\n",
              "</text>\n",
              "\n",
              "<text class=\"displacy-token\" fill=\"currentColor\" text-anchor=\"middle\" y=\"484.5\">\n",
              "    <tspan class=\"displacy-word\" fill=\"currentColor\" x=\"3900\">officials</tspan>\n",
              "    <tspan class=\"displacy-tag\" dy=\"2em\" fill=\"currentColor\" x=\"3900\">NOUN</tspan>\n",
              "</text>\n",
              "\n",
              "<text class=\"displacy-token\" fill=\"currentColor\" text-anchor=\"middle\" y=\"484.5\">\n",
              "    <tspan class=\"displacy-word\" fill=\"currentColor\" x=\"4075\">say</tspan>\n",
              "    <tspan class=\"displacy-tag\" dy=\"2em\" fill=\"currentColor\" x=\"4075\">VERB</tspan>\n",
              "</text>\n",
              "\n",
              "<text class=\"displacy-token\" fill=\"currentColor\" text-anchor=\"middle\" y=\"484.5\">\n",
              "    <tspan class=\"displacy-word\" fill=\"currentColor\" x=\"4250\">the</tspan>\n",
              "    <tspan class=\"displacy-tag\" dy=\"2em\" fill=\"currentColor\" x=\"4250\">DET</tspan>\n",
              "</text>\n",
              "\n",
              "<text class=\"displacy-token\" fill=\"currentColor\" text-anchor=\"middle\" y=\"484.5\">\n",
              "    <tspan class=\"displacy-word\" fill=\"currentColor\" x=\"4425\">clash</tspan>\n",
              "    <tspan class=\"displacy-tag\" dy=\"2em\" fill=\"currentColor\" x=\"4425\">NOUN</tspan>\n",
              "</text>\n",
              "\n",
              "<text class=\"displacy-token\" fill=\"currentColor\" text-anchor=\"middle\" y=\"484.5\">\n",
              "    <tspan class=\"displacy-word\" fill=\"currentColor\" x=\"4600\">took</tspan>\n",
              "    <tspan class=\"displacy-tag\" dy=\"2em\" fill=\"currentColor\" x=\"4600\">VERB</tspan>\n",
              "</text>\n",
              "\n",
              "<text class=\"displacy-token\" fill=\"currentColor\" text-anchor=\"middle\" y=\"484.5\">\n",
              "    <tspan class=\"displacy-word\" fill=\"currentColor\" x=\"4775\">place</tspan>\n",
              "    <tspan class=\"displacy-tag\" dy=\"2em\" fill=\"currentColor\" x=\"4775\">NOUN</tspan>\n",
              "</text>\n",
              "\n",
              "<text class=\"displacy-token\" fill=\"currentColor\" text-anchor=\"middle\" y=\"484.5\">\n",
              "    <tspan class=\"displacy-word\" fill=\"currentColor\" x=\"4950\">early</tspan>\n",
              "    <tspan class=\"displacy-tag\" dy=\"2em\" fill=\"currentColor\" x=\"4950\">ADJ</tspan>\n",
              "</text>\n",
              "\n",
              "<text class=\"displacy-token\" fill=\"currentColor\" text-anchor=\"middle\" y=\"484.5\">\n",
              "    <tspan class=\"displacy-word\" fill=\"currentColor\" x=\"5125\">Sunday</tspan>\n",
              "    <tspan class=\"displacy-tag\" dy=\"2em\" fill=\"currentColor\" x=\"5125\">PROPN</tspan>\n",
              "</text>\n",
              "\n",
              "<text class=\"displacy-token\" fill=\"currentColor\" text-anchor=\"middle\" y=\"484.5\">\n",
              "    <tspan class=\"displacy-word\" fill=\"currentColor\" x=\"5300\">in</tspan>\n",
              "    <tspan class=\"displacy-tag\" dy=\"2em\" fill=\"currentColor\" x=\"5300\">ADP</tspan>\n",
              "</text>\n",
              "\n",
              "<text class=\"displacy-token\" fill=\"currentColor\" text-anchor=\"middle\" y=\"484.5\">\n",
              "    <tspan class=\"displacy-word\" fill=\"currentColor\" x=\"5475\">a</tspan>\n",
              "    <tspan class=\"displacy-tag\" dy=\"2em\" fill=\"currentColor\" x=\"5475\">DET</tspan>\n",
              "</text>\n",
              "\n",
              "<text class=\"displacy-token\" fill=\"currentColor\" text-anchor=\"middle\" y=\"484.5\">\n",
              "    <tspan class=\"displacy-word\" fill=\"currentColor\" x=\"5650\">mountainous</tspan>\n",
              "    <tspan class=\"displacy-tag\" dy=\"2em\" fill=\"currentColor\" x=\"5650\">ADJ</tspan>\n",
              "</text>\n",
              "\n",
              "<text class=\"displacy-token\" fill=\"currentColor\" text-anchor=\"middle\" y=\"484.5\">\n",
              "    <tspan class=\"displacy-word\" fill=\"currentColor\" x=\"5825\">area</tspan>\n",
              "    <tspan class=\"displacy-tag\" dy=\"2em\" fill=\"currentColor\" x=\"5825\">NOUN</tspan>\n",
              "</text>\n",
              "\n",
              "<text class=\"displacy-token\" fill=\"currentColor\" text-anchor=\"middle\" y=\"484.5\">\n",
              "    <tspan class=\"displacy-word\" fill=\"currentColor\" x=\"6000\">near</tspan>\n",
              "    <tspan class=\"displacy-tag\" dy=\"2em\" fill=\"currentColor\" x=\"6000\">ADP</tspan>\n",
              "</text>\n",
              "\n",
              "<g class=\"displacy-arrow\">\n",
              "    <path class=\"displacy-arc\" id=\"arrow-a43afe3b8aca46e39848cdf4b40179c5-0-0\" stroke-width=\"2px\" d=\"M70,439.5 C70,352.0 205.0,352.0 205.0,439.5\" fill=\"none\" stroke=\"currentColor\"/>\n",
              "    <text dy=\"1.25em\" style=\"font-size: 0.8em; letter-spacing: 1px\">\n",
              "        <textPath xlink:href=\"#arrow-a43afe3b8aca46e39848cdf4b40179c5-0-0\" class=\"displacy-label\" startOffset=\"50%\" side=\"left\" fill=\"currentColor\" text-anchor=\"middle\">nsubj</textPath>\n",
              "    </text>\n",
              "    <path class=\"displacy-arrowhead\" d=\"M70,441.5 L62,429.5 78,429.5\" fill=\"currentColor\"/>\n",
              "</g>\n",
              "\n",
              "<g class=\"displacy-arrow\">\n",
              "    <path class=\"displacy-arc\" id=\"arrow-a43afe3b8aca46e39848cdf4b40179c5-0-1\" stroke-width=\"2px\" d=\"M420,439.5 C420,352.0 555.0,352.0 555.0,439.5\" fill=\"none\" stroke=\"currentColor\"/>\n",
              "    <text dy=\"1.25em\" style=\"font-size: 0.8em; letter-spacing: 1px\">\n",
              "        <textPath xlink:href=\"#arrow-a43afe3b8aca46e39848cdf4b40179c5-0-1\" class=\"displacy-label\" startOffset=\"50%\" side=\"left\" fill=\"currentColor\" text-anchor=\"middle\">poss</textPath>\n",
              "    </text>\n",
              "    <path class=\"displacy-arrowhead\" d=\"M420,441.5 L412,429.5 428,429.5\" fill=\"currentColor\"/>\n",
              "</g>\n",
              "\n",
              "<g class=\"displacy-arrow\">\n",
              "    <path class=\"displacy-arc\" id=\"arrow-a43afe3b8aca46e39848cdf4b40179c5-0-2\" stroke-width=\"2px\" d=\"M595,439.5 C595,264.5 910.0,264.5 910.0,439.5\" fill=\"none\" stroke=\"currentColor\"/>\n",
              "    <text dy=\"1.25em\" style=\"font-size: 0.8em; letter-spacing: 1px\">\n",
              "        <textPath xlink:href=\"#arrow-a43afe3b8aca46e39848cdf4b40179c5-0-2\" class=\"displacy-label\" startOffset=\"50%\" side=\"left\" fill=\"currentColor\" text-anchor=\"middle\">nsubj</textPath>\n",
              "    </text>\n",
              "    <path class=\"displacy-arrowhead\" d=\"M595,441.5 L587,429.5 603,429.5\" fill=\"currentColor\"/>\n",
              "</g>\n",
              "\n",
              "<g class=\"displacy-arrow\">\n",
              "    <path class=\"displacy-arc\" id=\"arrow-a43afe3b8aca46e39848cdf4b40179c5-0-3\" stroke-width=\"2px\" d=\"M770,439.5 C770,352.0 905.0,352.0 905.0,439.5\" fill=\"none\" stroke=\"currentColor\"/>\n",
              "    <text dy=\"1.25em\" style=\"font-size: 0.8em; letter-spacing: 1px\">\n",
              "        <textPath xlink:href=\"#arrow-a43afe3b8aca46e39848cdf4b40179c5-0-3\" class=\"displacy-label\" startOffset=\"50%\" side=\"left\" fill=\"currentColor\" text-anchor=\"middle\">aux</textPath>\n",
              "    </text>\n",
              "    <path class=\"displacy-arrowhead\" d=\"M770,441.5 L762,429.5 778,429.5\" fill=\"currentColor\"/>\n",
              "</g>\n",
              "\n",
              "<g class=\"displacy-arrow\">\n",
              "    <path class=\"displacy-arc\" id=\"arrow-a43afe3b8aca46e39848cdf4b40179c5-0-4\" stroke-width=\"2px\" d=\"M245,439.5 C245,177.0 915.0,177.0 915.0,439.5\" fill=\"none\" stroke=\"currentColor\"/>\n",
              "    <text dy=\"1.25em\" style=\"font-size: 0.8em; letter-spacing: 1px\">\n",
              "        <textPath xlink:href=\"#arrow-a43afe3b8aca46e39848cdf4b40179c5-0-4\" class=\"displacy-label\" startOffset=\"50%\" side=\"left\" fill=\"currentColor\" text-anchor=\"middle\">ccomp</textPath>\n",
              "    </text>\n",
              "    <path class=\"displacy-arrowhead\" d=\"M915.0,441.5 L923.0,429.5 907.0,429.5\" fill=\"currentColor\"/>\n",
              "</g>\n",
              "\n",
              "<g class=\"displacy-arrow\">\n",
              "    <path class=\"displacy-arc\" id=\"arrow-a43afe3b8aca46e39848cdf4b40179c5-0-5\" stroke-width=\"2px\" d=\"M1120,439.5 C1120,177.0 1790.0,177.0 1790.0,439.5\" fill=\"none\" stroke=\"currentColor\"/>\n",
              "    <text dy=\"1.25em\" style=\"font-size: 0.8em; letter-spacing: 1px\">\n",
              "        <textPath xlink:href=\"#arrow-a43afe3b8aca46e39848cdf4b40179c5-0-5\" class=\"displacy-label\" startOffset=\"50%\" side=\"left\" fill=\"currentColor\" text-anchor=\"middle\">nummod</textPath>\n",
              "    </text>\n",
              "    <path class=\"displacy-arrowhead\" d=\"M1120,441.5 L1112,429.5 1128,429.5\" fill=\"currentColor\"/>\n",
              "</g>\n",
              "\n",
              "<g class=\"displacy-arrow\">\n",
              "    <path class=\"displacy-arc\" id=\"arrow-a43afe3b8aca46e39848cdf4b40179c5-0-6\" stroke-width=\"2px\" d=\"M1295,439.5 C1295,264.5 1785.0,264.5 1785.0,439.5\" fill=\"none\" stroke=\"currentColor\"/>\n",
              "    <text dy=\"1.25em\" style=\"font-size: 0.8em; letter-spacing: 1px\">\n",
              "        <textPath xlink:href=\"#arrow-a43afe3b8aca46e39848cdf4b40179c5-0-6\" class=\"displacy-label\" startOffset=\"50%\" side=\"left\" fill=\"currentColor\" text-anchor=\"middle\">amod</textPath>\n",
              "    </text>\n",
              "    <path class=\"displacy-arrowhead\" d=\"M1295,441.5 L1287,429.5 1303,429.5\" fill=\"currentColor\"/>\n",
              "</g>\n",
              "\n",
              "<g class=\"displacy-arrow\">\n",
              "    <path class=\"displacy-arc\" id=\"arrow-a43afe3b8aca46e39848cdf4b40179c5-0-7\" stroke-width=\"2px\" d=\"M1470,439.5 C1470,352.0 1605.0,352.0 1605.0,439.5\" fill=\"none\" stroke=\"currentColor\"/>\n",
              "    <text dy=\"1.25em\" style=\"font-size: 0.8em; letter-spacing: 1px\">\n",
              "        <textPath xlink:href=\"#arrow-a43afe3b8aca46e39848cdf4b40179c5-0-7\" class=\"displacy-label\" startOffset=\"50%\" side=\"left\" fill=\"currentColor\" text-anchor=\"middle\">compound</textPath>\n",
              "    </text>\n",
              "    <path class=\"displacy-arrowhead\" d=\"M1470,441.5 L1462,429.5 1478,429.5\" fill=\"currentColor\"/>\n",
              "</g>\n",
              "\n",
              "<g class=\"displacy-arrow\">\n",
              "    <path class=\"displacy-arc\" id=\"arrow-a43afe3b8aca46e39848cdf4b40179c5-0-8\" stroke-width=\"2px\" d=\"M1645,439.5 C1645,352.0 1780.0,352.0 1780.0,439.5\" fill=\"none\" stroke=\"currentColor\"/>\n",
              "    <text dy=\"1.25em\" style=\"font-size: 0.8em; letter-spacing: 1px\">\n",
              "        <textPath xlink:href=\"#arrow-a43afe3b8aca46e39848cdf4b40179c5-0-8\" class=\"displacy-label\" startOffset=\"50%\" side=\"left\" fill=\"currentColor\" text-anchor=\"middle\">compound</textPath>\n",
              "    </text>\n",
              "    <path class=\"displacy-arrowhead\" d=\"M1645,441.5 L1637,429.5 1653,429.5\" fill=\"currentColor\"/>\n",
              "</g>\n",
              "\n",
              "<g class=\"displacy-arrow\">\n",
              "    <path class=\"displacy-arc\" id=\"arrow-a43afe3b8aca46e39848cdf4b40179c5-0-9\" stroke-width=\"2px\" d=\"M945,439.5 C945,89.5 1795.0,89.5 1795.0,439.5\" fill=\"none\" stroke=\"currentColor\"/>\n",
              "    <text dy=\"1.25em\" style=\"font-size: 0.8em; letter-spacing: 1px\">\n",
              "        <textPath xlink:href=\"#arrow-a43afe3b8aca46e39848cdf4b40179c5-0-9\" class=\"displacy-label\" startOffset=\"50%\" side=\"left\" fill=\"currentColor\" text-anchor=\"middle\">dobj</textPath>\n",
              "    </text>\n",
              "    <path class=\"displacy-arrowhead\" d=\"M1795.0,441.5 L1803.0,429.5 1787.0,429.5\" fill=\"currentColor\"/>\n",
              "</g>\n",
              "\n",
              "<g class=\"displacy-arrow\">\n",
              "    <path class=\"displacy-arc\" id=\"arrow-a43afe3b8aca46e39848cdf4b40179c5-0-10\" stroke-width=\"2px\" d=\"M945,439.5 C945,2.0 1975.0,2.0 1975.0,439.5\" fill=\"none\" stroke=\"currentColor\"/>\n",
              "    <text dy=\"1.25em\" style=\"font-size: 0.8em; letter-spacing: 1px\">\n",
              "        <textPath xlink:href=\"#arrow-a43afe3b8aca46e39848cdf4b40179c5-0-10\" class=\"displacy-label\" startOffset=\"50%\" side=\"left\" fill=\"currentColor\" text-anchor=\"middle\">prep</textPath>\n",
              "    </text>\n",
              "    <path class=\"displacy-arrowhead\" d=\"M1975.0,441.5 L1983.0,429.5 1967.0,429.5\" fill=\"currentColor\"/>\n",
              "</g>\n",
              "\n",
              "<g class=\"displacy-arrow\">\n",
              "    <path class=\"displacy-arc\" id=\"arrow-a43afe3b8aca46e39848cdf4b40179c5-0-11\" stroke-width=\"2px\" d=\"M2170,439.5 C2170,89.5 2845.0,89.5 2845.0,439.5\" fill=\"none\" stroke=\"currentColor\"/>\n",
              "    <text dy=\"1.25em\" style=\"font-size: 0.8em; letter-spacing: 1px\">\n",
              "        <textPath xlink:href=\"#arrow-a43afe3b8aca46e39848cdf4b40179c5-0-11\" class=\"displacy-label\" startOffset=\"50%\" side=\"left\" fill=\"currentColor\" text-anchor=\"middle\">det</textPath>\n",
              "    </text>\n",
              "    <path class=\"displacy-arrowhead\" d=\"M2170,441.5 L2162,429.5 2178,429.5\" fill=\"currentColor\"/>\n",
              "</g>\n",
              "\n",
              "<g class=\"displacy-arrow\">\n",
              "    <path class=\"displacy-arc\" id=\"arrow-a43afe3b8aca46e39848cdf4b40179c5-0-12\" stroke-width=\"2px\" d=\"M2345,439.5 C2345,177.0 2840.0,177.0 2840.0,439.5\" fill=\"none\" stroke=\"currentColor\"/>\n",
              "    <text dy=\"1.25em\" style=\"font-size: 0.8em; letter-spacing: 1px\">\n",
              "        <textPath xlink:href=\"#arrow-a43afe3b8aca46e39848cdf4b40179c5-0-12\" class=\"displacy-label\" startOffset=\"50%\" side=\"left\" fill=\"currentColor\" text-anchor=\"middle\">amod</textPath>\n",
              "    </text>\n",
              "    <path class=\"displacy-arrowhead\" d=\"M2345,441.5 L2337,429.5 2353,429.5\" fill=\"currentColor\"/>\n",
              "</g>\n",
              "\n",
              "<g class=\"displacy-arrow\">\n",
              "    <path class=\"displacy-arc\" id=\"arrow-a43afe3b8aca46e39848cdf4b40179c5-0-13\" stroke-width=\"2px\" d=\"M2520,439.5 C2520,264.5 2835.0,264.5 2835.0,439.5\" fill=\"none\" stroke=\"currentColor\"/>\n",
              "    <text dy=\"1.25em\" style=\"font-size: 0.8em; letter-spacing: 1px\">\n",
              "        <textPath xlink:href=\"#arrow-a43afe3b8aca46e39848cdf4b40179c5-0-13\" class=\"displacy-label\" startOffset=\"50%\" side=\"left\" fill=\"currentColor\" text-anchor=\"middle\">amod</textPath>\n",
              "    </text>\n",
              "    <path class=\"displacy-arrowhead\" d=\"M2520,441.5 L2512,429.5 2528,429.5\" fill=\"currentColor\"/>\n",
              "</g>\n",
              "\n",
              "<g class=\"displacy-arrow\">\n",
              "    <path class=\"displacy-arc\" id=\"arrow-a43afe3b8aca46e39848cdf4b40179c5-0-14\" stroke-width=\"2px\" d=\"M2695,439.5 C2695,352.0 2830.0,352.0 2830.0,439.5\" fill=\"none\" stroke=\"currentColor\"/>\n",
              "    <text dy=\"1.25em\" style=\"font-size: 0.8em; letter-spacing: 1px\">\n",
              "        <textPath xlink:href=\"#arrow-a43afe3b8aca46e39848cdf4b40179c5-0-14\" class=\"displacy-label\" startOffset=\"50%\" side=\"left\" fill=\"currentColor\" text-anchor=\"middle\">amod</textPath>\n",
              "    </text>\n",
              "    <path class=\"displacy-arrowhead\" d=\"M2695,441.5 L2687,429.5 2703,429.5\" fill=\"currentColor\"/>\n",
              "</g>\n",
              "\n",
              "<g class=\"displacy-arrow\">\n",
              "    <path class=\"displacy-arc\" id=\"arrow-a43afe3b8aca46e39848cdf4b40179c5-0-15\" stroke-width=\"2px\" d=\"M1995,439.5 C1995,2.0 2850.0,2.0 2850.0,439.5\" fill=\"none\" stroke=\"currentColor\"/>\n",
              "    <text dy=\"1.25em\" style=\"font-size: 0.8em; letter-spacing: 1px\">\n",
              "        <textPath xlink:href=\"#arrow-a43afe3b8aca46e39848cdf4b40179c5-0-15\" class=\"displacy-label\" startOffset=\"50%\" side=\"left\" fill=\"currentColor\" text-anchor=\"middle\">pobj</textPath>\n",
              "    </text>\n",
              "    <path class=\"displacy-arrowhead\" d=\"M2850.0,441.5 L2858.0,429.5 2842.0,429.5\" fill=\"currentColor\"/>\n",
              "</g>\n",
              "\n",
              "<g class=\"displacy-arrow\">\n",
              "    <path class=\"displacy-arc\" id=\"arrow-a43afe3b8aca46e39848cdf4b40179c5-0-16\" stroke-width=\"2px\" d=\"M2870,439.5 C2870,352.0 3005.0,352.0 3005.0,439.5\" fill=\"none\" stroke=\"currentColor\"/>\n",
              "    <text dy=\"1.25em\" style=\"font-size: 0.8em; letter-spacing: 1px\">\n",
              "        <textPath xlink:href=\"#arrow-a43afe3b8aca46e39848cdf4b40179c5-0-16\" class=\"displacy-label\" startOffset=\"50%\" side=\"left\" fill=\"currentColor\" text-anchor=\"middle\">prep</textPath>\n",
              "    </text>\n",
              "    <path class=\"displacy-arrowhead\" d=\"M3005.0,441.5 L3013.0,429.5 2997.0,429.5\" fill=\"currentColor\"/>\n",
              "</g>\n",
              "\n",
              "<g class=\"displacy-arrow\">\n",
              "    <path class=\"displacy-arc\" id=\"arrow-a43afe3b8aca46e39848cdf4b40179c5-0-17\" stroke-width=\"2px\" d=\"M3220,439.5 C3220,264.5 3535.0,264.5 3535.0,439.5\" fill=\"none\" stroke=\"currentColor\"/>\n",
              "    <text dy=\"1.25em\" style=\"font-size: 0.8em; letter-spacing: 1px\">\n",
              "        <textPath xlink:href=\"#arrow-a43afe3b8aca46e39848cdf4b40179c5-0-17\" class=\"displacy-label\" startOffset=\"50%\" side=\"left\" fill=\"currentColor\" text-anchor=\"middle\">det</textPath>\n",
              "    </text>\n",
              "    <path class=\"displacy-arrowhead\" d=\"M3220,441.5 L3212,429.5 3228,429.5\" fill=\"currentColor\"/>\n",
              "</g>\n",
              "\n",
              "<g class=\"displacy-arrow\">\n",
              "    <path class=\"displacy-arc\" id=\"arrow-a43afe3b8aca46e39848cdf4b40179c5-0-18\" stroke-width=\"2px\" d=\"M3395,439.5 C3395,352.0 3530.0,352.0 3530.0,439.5\" fill=\"none\" stroke=\"currentColor\"/>\n",
              "    <text dy=\"1.25em\" style=\"font-size: 0.8em; letter-spacing: 1px\">\n",
              "        <textPath xlink:href=\"#arrow-a43afe3b8aca46e39848cdf4b40179c5-0-18\" class=\"displacy-label\" startOffset=\"50%\" side=\"left\" fill=\"currentColor\" text-anchor=\"middle\">amod</textPath>\n",
              "    </text>\n",
              "    <path class=\"displacy-arrowhead\" d=\"M3395,441.5 L3387,429.5 3403,429.5\" fill=\"currentColor\"/>\n",
              "</g>\n",
              "\n",
              "<g class=\"displacy-arrow\">\n",
              "    <path class=\"displacy-arc\" id=\"arrow-a43afe3b8aca46e39848cdf4b40179c5-0-19\" stroke-width=\"2px\" d=\"M3045,439.5 C3045,177.0 3540.0,177.0 3540.0,439.5\" fill=\"none\" stroke=\"currentColor\"/>\n",
              "    <text dy=\"1.25em\" style=\"font-size: 0.8em; letter-spacing: 1px\">\n",
              "        <textPath xlink:href=\"#arrow-a43afe3b8aca46e39848cdf4b40179c5-0-19\" class=\"displacy-label\" startOffset=\"50%\" side=\"left\" fill=\"currentColor\" text-anchor=\"middle\">pobj</textPath>\n",
              "    </text>\n",
              "    <path class=\"displacy-arrowhead\" d=\"M3540.0,441.5 L3548.0,429.5 3532.0,429.5\" fill=\"currentColor\"/>\n",
              "</g>\n",
              "\n",
              "<g class=\"displacy-arrow\">\n",
              "    <path class=\"displacy-arc\" id=\"arrow-a43afe3b8aca46e39848cdf4b40179c5-0-20\" stroke-width=\"2px\" d=\"M3745,439.5 C3745,352.0 3880.0,352.0 3880.0,439.5\" fill=\"none\" stroke=\"currentColor\"/>\n",
              "    <text dy=\"1.25em\" style=\"font-size: 0.8em; letter-spacing: 1px\">\n",
              "        <textPath xlink:href=\"#arrow-a43afe3b8aca46e39848cdf4b40179c5-0-20\" class=\"displacy-label\" startOffset=\"50%\" side=\"left\" fill=\"currentColor\" text-anchor=\"middle\">compound</textPath>\n",
              "    </text>\n",
              "    <path class=\"displacy-arrowhead\" d=\"M3745,441.5 L3737,429.5 3753,429.5\" fill=\"currentColor\"/>\n",
              "</g>\n",
              "\n",
              "<g class=\"displacy-arrow\">\n",
              "    <path class=\"displacy-arc\" id=\"arrow-a43afe3b8aca46e39848cdf4b40179c5-0-21\" stroke-width=\"2px\" d=\"M3920,439.5 C3920,352.0 4055.0,352.0 4055.0,439.5\" fill=\"none\" stroke=\"currentColor\"/>\n",
              "    <text dy=\"1.25em\" style=\"font-size: 0.8em; letter-spacing: 1px\">\n",
              "        <textPath xlink:href=\"#arrow-a43afe3b8aca46e39848cdf4b40179c5-0-21\" class=\"displacy-label\" startOffset=\"50%\" side=\"left\" fill=\"currentColor\" text-anchor=\"middle\">nsubj</textPath>\n",
              "    </text>\n",
              "    <path class=\"displacy-arrowhead\" d=\"M3920,441.5 L3912,429.5 3928,429.5\" fill=\"currentColor\"/>\n",
              "</g>\n",
              "\n",
              "<g class=\"displacy-arrow\">\n",
              "    <path class=\"displacy-arc\" id=\"arrow-a43afe3b8aca46e39848cdf4b40179c5-0-22\" stroke-width=\"2px\" d=\"M4270,439.5 C4270,352.0 4405.0,352.0 4405.0,439.5\" fill=\"none\" stroke=\"currentColor\"/>\n",
              "    <text dy=\"1.25em\" style=\"font-size: 0.8em; letter-spacing: 1px\">\n",
              "        <textPath xlink:href=\"#arrow-a43afe3b8aca46e39848cdf4b40179c5-0-22\" class=\"displacy-label\" startOffset=\"50%\" side=\"left\" fill=\"currentColor\" text-anchor=\"middle\">det</textPath>\n",
              "    </text>\n",
              "    <path class=\"displacy-arrowhead\" d=\"M4270,441.5 L4262,429.5 4278,429.5\" fill=\"currentColor\"/>\n",
              "</g>\n",
              "\n",
              "<g class=\"displacy-arrow\">\n",
              "    <path class=\"displacy-arc\" id=\"arrow-a43afe3b8aca46e39848cdf4b40179c5-0-23\" stroke-width=\"2px\" d=\"M4445,439.5 C4445,352.0 4580.0,352.0 4580.0,439.5\" fill=\"none\" stroke=\"currentColor\"/>\n",
              "    <text dy=\"1.25em\" style=\"font-size: 0.8em; letter-spacing: 1px\">\n",
              "        <textPath xlink:href=\"#arrow-a43afe3b8aca46e39848cdf4b40179c5-0-23\" class=\"displacy-label\" startOffset=\"50%\" side=\"left\" fill=\"currentColor\" text-anchor=\"middle\">nsubj</textPath>\n",
              "    </text>\n",
              "    <path class=\"displacy-arrowhead\" d=\"M4445,441.5 L4437,429.5 4453,429.5\" fill=\"currentColor\"/>\n",
              "</g>\n",
              "\n",
              "<g class=\"displacy-arrow\">\n",
              "    <path class=\"displacy-arc\" id=\"arrow-a43afe3b8aca46e39848cdf4b40179c5-0-24\" stroke-width=\"2px\" d=\"M4095,439.5 C4095,264.5 4585.0,264.5 4585.0,439.5\" fill=\"none\" stroke=\"currentColor\"/>\n",
              "    <text dy=\"1.25em\" style=\"font-size: 0.8em; letter-spacing: 1px\">\n",
              "        <textPath xlink:href=\"#arrow-a43afe3b8aca46e39848cdf4b40179c5-0-24\" class=\"displacy-label\" startOffset=\"50%\" side=\"left\" fill=\"currentColor\" text-anchor=\"middle\">ccomp</textPath>\n",
              "    </text>\n",
              "    <path class=\"displacy-arrowhead\" d=\"M4585.0,441.5 L4593.0,429.5 4577.0,429.5\" fill=\"currentColor\"/>\n",
              "</g>\n",
              "\n",
              "<g class=\"displacy-arrow\">\n",
              "    <path class=\"displacy-arc\" id=\"arrow-a43afe3b8aca46e39848cdf4b40179c5-0-25\" stroke-width=\"2px\" d=\"M4620,439.5 C4620,352.0 4755.0,352.0 4755.0,439.5\" fill=\"none\" stroke=\"currentColor\"/>\n",
              "    <text dy=\"1.25em\" style=\"font-size: 0.8em; letter-spacing: 1px\">\n",
              "        <textPath xlink:href=\"#arrow-a43afe3b8aca46e39848cdf4b40179c5-0-25\" class=\"displacy-label\" startOffset=\"50%\" side=\"left\" fill=\"currentColor\" text-anchor=\"middle\">dobj</textPath>\n",
              "    </text>\n",
              "    <path class=\"displacy-arrowhead\" d=\"M4755.0,441.5 L4763.0,429.5 4747.0,429.5\" fill=\"currentColor\"/>\n",
              "</g>\n",
              "\n",
              "<g class=\"displacy-arrow\">\n",
              "    <path class=\"displacy-arc\" id=\"arrow-a43afe3b8aca46e39848cdf4b40179c5-0-26\" stroke-width=\"2px\" d=\"M4970,439.5 C4970,352.0 5105.0,352.0 5105.0,439.5\" fill=\"none\" stroke=\"currentColor\"/>\n",
              "    <text dy=\"1.25em\" style=\"font-size: 0.8em; letter-spacing: 1px\">\n",
              "        <textPath xlink:href=\"#arrow-a43afe3b8aca46e39848cdf4b40179c5-0-26\" class=\"displacy-label\" startOffset=\"50%\" side=\"left\" fill=\"currentColor\" text-anchor=\"middle\">amod</textPath>\n",
              "    </text>\n",
              "    <path class=\"displacy-arrowhead\" d=\"M4970,441.5 L4962,429.5 4978,429.5\" fill=\"currentColor\"/>\n",
              "</g>\n",
              "\n",
              "<g class=\"displacy-arrow\">\n",
              "    <path class=\"displacy-arc\" id=\"arrow-a43afe3b8aca46e39848cdf4b40179c5-0-27\" stroke-width=\"2px\" d=\"M4620,439.5 C4620,264.5 5110.0,264.5 5110.0,439.5\" fill=\"none\" stroke=\"currentColor\"/>\n",
              "    <text dy=\"1.25em\" style=\"font-size: 0.8em; letter-spacing: 1px\">\n",
              "        <textPath xlink:href=\"#arrow-a43afe3b8aca46e39848cdf4b40179c5-0-27\" class=\"displacy-label\" startOffset=\"50%\" side=\"left\" fill=\"currentColor\" text-anchor=\"middle\">npadvmod</textPath>\n",
              "    </text>\n",
              "    <path class=\"displacy-arrowhead\" d=\"M5110.0,441.5 L5118.0,429.5 5102.0,429.5\" fill=\"currentColor\"/>\n",
              "</g>\n",
              "\n",
              "<g class=\"displacy-arrow\">\n",
              "    <path class=\"displacy-arc\" id=\"arrow-a43afe3b8aca46e39848cdf4b40179c5-0-28\" stroke-width=\"2px\" d=\"M4620,439.5 C4620,177.0 5290.0,177.0 5290.0,439.5\" fill=\"none\" stroke=\"currentColor\"/>\n",
              "    <text dy=\"1.25em\" style=\"font-size: 0.8em; letter-spacing: 1px\">\n",
              "        <textPath xlink:href=\"#arrow-a43afe3b8aca46e39848cdf4b40179c5-0-28\" class=\"displacy-label\" startOffset=\"50%\" side=\"left\" fill=\"currentColor\" text-anchor=\"middle\">prep</textPath>\n",
              "    </text>\n",
              "    <path class=\"displacy-arrowhead\" d=\"M5290.0,441.5 L5298.0,429.5 5282.0,429.5\" fill=\"currentColor\"/>\n",
              "</g>\n",
              "\n",
              "<g class=\"displacy-arrow\">\n",
              "    <path class=\"displacy-arc\" id=\"arrow-a43afe3b8aca46e39848cdf4b40179c5-0-29\" stroke-width=\"2px\" d=\"M5495,439.5 C5495,264.5 5810.0,264.5 5810.0,439.5\" fill=\"none\" stroke=\"currentColor\"/>\n",
              "    <text dy=\"1.25em\" style=\"font-size: 0.8em; letter-spacing: 1px\">\n",
              "        <textPath xlink:href=\"#arrow-a43afe3b8aca46e39848cdf4b40179c5-0-29\" class=\"displacy-label\" startOffset=\"50%\" side=\"left\" fill=\"currentColor\" text-anchor=\"middle\">det</textPath>\n",
              "    </text>\n",
              "    <path class=\"displacy-arrowhead\" d=\"M5495,441.5 L5487,429.5 5503,429.5\" fill=\"currentColor\"/>\n",
              "</g>\n",
              "\n",
              "<g class=\"displacy-arrow\">\n",
              "    <path class=\"displacy-arc\" id=\"arrow-a43afe3b8aca46e39848cdf4b40179c5-0-30\" stroke-width=\"2px\" d=\"M5670,439.5 C5670,352.0 5805.0,352.0 5805.0,439.5\" fill=\"none\" stroke=\"currentColor\"/>\n",
              "    <text dy=\"1.25em\" style=\"font-size: 0.8em; letter-spacing: 1px\">\n",
              "        <textPath xlink:href=\"#arrow-a43afe3b8aca46e39848cdf4b40179c5-0-30\" class=\"displacy-label\" startOffset=\"50%\" side=\"left\" fill=\"currentColor\" text-anchor=\"middle\">amod</textPath>\n",
              "    </text>\n",
              "    <path class=\"displacy-arrowhead\" d=\"M5670,441.5 L5662,429.5 5678,429.5\" fill=\"currentColor\"/>\n",
              "</g>\n",
              "\n",
              "<g class=\"displacy-arrow\">\n",
              "    <path class=\"displacy-arc\" id=\"arrow-a43afe3b8aca46e39848cdf4b40179c5-0-31\" stroke-width=\"2px\" d=\"M5320,439.5 C5320,177.0 5815.0,177.0 5815.0,439.5\" fill=\"none\" stroke=\"currentColor\"/>\n",
              "    <text dy=\"1.25em\" style=\"font-size: 0.8em; letter-spacing: 1px\">\n",
              "        <textPath xlink:href=\"#arrow-a43afe3b8aca46e39848cdf4b40179c5-0-31\" class=\"displacy-label\" startOffset=\"50%\" side=\"left\" fill=\"currentColor\" text-anchor=\"middle\">pobj</textPath>\n",
              "    </text>\n",
              "    <path class=\"displacy-arrowhead\" d=\"M5815.0,441.5 L5823.0,429.5 5807.0,429.5\" fill=\"currentColor\"/>\n",
              "</g>\n",
              "\n",
              "<g class=\"displacy-arrow\">\n",
              "    <path class=\"displacy-arc\" id=\"arrow-a43afe3b8aca46e39848cdf4b40179c5-0-32\" stroke-width=\"2px\" d=\"M4620,439.5 C4620,89.5 5995.0,89.5 5995.0,439.5\" fill=\"none\" stroke=\"currentColor\"/>\n",
              "    <text dy=\"1.25em\" style=\"font-size: 0.8em; letter-spacing: 1px\">\n",
              "        <textPath xlink:href=\"#arrow-a43afe3b8aca46e39848cdf4b40179c5-0-32\" class=\"displacy-label\" startOffset=\"50%\" side=\"left\" fill=\"currentColor\" text-anchor=\"middle\">prep</textPath>\n",
              "    </text>\n",
              "    <path class=\"displacy-arrowhead\" d=\"M5995.0,441.5 L6003.0,429.5 5987.0,429.5\" fill=\"currentColor\"/>\n",
              "</g>\n",
              "</svg></span>"
            ],
            "text/plain": [
              "<IPython.core.display.HTML object>"
            ]
          },
          "metadata": {},
          "output_type": "display_data"
        }
      ],
      "source": [
        "from spacy import displacy\n",
        "\n",
        "displacy.render(tokens_en, style = \"dep\", jupyter = True)"
      ]
    },
    {
      "cell_type": "code",
      "execution_count": null,
      "id": "4d8d1c03-3487-47cf-a3bc-0599b414a536",
      "metadata": {
        "id": "4d8d1c03-3487-47cf-a3bc-0599b414a536",
        "outputId": "c2b7637c-0ca8-4390-ffc1-48222c9b41e6"
      },
      "outputs": [
        {
          "data": {
            "text/html": [
              "<div>\n",
              "<style scoped>\n",
              "    .dataframe tbody tr th:only-of-type {\n",
              "        vertical-align: middle;\n",
              "    }\n",
              "\n",
              "    .dataframe tbody tr th {\n",
              "        vertical-align: top;\n",
              "    }\n",
              "\n",
              "    .dataframe thead th {\n",
              "        text-align: right;\n",
              "    }\n",
              "</style>\n",
              "<table border=\"1\" class=\"dataframe\">\n",
              "  <thead>\n",
              "    <tr style=\"text-align: right;\">\n",
              "      <th></th>\n",
              "      <th>Text</th>\n",
              "      <th>Lemma</th>\n",
              "      <th>POS</th>\n",
              "      <th>Tag</th>\n",
              "      <th>Dep</th>\n",
              "      <th>Shape</th>\n",
              "      <th>is alpha</th>\n",
              "      <th>is stop</th>\n",
              "    </tr>\n",
              "  </thead>\n",
              "  <tbody>\n",
              "    <tr>\n",
              "      <th>0</th>\n",
              "      <td>Exkanzler</td>\n",
              "      <td>Exkanzler</td>\n",
              "      <td>NOUN</td>\n",
              "      <td>NN</td>\n",
              "      <td>sb</td>\n",
              "      <td>Xxxxx</td>\n",
              "      <td>True</td>\n",
              "      <td>False</td>\n",
              "    </tr>\n",
              "    <tr>\n",
              "      <th>1</th>\n",
              "      <td>Wolfgang</td>\n",
              "      <td>Wolfgang</td>\n",
              "      <td>PROPN</td>\n",
              "      <td>NE</td>\n",
              "      <td>pnc</td>\n",
              "      <td>Xxxxx</td>\n",
              "      <td>True</td>\n",
              "      <td>False</td>\n",
              "    </tr>\n",
              "    <tr>\n",
              "      <th>2</th>\n",
              "      <td>Schüssel</td>\n",
              "      <td>Schüssel</td>\n",
              "      <td>PROPN</td>\n",
              "      <td>NE</td>\n",
              "      <td>nk</td>\n",
              "      <td>Xxxxx</td>\n",
              "      <td>True</td>\n",
              "      <td>False</td>\n",
              "    </tr>\n",
              "    <tr>\n",
              "      <th>3</th>\n",
              "      <td>wurde</td>\n",
              "      <td>werden</td>\n",
              "      <td>AUX</td>\n",
              "      <td>VAFIN</td>\n",
              "      <td>ROOT</td>\n",
              "      <td>xxxx</td>\n",
              "      <td>True</td>\n",
              "      <td>True</td>\n",
              "    </tr>\n",
              "    <tr>\n",
              "      <th>4</th>\n",
              "      <td>seinem</td>\n",
              "      <td>sein</td>\n",
              "      <td>DET</td>\n",
              "      <td>PPOSAT</td>\n",
              "      <td>nk</td>\n",
              "      <td>xxxx</td>\n",
              "      <td>True</td>\n",
              "      <td>True</td>\n",
              "    </tr>\n",
              "  </tbody>\n",
              "</table>\n",
              "</div>"
            ],
            "text/plain": [
              "        Text      Lemma    POS     Tag   Dep  Shape  is alpha  is stop\n",
              "0  Exkanzler  Exkanzler   NOUN      NN    sb  Xxxxx      True    False\n",
              "1   Wolfgang   Wolfgang  PROPN      NE   pnc  Xxxxx      True    False\n",
              "2   Schüssel   Schüssel  PROPN      NE    nk  Xxxxx      True    False\n",
              "3      wurde     werden    AUX   VAFIN  ROOT   xxxx      True     True\n",
              "4     seinem       sein    DET  PPOSAT    nk   xxxx      True     True"
            ]
          },
          "execution_count": 21,
          "metadata": {},
          "output_type": "execute_result"
        }
      ],
      "source": [
        "token_df_de = pd.DataFrame({\"Text\": [token_de.text for token_de in tokens_de],\n",
        "                            \"Lemma\": [token_de.lemma_ for token_de in tokens_de],\n",
        "                            \"POS\": [token_de.pos_ for token_de in tokens_de],\n",
        "                            \"Tag\": [token_de.tag_ for token_de in tokens_de],\n",
        "                            \"Dep\": [token_de.dep_ for token_de in tokens_de],\n",
        "                            \"Shape\": [token_de.shape_ for token_de in tokens_de],\n",
        "                            \"is alpha\": [token_de.is_alpha for token_de in tokens_de],\n",
        "                            \"is stop\": [token_de.is_stop for token_de in tokens_de]})\n",
        "\n",
        "token_df_de.head()"
      ]
    },
    {
      "cell_type": "code",
      "execution_count": null,
      "id": "11ba48f4-bff6-44fc-bce5-6cb948abe87c",
      "metadata": {
        "id": "11ba48f4-bff6-44fc-bce5-6cb948abe87c",
        "outputId": "6270010e-30e0-46b7-991a-76bb5a3a4846"
      },
      "outputs": [
        {
          "data": {
            "text/html": [
              "<span class=\"tex2jax_ignore\"><svg xmlns=\"http://www.w3.org/2000/svg\" xmlns:xlink=\"http://www.w3.org/1999/xlink\" xml:lang=\"de\" id=\"2779815c684445f7bfa3e0f01f077f52-0\" class=\"displacy\" width=\"2150\" height=\"574.5\" direction=\"ltr\" style=\"max-width: none; height: 574.5px; color: #000000; background: #ffffff; font-family: Arial; direction: ltr\">\n",
              "<text class=\"displacy-token\" fill=\"currentColor\" text-anchor=\"middle\" y=\"484.5\">\n",
              "    <tspan class=\"displacy-word\" fill=\"currentColor\" x=\"50\">Exkanzler</tspan>\n",
              "    <tspan class=\"displacy-tag\" dy=\"2em\" fill=\"currentColor\" x=\"50\">NOUN</tspan>\n",
              "</text>\n",
              "\n",
              "<text class=\"displacy-token\" fill=\"currentColor\" text-anchor=\"middle\" y=\"484.5\">\n",
              "    <tspan class=\"displacy-word\" fill=\"currentColor\" x=\"225\">Wolfgang</tspan>\n",
              "    <tspan class=\"displacy-tag\" dy=\"2em\" fill=\"currentColor\" x=\"225\">PROPN</tspan>\n",
              "</text>\n",
              "\n",
              "<text class=\"displacy-token\" fill=\"currentColor\" text-anchor=\"middle\" y=\"484.5\">\n",
              "    <tspan class=\"displacy-word\" fill=\"currentColor\" x=\"400\">Schüssel</tspan>\n",
              "    <tspan class=\"displacy-tag\" dy=\"2em\" fill=\"currentColor\" x=\"400\">PROPN</tspan>\n",
              "</text>\n",
              "\n",
              "<text class=\"displacy-token\" fill=\"currentColor\" text-anchor=\"middle\" y=\"484.5\">\n",
              "    <tspan class=\"displacy-word\" fill=\"currentColor\" x=\"575\">wurde</tspan>\n",
              "    <tspan class=\"displacy-tag\" dy=\"2em\" fill=\"currentColor\" x=\"575\">AUX</tspan>\n",
              "</text>\n",
              "\n",
              "<text class=\"displacy-token\" fill=\"currentColor\" text-anchor=\"middle\" y=\"484.5\">\n",
              "    <tspan class=\"displacy-word\" fill=\"currentColor\" x=\"750\">seinem</tspan>\n",
              "    <tspan class=\"displacy-tag\" dy=\"2em\" fill=\"currentColor\" x=\"750\">DET</tspan>\n",
              "</text>\n",
              "\n",
              "<text class=\"displacy-token\" fill=\"currentColor\" text-anchor=\"middle\" y=\"484.5\">\n",
              "    <tspan class=\"displacy-word\" fill=\"currentColor\" x=\"925\">medialen</tspan>\n",
              "    <tspan class=\"displacy-tag\" dy=\"2em\" fill=\"currentColor\" x=\"925\">ADJ</tspan>\n",
              "</text>\n",
              "\n",
              "<text class=\"displacy-token\" fill=\"currentColor\" text-anchor=\"middle\" y=\"484.5\">\n",
              "    <tspan class=\"displacy-word\" fill=\"currentColor\" x=\"1100\">Beinamen &quot;</tspan>\n",
              "    <tspan class=\"displacy-tag\" dy=\"2em\" fill=\"currentColor\" x=\"1100\">NOUN</tspan>\n",
              "</text>\n",
              "\n",
              "<text class=\"displacy-token\" fill=\"currentColor\" text-anchor=\"middle\" y=\"484.5\">\n",
              "    <tspan class=\"displacy-word\" fill=\"currentColor\" x=\"1275\">Schweigekanzler&quot;</tspan>\n",
              "    <tspan class=\"displacy-tag\" dy=\"2em\" fill=\"currentColor\" x=\"1275\">NOUN</tspan>\n",
              "</text>\n",
              "\n",
              "<text class=\"displacy-token\" fill=\"currentColor\" text-anchor=\"middle\" y=\"484.5\">\n",
              "    <tspan class=\"displacy-word\" fill=\"currentColor\" x=\"1450\">im</tspan>\n",
              "    <tspan class=\"displacy-tag\" dy=\"2em\" fill=\"currentColor\" x=\"1450\">ADP</tspan>\n",
              "</text>\n",
              "\n",
              "<text class=\"displacy-token\" fill=\"currentColor\" text-anchor=\"middle\" y=\"484.5\">\n",
              "    <tspan class=\"displacy-word\" fill=\"currentColor\" x=\"1625\">U-Ausschuss</tspan>\n",
              "    <tspan class=\"displacy-tag\" dy=\"2em\" fill=\"currentColor\" x=\"1625\">NOUN</tspan>\n",
              "</text>\n",
              "\n",
              "<text class=\"displacy-token\" fill=\"currentColor\" text-anchor=\"middle\" y=\"484.5\">\n",
              "    <tspan class=\"displacy-word\" fill=\"currentColor\" x=\"1800\">nicht</tspan>\n",
              "    <tspan class=\"displacy-tag\" dy=\"2em\" fill=\"currentColor\" x=\"1800\">PART</tspan>\n",
              "</text>\n",
              "\n",
              "<text class=\"displacy-token\" fill=\"currentColor\" text-anchor=\"middle\" y=\"484.5\">\n",
              "    <tspan class=\"displacy-word\" fill=\"currentColor\" x=\"1975\">gerecht.</tspan>\n",
              "    <tspan class=\"displacy-tag\" dy=\"2em\" fill=\"currentColor\" x=\"1975\">ADV</tspan>\n",
              "</text>\n",
              "\n",
              "<g class=\"displacy-arrow\">\n",
              "    <path class=\"displacy-arc\" id=\"arrow-2779815c684445f7bfa3e0f01f077f52-0-0\" stroke-width=\"2px\" d=\"M70,439.5 C70,177.0 565.0,177.0 565.0,439.5\" fill=\"none\" stroke=\"currentColor\"/>\n",
              "    <text dy=\"1.25em\" style=\"font-size: 0.8em; letter-spacing: 1px\">\n",
              "        <textPath xlink:href=\"#arrow-2779815c684445f7bfa3e0f01f077f52-0-0\" class=\"displacy-label\" startOffset=\"50%\" side=\"left\" fill=\"currentColor\" text-anchor=\"middle\">sb</textPath>\n",
              "    </text>\n",
              "    <path class=\"displacy-arrowhead\" d=\"M70,441.5 L62,429.5 78,429.5\" fill=\"currentColor\"/>\n",
              "</g>\n",
              "\n",
              "<g class=\"displacy-arrow\">\n",
              "    <path class=\"displacy-arc\" id=\"arrow-2779815c684445f7bfa3e0f01f077f52-0-1\" stroke-width=\"2px\" d=\"M245,439.5 C245,352.0 380.0,352.0 380.0,439.5\" fill=\"none\" stroke=\"currentColor\"/>\n",
              "    <text dy=\"1.25em\" style=\"font-size: 0.8em; letter-spacing: 1px\">\n",
              "        <textPath xlink:href=\"#arrow-2779815c684445f7bfa3e0f01f077f52-0-1\" class=\"displacy-label\" startOffset=\"50%\" side=\"left\" fill=\"currentColor\" text-anchor=\"middle\">pnc</textPath>\n",
              "    </text>\n",
              "    <path class=\"displacy-arrowhead\" d=\"M245,441.5 L237,429.5 253,429.5\" fill=\"currentColor\"/>\n",
              "</g>\n",
              "\n",
              "<g class=\"displacy-arrow\">\n",
              "    <path class=\"displacy-arc\" id=\"arrow-2779815c684445f7bfa3e0f01f077f52-0-2\" stroke-width=\"2px\" d=\"M70,439.5 C70,264.5 385.0,264.5 385.0,439.5\" fill=\"none\" stroke=\"currentColor\"/>\n",
              "    <text dy=\"1.25em\" style=\"font-size: 0.8em; letter-spacing: 1px\">\n",
              "        <textPath xlink:href=\"#arrow-2779815c684445f7bfa3e0f01f077f52-0-2\" class=\"displacy-label\" startOffset=\"50%\" side=\"left\" fill=\"currentColor\" text-anchor=\"middle\">nk</textPath>\n",
              "    </text>\n",
              "    <path class=\"displacy-arrowhead\" d=\"M385.0,441.5 L393.0,429.5 377.0,429.5\" fill=\"currentColor\"/>\n",
              "</g>\n",
              "\n",
              "<g class=\"displacy-arrow\">\n",
              "    <path class=\"displacy-arc\" id=\"arrow-2779815c684445f7bfa3e0f01f077f52-0-3\" stroke-width=\"2px\" d=\"M770,439.5 C770,264.5 1085.0,264.5 1085.0,439.5\" fill=\"none\" stroke=\"currentColor\"/>\n",
              "    <text dy=\"1.25em\" style=\"font-size: 0.8em; letter-spacing: 1px\">\n",
              "        <textPath xlink:href=\"#arrow-2779815c684445f7bfa3e0f01f077f52-0-3\" class=\"displacy-label\" startOffset=\"50%\" side=\"left\" fill=\"currentColor\" text-anchor=\"middle\">nk</textPath>\n",
              "    </text>\n",
              "    <path class=\"displacy-arrowhead\" d=\"M770,441.5 L762,429.5 778,429.5\" fill=\"currentColor\"/>\n",
              "</g>\n",
              "\n",
              "<g class=\"displacy-arrow\">\n",
              "    <path class=\"displacy-arc\" id=\"arrow-2779815c684445f7bfa3e0f01f077f52-0-4\" stroke-width=\"2px\" d=\"M945,439.5 C945,352.0 1080.0,352.0 1080.0,439.5\" fill=\"none\" stroke=\"currentColor\"/>\n",
              "    <text dy=\"1.25em\" style=\"font-size: 0.8em; letter-spacing: 1px\">\n",
              "        <textPath xlink:href=\"#arrow-2779815c684445f7bfa3e0f01f077f52-0-4\" class=\"displacy-label\" startOffset=\"50%\" side=\"left\" fill=\"currentColor\" text-anchor=\"middle\">nk</textPath>\n",
              "    </text>\n",
              "    <path class=\"displacy-arrowhead\" d=\"M945,441.5 L937,429.5 953,429.5\" fill=\"currentColor\"/>\n",
              "</g>\n",
              "\n",
              "<g class=\"displacy-arrow\">\n",
              "    <path class=\"displacy-arc\" id=\"arrow-2779815c684445f7bfa3e0f01f077f52-0-5\" stroke-width=\"2px\" d=\"M595,439.5 C595,177.0 1090.0,177.0 1090.0,439.5\" fill=\"none\" stroke=\"currentColor\"/>\n",
              "    <text dy=\"1.25em\" style=\"font-size: 0.8em; letter-spacing: 1px\">\n",
              "        <textPath xlink:href=\"#arrow-2779815c684445f7bfa3e0f01f077f52-0-5\" class=\"displacy-label\" startOffset=\"50%\" side=\"left\" fill=\"currentColor\" text-anchor=\"middle\">da</textPath>\n",
              "    </text>\n",
              "    <path class=\"displacy-arrowhead\" d=\"M1090.0,441.5 L1098.0,429.5 1082.0,429.5\" fill=\"currentColor\"/>\n",
              "</g>\n",
              "\n",
              "<g class=\"displacy-arrow\">\n",
              "    <path class=\"displacy-arc\" id=\"arrow-2779815c684445f7bfa3e0f01f077f52-0-6\" stroke-width=\"2px\" d=\"M1120,439.5 C1120,352.0 1255.0,352.0 1255.0,439.5\" fill=\"none\" stroke=\"currentColor\"/>\n",
              "    <text dy=\"1.25em\" style=\"font-size: 0.8em; letter-spacing: 1px\">\n",
              "        <textPath xlink:href=\"#arrow-2779815c684445f7bfa3e0f01f077f52-0-6\" class=\"displacy-label\" startOffset=\"50%\" side=\"left\" fill=\"currentColor\" text-anchor=\"middle\">nk</textPath>\n",
              "    </text>\n",
              "    <path class=\"displacy-arrowhead\" d=\"M1255.0,441.5 L1263.0,429.5 1247.0,429.5\" fill=\"currentColor\"/>\n",
              "</g>\n",
              "\n",
              "<g class=\"displacy-arrow\">\n",
              "    <path class=\"displacy-arc\" id=\"arrow-2779815c684445f7bfa3e0f01f077f52-0-7\" stroke-width=\"2px\" d=\"M1295,439.5 C1295,352.0 1430.0,352.0 1430.0,439.5\" fill=\"none\" stroke=\"currentColor\"/>\n",
              "    <text dy=\"1.25em\" style=\"font-size: 0.8em; letter-spacing: 1px\">\n",
              "        <textPath xlink:href=\"#arrow-2779815c684445f7bfa3e0f01f077f52-0-7\" class=\"displacy-label\" startOffset=\"50%\" side=\"left\" fill=\"currentColor\" text-anchor=\"middle\">mnr</textPath>\n",
              "    </text>\n",
              "    <path class=\"displacy-arrowhead\" d=\"M1430.0,441.5 L1438.0,429.5 1422.0,429.5\" fill=\"currentColor\"/>\n",
              "</g>\n",
              "\n",
              "<g class=\"displacy-arrow\">\n",
              "    <path class=\"displacy-arc\" id=\"arrow-2779815c684445f7bfa3e0f01f077f52-0-8\" stroke-width=\"2px\" d=\"M1470,439.5 C1470,352.0 1605.0,352.0 1605.0,439.5\" fill=\"none\" stroke=\"currentColor\"/>\n",
              "    <text dy=\"1.25em\" style=\"font-size: 0.8em; letter-spacing: 1px\">\n",
              "        <textPath xlink:href=\"#arrow-2779815c684445f7bfa3e0f01f077f52-0-8\" class=\"displacy-label\" startOffset=\"50%\" side=\"left\" fill=\"currentColor\" text-anchor=\"middle\">nk</textPath>\n",
              "    </text>\n",
              "    <path class=\"displacy-arrowhead\" d=\"M1605.0,441.5 L1613.0,429.5 1597.0,429.5\" fill=\"currentColor\"/>\n",
              "</g>\n",
              "\n",
              "<g class=\"displacy-arrow\">\n",
              "    <path class=\"displacy-arc\" id=\"arrow-2779815c684445f7bfa3e0f01f077f52-0-9\" stroke-width=\"2px\" d=\"M595,439.5 C595,89.5 1795.0,89.5 1795.0,439.5\" fill=\"none\" stroke=\"currentColor\"/>\n",
              "    <text dy=\"1.25em\" style=\"font-size: 0.8em; letter-spacing: 1px\">\n",
              "        <textPath xlink:href=\"#arrow-2779815c684445f7bfa3e0f01f077f52-0-9\" class=\"displacy-label\" startOffset=\"50%\" side=\"left\" fill=\"currentColor\" text-anchor=\"middle\">ng</textPath>\n",
              "    </text>\n",
              "    <path class=\"displacy-arrowhead\" d=\"M1795.0,441.5 L1803.0,429.5 1787.0,429.5\" fill=\"currentColor\"/>\n",
              "</g>\n",
              "\n",
              "<g class=\"displacy-arrow\">\n",
              "    <path class=\"displacy-arc\" id=\"arrow-2779815c684445f7bfa3e0f01f077f52-0-10\" stroke-width=\"2px\" d=\"M595,439.5 C595,2.0 1975.0,2.0 1975.0,439.5\" fill=\"none\" stroke=\"currentColor\"/>\n",
              "    <text dy=\"1.25em\" style=\"font-size: 0.8em; letter-spacing: 1px\">\n",
              "        <textPath xlink:href=\"#arrow-2779815c684445f7bfa3e0f01f077f52-0-10\" class=\"displacy-label\" startOffset=\"50%\" side=\"left\" fill=\"currentColor\" text-anchor=\"middle\">pd</textPath>\n",
              "    </text>\n",
              "    <path class=\"displacy-arrowhead\" d=\"M1975.0,441.5 L1983.0,429.5 1967.0,429.5\" fill=\"currentColor\"/>\n",
              "</g>\n",
              "</svg></span>"
            ],
            "text/plain": [
              "<IPython.core.display.HTML object>"
            ]
          },
          "metadata": {},
          "output_type": "display_data"
        }
      ],
      "source": [
        "displacy.render(list(tokens_de.sents)[0], style = \"dep\", jupyter = True)"
      ]
    },
    {
      "cell_type": "markdown",
      "id": "17c63fe6-c918-480f-bcda-0354c262cb38",
      "metadata": {
        "id": "17c63fe6-c918-480f-bcda-0354c262cb38"
      },
      "source": [
        "### Use spaCy for Named Entity Recognition (NER) of a random Article of both the english and the german dataset\n",
        "\n",
        "- Either print the entity attributes or visualize them as a table!\n",
        "- Visualize the entities as an entity plot with spaCy's displacy!"
      ]
    },
    {
      "cell_type": "code",
      "execution_count": null,
      "id": "fdb3edff-d456-4b80-9d66-ef19dcb583f7",
      "metadata": {
        "id": "fdb3edff-d456-4b80-9d66-ef19dcb583f7",
        "outputId": "1e2ecce3-c27b-44f3-87c1-70691c278480"
      },
      "outputs": [
        {
          "data": {
            "text/html": [
              "<div>\n",
              "<style scoped>\n",
              "    .dataframe tbody tr th:only-of-type {\n",
              "        vertical-align: middle;\n",
              "    }\n",
              "\n",
              "    .dataframe tbody tr th {\n",
              "        vertical-align: top;\n",
              "    }\n",
              "\n",
              "    .dataframe thead th {\n",
              "        text-align: right;\n",
              "    }\n",
              "</style>\n",
              "<table border=\"1\" class=\"dataframe\">\n",
              "  <thead>\n",
              "    <tr style=\"text-align: right;\">\n",
              "      <th></th>\n",
              "      <th>Text</th>\n",
              "      <th>Start</th>\n",
              "      <th>End</th>\n",
              "      <th>Label</th>\n",
              "    </tr>\n",
              "  </thead>\n",
              "  <tbody>\n",
              "    <tr>\n",
              "      <th>0</th>\n",
              "      <td>Pakistan</td>\n",
              "      <td>0</td>\n",
              "      <td>8</td>\n",
              "      <td>GPE</td>\n",
              "    </tr>\n",
              "    <tr>\n",
              "      <th>1</th>\n",
              "      <td>six</td>\n",
              "      <td>37</td>\n",
              "      <td>40</td>\n",
              "      <td>CARDINAL</td>\n",
              "    </tr>\n",
              "    <tr>\n",
              "      <th>2</th>\n",
              "      <td>al-Qaida</td>\n",
              "      <td>51</td>\n",
              "      <td>59</td>\n",
              "      <td>ORG</td>\n",
              "    </tr>\n",
              "    <tr>\n",
              "      <th>3</th>\n",
              "      <td>Afghan</td>\n",
              "      <td>114</td>\n",
              "      <td>120</td>\n",
              "      <td>NORP</td>\n",
              "    </tr>\n",
              "    <tr>\n",
              "      <th>4</th>\n",
              "      <td>Army</td>\n",
              "      <td>129</td>\n",
              "      <td>133</td>\n",
              "      <td>ORG</td>\n",
              "    </tr>\n",
              "  </tbody>\n",
              "</table>\n",
              "</div>"
            ],
            "text/plain": [
              "       Text  Start  End     Label\n",
              "0  Pakistan      0    8       GPE\n",
              "1       six     37   40  CARDINAL\n",
              "2  al-Qaida     51   59       ORG\n",
              "3    Afghan    114  120      NORP\n",
              "4      Army    129  133       ORG"
            ]
          },
          "execution_count": 23,
          "metadata": {},
          "output_type": "execute_result"
        }
      ],
      "source": [
        "entities_en_df = pd.DataFrame({\"Text\": [ent.text for ent in tokens_en.ents],\n",
        "                               \"Start\": [ent.start_char for ent in tokens_en.ents],\n",
        "                               \"End\": [ent.end_char for ent in tokens_en.ents],\n",
        "                               \"Label\": [ent.label_ for ent in tokens_en.ents]})\n",
        "\n",
        "entities_en_df.head()"
      ]
    },
    {
      "cell_type": "code",
      "execution_count": null,
      "id": "dda02b3c-3eb2-4b76-9f03-bb40f8ca8268",
      "metadata": {
        "id": "dda02b3c-3eb2-4b76-9f03-bb40f8ca8268",
        "outputId": "9d2b7781-b28a-4c23-d28a-c0bd663bba15"
      },
      "outputs": [
        {
          "data": {
            "text/html": [
              "<span class=\"tex2jax_ignore\"><div class=\"entities\" style=\"line-height: 2.5; direction: ltr\">\n",
              "<mark class=\"entity\" style=\"background: #feca74; padding: 0.45em 0.6em; margin: 0 0.25em; line-height: 1; border-radius: 0.35em;\">\n",
              "    Pakistan\n",
              "    <span style=\"font-size: 0.8em; font-weight: bold; line-height: 1; border-radius: 0.35em; vertical-align: middle; margin-left: 0.5rem\">GPE</span>\n",
              "</mark>\n",
              " says its troops have killed \n",
              "<mark class=\"entity\" style=\"background: #e4e7d2; padding: 0.45em 0.6em; margin: 0 0.25em; line-height: 1; border-radius: 0.35em;\">\n",
              "    six\n",
              "    <span style=\"font-size: 0.8em; font-weight: bold; line-height: 1; border-radius: 0.35em; vertical-align: middle; margin-left: 0.5rem\">CARDINAL</span>\n",
              "</mark>\n",
              " suspected \n",
              "<mark class=\"entity\" style=\"background: #7aecec; padding: 0.45em 0.6em; margin: 0 0.25em; line-height: 1; border-radius: 0.35em;\">\n",
              "    al-Qaida\n",
              "    <span style=\"font-size: 0.8em; font-weight: bold; line-height: 1; border-radius: 0.35em; vertical-align: middle; margin-left: 0.5rem\">ORG</span>\n",
              "</mark>\n",
              " militants in a semi-autonomous tribal region near the \n",
              "<mark class=\"entity\" style=\"background: #c887fb; padding: 0.45em 0.6em; margin: 0 0.25em; line-height: 1; border-radius: 0.35em;\">\n",
              "    Afghan\n",
              "    <span style=\"font-size: 0.8em; font-weight: bold; line-height: 1; border-radius: 0.35em; vertical-align: middle; margin-left: 0.5rem\">NORP</span>\n",
              "</mark>\n",
              " border. \n",
              "<mark class=\"entity\" style=\"background: #7aecec; padding: 0.45em 0.6em; margin: 0 0.25em; line-height: 1; border-radius: 0.35em;\">\n",
              "    Army\n",
              "    <span style=\"font-size: 0.8em; font-weight: bold; line-height: 1; border-radius: 0.35em; vertical-align: middle; margin-left: 0.5rem\">ORG</span>\n",
              "</mark>\n",
              " officials say the clash took place \n",
              "<mark class=\"entity\" style=\"background: #bfe1d9; padding: 0.45em 0.6em; margin: 0 0.25em; line-height: 1; border-radius: 0.35em;\">\n",
              "    early Sunday\n",
              "    <span style=\"font-size: 0.8em; font-weight: bold; line-height: 1; border-radius: 0.35em; vertical-align: middle; margin-left: 0.5rem\">DATE</span>\n",
              "</mark>\n",
              " in a mountainous area near </div></span>"
            ],
            "text/plain": [
              "<IPython.core.display.HTML object>"
            ]
          },
          "metadata": {},
          "output_type": "display_data"
        }
      ],
      "source": [
        "displacy.render(tokens_en, style = \"ent\", jupyter = True)"
      ]
    },
    {
      "cell_type": "code",
      "execution_count": null,
      "id": "d1b4ff02-ba76-4a31-880f-51dda140defa",
      "metadata": {
        "id": "d1b4ff02-ba76-4a31-880f-51dda140defa",
        "outputId": "e1a32351-a90d-4bd4-b084-20d4d4d2367a"
      },
      "outputs": [
        {
          "data": {
            "text/html": [
              "<div>\n",
              "<style scoped>\n",
              "    .dataframe tbody tr th:only-of-type {\n",
              "        vertical-align: middle;\n",
              "    }\n",
              "\n",
              "    .dataframe tbody tr th {\n",
              "        vertical-align: top;\n",
              "    }\n",
              "\n",
              "    .dataframe thead th {\n",
              "        text-align: right;\n",
              "    }\n",
              "</style>\n",
              "<table border=\"1\" class=\"dataframe\">\n",
              "  <thead>\n",
              "    <tr style=\"text-align: right;\">\n",
              "      <th></th>\n",
              "      <th>Text</th>\n",
              "      <th>Start</th>\n",
              "      <th>End</th>\n",
              "      <th>Label</th>\n",
              "    </tr>\n",
              "  </thead>\n",
              "  <tbody>\n",
              "    <tr>\n",
              "      <th>0</th>\n",
              "      <td>Exkanzler Wolfgang Schüssel</td>\n",
              "      <td>0</td>\n",
              "      <td>27</td>\n",
              "      <td>PER</td>\n",
              "    </tr>\n",
              "    <tr>\n",
              "      <th>1</th>\n",
              "      <td>U-Ausschuss</td>\n",
              "      <td>80</td>\n",
              "      <td>91</td>\n",
              "      <td>MISC</td>\n",
              "    </tr>\n",
              "    <tr>\n",
              "      <th>2</th>\n",
              "      <td>Tilo Berlin</td>\n",
              "      <td>107</td>\n",
              "      <td>118</td>\n",
              "      <td>PER</td>\n",
              "    </tr>\n",
              "    <tr>\n",
              "      <th>3</th>\n",
              "      <td>Hypo</td>\n",
              "      <td>155</td>\n",
              "      <td>159</td>\n",
              "      <td>ORG</td>\n",
              "    </tr>\n",
              "    <tr>\n",
              "      <th>4</th>\n",
              "      <td>Republik</td>\n",
              "      <td>202</td>\n",
              "      <td>210</td>\n",
              "      <td>LOC</td>\n",
              "    </tr>\n",
              "  </tbody>\n",
              "</table>\n",
              "</div>"
            ],
            "text/plain": [
              "                          Text  Start  End Label\n",
              "0  Exkanzler Wolfgang Schüssel      0   27   PER\n",
              "1                  U-Ausschuss     80   91  MISC\n",
              "2                  Tilo Berlin    107  118   PER\n",
              "3                         Hypo    155  159   ORG\n",
              "4                     Republik    202  210   LOC"
            ]
          },
          "execution_count": 25,
          "metadata": {},
          "output_type": "execute_result"
        }
      ],
      "source": [
        "entities_de_df = pd.DataFrame({\"Text\": [ent.text for ent in tokens_de.ents],\n",
        "                               \"Start\": [ent.start_char for ent in tokens_de.ents],\n",
        "                               \"End\": [ent.end_char for ent in tokens_de.ents],\n",
        "                               \"Label\": [ent.label_ for ent in tokens_de.ents]})\n",
        "\n",
        "entities_de_df.head()"
      ]
    },
    {
      "cell_type": "code",
      "execution_count": null,
      "id": "5826ad64-de44-4e69-8fdb-36e38307e8e6",
      "metadata": {
        "id": "5826ad64-de44-4e69-8fdb-36e38307e8e6",
        "outputId": "7a4ebb5a-c257-4c23-f8ef-b0488747314a"
      },
      "outputs": [
        {
          "data": {
            "text/html": [
              "<span class=\"tex2jax_ignore\"><div class=\"entities\" style=\"line-height: 2.5; direction: ltr\">\n",
              "<mark class=\"entity\" style=\"background: #ddd; padding: 0.45em 0.6em; margin: 0 0.25em; line-height: 1; border-radius: 0.35em;\">\n",
              "    Exkanzler Wolfgang Schüssel\n",
              "    <span style=\"font-size: 0.8em; font-weight: bold; line-height: 1; border-radius: 0.35em; vertical-align: middle; margin-left: 0.5rem\">PER</span>\n",
              "</mark>\n",
              " wurde seinem medialen Beinamen &quot;Schweigekanzler&quot; im \n",
              "<mark class=\"entity\" style=\"background: #ddd; padding: 0.45em 0.6em; margin: 0 0.25em; line-height: 1; border-radius: 0.35em;\">\n",
              "    U-Ausschuss\n",
              "    <span style=\"font-size: 0.8em; font-weight: bold; line-height: 1; border-radius: 0.35em; vertical-align: middle; margin-left: 0.5rem\">MISC</span>\n",
              "</mark>\n",
              " nicht gerecht. \n",
              "<mark class=\"entity\" style=\"background: #ddd; padding: 0.45em 0.6em; margin: 0 0.25em; line-height: 1; border-radius: 0.35em;\">\n",
              "    Tilo Berlin\n",
              "    <span style=\"font-size: 0.8em; font-weight: bold; line-height: 1; border-radius: 0.35em; vertical-align: middle; margin-left: 0.5rem\">PER</span>\n",
              "</mark>\n",
              " hat auch noch als Vorstandschef der \n",
              "<mark class=\"entity\" style=\"background: #7aecec; padding: 0.45em 0.6em; margin: 0 0.25em; line-height: 1; border-radius: 0.35em;\">\n",
              "    Hypo\n",
              "    <span style=\"font-size: 0.8em; font-weight: bold; line-height: 1; border-radius: 0.35em; vertical-align: middle; margin-left: 0.5rem\">ORG</span>\n",
              "</mark>\n",
              " Geld in die Bank gesteckt. Er empfahl der \n",
              "<mark class=\"entity\" style=\"background: #ff9561; padding: 0.45em 0.6em; margin: 0 0.25em; line-height: 1; border-radius: 0.35em;\">\n",
              "    Republik\n",
              "    <span style=\"font-size: 0.8em; font-weight: bold; line-height: 1; border-radius: 0.35em; vertical-align: middle; margin-left: 0.5rem\">LOC</span>\n",
              "</mark>\n",
              ", sich Geld von den \n",
              "<mark class=\"entity\" style=\"background: #ff9561; padding: 0.45em 0.6em; margin: 0 0.25em; line-height: 1; border-radius: 0.35em;\">\n",
              "    Bayern\n",
              "    <span style=\"font-size: 0.8em; font-weight: bold; line-height: 1; border-radius: 0.35em; vertical-align: middle; margin-left: 0.5rem\">LOC</span>\n",
              "</mark>\n",
              " zurückzuholen.. \n",
              "<mark class=\"entity\" style=\"background: #ff9561; padding: 0.45em 0.6em; margin: 0 0.25em; line-height: 1; border-radius: 0.35em;\">\n",
              "    Wien\n",
              "    <span style=\"font-size: 0.8em; font-weight: bold; line-height: 1; border-radius: 0.35em; vertical-align: middle; margin-left: 0.5rem\">LOC</span>\n",
              "</mark>\n",
              " – Eines einte die beiden Auskunftspersonen, die am Mittwoch vor dem parlamentarischen Hypo-U-Ausschuss ausgesagt haben. Exkanzler \n",
              "<mark class=\"entity\" style=\"background: #ddd; padding: 0.45em 0.6em; margin: 0 0.25em; line-height: 1; border-radius: 0.35em;\">\n",
              "    Wolfgang Schüssel\n",
              "    <span style=\"font-size: 0.8em; font-weight: bold; line-height: 1; border-radius: 0.35em; vertical-align: middle; margin-left: 0.5rem\">PER</span>\n",
              "</mark>\n",
              " (\n",
              "<mark class=\"entity\" style=\"background: #7aecec; padding: 0.45em 0.6em; margin: 0 0.25em; line-height: 1; border-radius: 0.35em;\">\n",
              "    ÖVP\n",
              "    <span style=\"font-size: 0.8em; font-weight: bold; line-height: 1; border-radius: 0.35em; vertical-align: middle; margin-left: 0.5rem\">ORG</span>\n",
              "</mark>\n",
              ") und \n",
              "<mark class=\"entity\" style=\"background: #7aecec; padding: 0.45em 0.6em; margin: 0 0.25em; line-height: 1; border-radius: 0.35em;\">\n",
              "    Exbankchef\n",
              "    <span style=\"font-size: 0.8em; font-weight: bold; line-height: 1; border-radius: 0.35em; vertical-align: middle; margin-left: 0.5rem\">ORG</span>\n",
              "</mark>\n",
              " und Investor \n",
              "<mark class=\"entity\" style=\"background: #7aecec; padding: 0.45em 0.6em; margin: 0 0.25em; line-height: 1; border-radius: 0.35em;\">\n",
              "    Tilo Berlin\n",
              "    <span style=\"font-size: 0.8em; font-weight: bold; line-height: 1; border-radius: 0.35em; vertical-align: middle; margin-left: 0.5rem\">ORG</span>\n",
              "</mark>\n",
              " schlängelten sich bei ihrer Ankunft an den vielen, vielen vor dem \n",
              "<mark class=\"entity\" style=\"background: #ff9561; padding: 0.45em 0.6em; margin: 0 0.25em; line-height: 1; border-radius: 0.35em;\">\n",
              "    Budgetsaal\n",
              "    <span style=\"font-size: 0.8em; font-weight: bold; line-height: 1; border-radius: 0.35em; vertical-align: middle; margin-left: 0.5rem\">LOC</span>\n",
              "</mark>\n",
              " wartenden Medienvertretern vorbei. Während \n",
              "<mark class=\"entity\" style=\"background: #ddd; padding: 0.45em 0.6em; margin: 0 0.25em; line-height: 1; border-radius: 0.35em;\">\n",
              "    Schüssel\n",
              "    <span style=\"font-size: 0.8em; font-weight: bold; line-height: 1; border-radius: 0.35em; vertical-align: middle; margin-left: 0.5rem\">PER</span>\n",
              "</mark>\n",
              " im \n",
              "<mark class=\"entity\" style=\"background: #ff9561; padding: 0.45em 0.6em; margin: 0 0.25em; line-height: 1; border-radius: 0.35em;\">\n",
              "    Ausschusslokal\n",
              "    <span style=\"font-size: 0.8em; font-weight: bold; line-height: 1; border-radius: 0.35em; vertical-align: middle; margin-left: 0.5rem\">LOC</span>\n",
              "</mark>\n",
              " selbst nolens volens ein Blitzlichtgewitter über sich ergehen ließ, lehnte \n",
              "<mark class=\"entity\" style=\"background: #ff9561; padding: 0.45em 0.6em; margin: 0 0.25em; line-height: 1; border-radius: 0.35em;\">\n",
              "    Berlin\n",
              "    <span style=\"font-size: 0.8em; font-weight: bold; line-height: 1; border-radius: 0.35em; vertical-align: middle; margin-left: 0.5rem\">LOC</span>\n",
              "</mark>\n",
              " die Ablichtung ab: Es gibt genug Fotos von mir. \n",
              "<mark class=\"entity\" style=\"background: #ddd; padding: 0.45em 0.6em; margin: 0 0.25em; line-height: 1; border-radius: 0.35em;\">\n",
              "    Exkanzler Schüssel\n",
              "    <span style=\"font-size: 0.8em; font-weight: bold; line-height: 1; border-radius: 0.35em; vertical-align: middle; margin-left: 0.5rem\">PER</span>\n",
              "</mark>\n",
              " hatte sich zuvor selbstsicher wie immer gezeigt. Manchmal ein wenig genervt (Für Sie Herr Doktor Schüssel, schulte er Team-Stronach-Mandatar \n",
              "<mark class=\"entity\" style=\"background: #ddd; padding: 0.45em 0.6em; margin: 0 0.25em; line-height: 1; border-radius: 0.35em;\">\n",
              "    Robert Lugar\n",
              "    <span style=\"font-size: 0.8em; font-weight: bold; line-height: 1; border-radius: 0.35em; vertical-align: middle; margin-left: 0.5rem\">PER</span>\n",
              "</mark>\n",
              " um), manchmal staatstragend (Hören Sie, ich war 2006 \n",
              "<mark class=\"entity\" style=\"background: #7aecec; padding: 0.45em 0.6em; margin: 0 0.25em; line-height: 1; border-radius: 0.35em;\">\n",
              "    EU-Präsident\n",
              "    <span style=\"font-size: 0.8em; font-weight: bold; line-height: 1; border-radius: 0.35em; vertical-align: middle; margin-left: 0.5rem\">ORG</span>\n",
              "</mark>\n",
              ". Ich weiß gar nicht, wo ich da genau \n",
              "<mark class=\"entity\" style=\"background: #ddd; padding: 0.45em 0.6em; margin: 0 0.25em; line-height: 1; border-radius: 0.35em;\">\n",
              "    herumgekurvt\n",
              "    <span style=\"font-size: 0.8em; font-weight: bold; line-height: 1; border-radius: 0.35em; vertical-align: middle; margin-left: 0.5rem\">PER</span>\n",
              "</mark>\n",
              " bin in der Weltgeschichte), manchmal aber auch auf dünnem Eis unterwegs. So beim Thema Einstieg der \n",
              "<mark class=\"entity\" style=\"background: #7aecec; padding: 0.45em 0.6em; margin: 0 0.25em; line-height: 1; border-radius: 0.35em;\">\n",
              "    BayernLB\n",
              "    <span style=\"font-size: 0.8em; font-weight: bold; line-height: 1; border-radius: 0.35em; vertical-align: middle; margin-left: 0.5rem\">ORG</span>\n",
              "</mark>\n",
              " in die damalige \n",
              "<mark class=\"entity\" style=\"background: #7aecec; padding: 0.45em 0.6em; margin: 0 0.25em; line-height: 1; border-radius: 0.35em;\">\n",
              "    Kärntner Landesbank\n",
              "    <span style=\"font-size: 0.8em; font-weight: bold; line-height: 1; border-radius: 0.35em; vertical-align: middle; margin-left: 0.5rem\">ORG</span>\n",
              "</mark>\n",
              ". Anlässlich der Frage Lugars, warum \n",
              "<mark class=\"entity\" style=\"background: #ddd; padding: 0.45em 0.6em; margin: 0 0.25em; line-height: 1; border-radius: 0.35em;\">\n",
              "    Schüssel\n",
              "    <span style=\"font-size: 0.8em; font-weight: bold; line-height: 1; border-radius: 0.35em; vertical-align: middle; margin-left: 0.5rem\">PER</span>\n",
              "</mark>\n",
              " 2006 bei der wankenden \n",
              "<mark class=\"entity\" style=\"background: #7aecec; padding: 0.45em 0.6em; margin: 0 0.25em; line-height: 1; border-radius: 0.35em;\">\n",
              "    Bawag\n",
              "    <span style=\"font-size: 0.8em; font-weight: bold; line-height: 1; border-radius: 0.35em; vertical-align: middle; margin-left: 0.5rem\">ORG</span>\n",
              "</mark>\n",
              " medienwirksam ein Sparbuch eröffnete, aber nicht bei der \n",
              "<mark class=\"entity\" style=\"background: #7aecec; padding: 0.45em 0.6em; margin: 0 0.25em; line-height: 1; border-radius: 0.35em;\">\n",
              "    Hypo\n",
              "    <span style=\"font-size: 0.8em; font-weight: bold; line-height: 1; border-radius: 0.35em; vertical-align: middle; margin-left: 0.5rem\">ORG</span>\n",
              "</mark>\n",
              ", kam der Exkanzler auf die \n",
              "<mark class=\"entity\" style=\"background: #ff9561; padding: 0.45em 0.6em; margin: 0 0.25em; line-height: 1; border-radius: 0.35em;\">\n",
              "    Bayern\n",
              "    <span style=\"font-size: 0.8em; font-weight: bold; line-height: 1; border-radius: 0.35em; vertical-align: middle; margin-left: 0.5rem\">LOC</span>\n",
              "</mark>\n",
              " zu reden. Die hätten damals schon großes Interesse gezeigt, die \n",
              "<mark class=\"entity\" style=\"background: #7aecec; padding: 0.45em 0.6em; margin: 0 0.25em; line-height: 1; border-radius: 0.35em;\">\n",
              "    Hypo\n",
              "    <span style=\"font-size: 0.8em; font-weight: bold; line-height: 1; border-radius: 0.35em; vertical-align: middle; margin-left: 0.5rem\">ORG</span>\n",
              "</mark>\n",
              " zu kaufen. In den folgenden Stunden kamen die \n",
              "<mark class=\"entity\" style=\"background: #7aecec; padding: 0.45em 0.6em; margin: 0 0.25em; line-height: 1; border-radius: 0.35em;\">\n",
              "    Abgeordneten\n",
              "    <span style=\"font-size: 0.8em; font-weight: bold; line-height: 1; border-radius: 0.35em; vertical-align: middle; margin-left: 0.5rem\">ORG</span>\n",
              "</mark>\n",
              " immer wieder auf dieses Thema zurück. Denn tatsächlich sind die \n",
              "<mark class=\"entity\" style=\"background: #ff9561; padding: 0.45em 0.6em; margin: 0 0.25em; line-height: 1; border-radius: 0.35em;\">\n",
              "    Bayern\n",
              "    <span style=\"font-size: 0.8em; font-weight: bold; line-height: 1; border-radius: 0.35em; vertical-align: middle; margin-left: 0.5rem\">LOC</span>\n",
              "</mark>\n",
              " erst Mitte 2007 mehrheitlich in die \n",
              "<mark class=\"entity\" style=\"background: #7aecec; padding: 0.45em 0.6em; margin: 0 0.25em; line-height: 1; border-radius: 0.35em;\">\n",
              "    Hypo\n",
              "    <span style=\"font-size: 0.8em; font-weight: bold; line-height: 1; border-radius: 0.35em; vertical-align: middle; margin-left: 0.5rem\">ORG</span>\n",
              "</mark>\n",
              " eingestiegen; die (hochgeheimen) Verhandlungen mit den \n",
              "<mark class=\"entity\" style=\"background: #ddd; padding: 0.45em 0.6em; margin: 0 0.25em; line-height: 1; border-radius: 0.35em;\">\n",
              "    Kärntnern\n",
              "    <span style=\"font-size: 0.8em; font-weight: bold; line-height: 1; border-radius: 0.35em; vertical-align: middle; margin-left: 0.5rem\">MISC</span>\n",
              "</mark>\n",
              " sollen frühestens ab Anfang 2007 geführt worden sein, wird allseits beteuert. Von Bedeutung ist das vor allem auch wegen des Einstiegs der Investorengruppe \n",
              "<mark class=\"entity\" style=\"background: #7aecec; padding: 0.45em 0.6em; margin: 0 0.25em; line-height: 1; border-radius: 0.35em;\">\n",
              "    Tilo Berlin\n",
              "    <span style=\"font-size: 0.8em; font-weight: bold; line-height: 1; border-radius: 0.35em; vertical-align: middle; margin-left: 0.5rem\">ORG</span>\n",
              "</mark>\n",
              " ab Dezember 2006. Auch ihre Proponenten beteuern, vom Einstieg der \n",
              "<mark class=\"entity\" style=\"background: #ff9561; padding: 0.45em 0.6em; margin: 0 0.25em; line-height: 1; border-radius: 0.35em;\">\n",
              "    Bayern\n",
              "    <span style=\"font-size: 0.8em; font-weight: bold; line-height: 1; border-radius: 0.35em; vertical-align: middle; margin-left: 0.5rem\">LOC</span>\n",
              "</mark>\n",
              ", bei dem sie einen riesigen Schnitt machten, vorerst nicht gewusst zu haben. Immer wieder also wurde \n",
              "<mark class=\"entity\" style=\"background: #ddd; padding: 0.45em 0.6em; margin: 0 0.25em; line-height: 1; border-radius: 0.35em;\">\n",
              "    Schüssel\n",
              "    <span style=\"font-size: 0.8em; font-weight: bold; line-height: 1; border-radius: 0.35em; vertical-align: middle; margin-left: 0.5rem\">PER</span>\n",
              "</mark>\n",
              " nach Details für seine Information gefragt, immer weniger sagte er dazu. Alle möglichen \n",
              "<mark class=\"entity\" style=\"background: #ff9561; padding: 0.45em 0.6em; margin: 0 0.25em; line-height: 1; border-radius: 0.35em;\">\n",
              "    Bayern\n",
              "    <span style=\"font-size: 0.8em; font-weight: bold; line-height: 1; border-radius: 0.35em; vertical-align: middle; margin-left: 0.5rem\">LOC</span>\n",
              "</mark>\n",
              ", die immer wieder vorbeigekommen sind hätten ihr Interesse deponiert. Wer genau? Daran könne er sich nicht mehr erinnern. Der Exkanzler selbst hat sich mit dem Thema \n",
              "<mark class=\"entity\" style=\"background: #7aecec; padding: 0.45em 0.6em; margin: 0 0.25em; line-height: 1; border-radius: 0.35em;\">\n",
              "    Hypo\n",
              "    <span style=\"font-size: 0.8em; font-weight: bold; line-height: 1; border-radius: 0.35em; vertical-align: middle; margin-left: 0.5rem\">ORG</span>\n",
              "</mark>\n",
              " in seiner Ära offenbar nicht intensiv auseinandergesetzt. Er habe zwar 2006 beim (mittlerweile berühmten) Spaziergang mit den damaligen \n",
              "<mark class=\"entity\" style=\"background: #7aecec; padding: 0.45em 0.6em; margin: 0 0.25em; line-height: 1; border-radius: 0.35em;\">\n",
              "    FMA-Chefs\n",
              "    <span style=\"font-size: 0.8em; font-weight: bold; line-height: 1; border-radius: 0.35em; vertical-align: middle; margin-left: 0.5rem\">ORG</span>\n",
              "</mark>\n",
              " \n",
              "<mark class=\"entity\" style=\"background: #ddd; padding: 0.45em 0.6em; margin: 0 0.25em; line-height: 1; border-radius: 0.35em;\">\n",
              "    Heinrich Traumüller\n",
              "    <span style=\"font-size: 0.8em; font-weight: bold; line-height: 1; border-radius: 0.35em; vertical-align: middle; margin-left: 0.5rem\">PER</span>\n",
              "</mark>\n",
              " und \n",
              "<mark class=\"entity\" style=\"background: #ddd; padding: 0.45em 0.6em; margin: 0 0.25em; line-height: 1; border-radius: 0.35em;\">\n",
              "    Kurt Pribil\n",
              "    <span style=\"font-size: 0.8em; font-weight: bold; line-height: 1; border-radius: 0.35em; vertical-align: middle; margin-left: 0.5rem\">PER</span>\n",
              "</mark>\n",
              " mit selbigen auch über die \n",
              "<mark class=\"entity\" style=\"background: #7aecec; padding: 0.45em 0.6em; margin: 0 0.25em; line-height: 1; border-radius: 0.35em;\">\n",
              "    Hypo\n",
              "    <span style=\"font-size: 0.8em; font-weight: bold; line-height: 1; border-radius: 0.35em; vertical-align: middle; margin-left: 0.5rem\">ORG</span>\n",
              "</mark>\n",
              " geredet – dass die davon sprachen, dass die \n",
              "<mark class=\"entity\" style=\"background: #7aecec; padding: 0.45em 0.6em; margin: 0 0.25em; line-height: 1; border-radius: 0.35em;\">\n",
              "    Hypo\n",
              "    <span style=\"font-size: 0.8em; font-weight: bold; line-height: 1; border-radius: 0.35em; vertical-align: middle; margin-left: 0.5rem\">ORG</span>\n",
              "</mark>\n",
              " wie ein Sportflugzeug ohne Radar im Nebel unterwegs war, bestätigte er aber nicht. Die \n",
              "<mark class=\"entity\" style=\"background: #7aecec; padding: 0.45em 0.6em; margin: 0 0.25em; line-height: 1; border-radius: 0.35em;\">\n",
              "    FMA-Chefs\n",
              "    <span style=\"font-size: 0.8em; font-weight: bold; line-height: 1; border-radius: 0.35em; vertical-align: middle; margin-left: 0.5rem\">ORG</span>\n",
              "</mark>\n",
              " hätten gemeint, sie hätten alles unter Kontrolle – und sie haben mit dem Absetzungsverfahren gegen den Bankvorstand auch richtig reagiert, meinte Schüssel. Der im übrigen nicht müde wurde, die Aufsicht, die in seiner und \n",
              "<mark class=\"entity\" style=\"background: #ddd; padding: 0.45em 0.6em; margin: 0 0.25em; line-height: 1; border-radius: 0.35em;\">\n",
              "    Karl-Heinz Grassers\n",
              "    <span style=\"font-size: 0.8em; font-weight: bold; line-height: 1; border-radius: 0.35em; vertical-align: middle; margin-left: 0.5rem\">PER</span>\n",
              "</mark>\n",
              " Ära reformiert wurde, zu verteidigen. Nicht, dass sie heiligzusprechen ist, da sind schon Fehler passiert, aber man könne sie nicht so hinstellen, als sei sie zum Krenreiben.  Für ihn stünden in erster Linie immer die Wirtschaftsprüfer und der Aufsichtsrat in der Verantwortung. \n",
              "<mark class=\"entity\" style=\"background: #ddd; padding: 0.45em 0.6em; margin: 0 0.25em; line-height: 1; border-radius: 0.35em;\">\n",
              "    Tilo Berlin\n",
              "    <span style=\"font-size: 0.8em; font-weight: bold; line-height: 1; border-radius: 0.35em; vertical-align: middle; margin-left: 0.5rem\">PER</span>\n",
              "</mark>\n",
              " kam mit seinem Bruder, Anwalt \n",
              "<mark class=\"entity\" style=\"background: #ddd; padding: 0.45em 0.6em; margin: 0 0.25em; line-height: 1; border-radius: 0.35em;\">\n",
              "    Malte Berlin\n",
              "    <span style=\"font-size: 0.8em; font-weight: bold; line-height: 1; border-radius: 0.35em; vertical-align: middle; margin-left: 0.5rem\">PER</span>\n",
              "</mark>\n",
              ", ins Parlament. Er zeigte sich auskunftsfreudig, sofern vom Geschäfts- oder Bankgeheimnis entbunden, oder er sich wegen eines laufenden Finanzstrafverfahrens der Aussage entschlug. Das war der Fall, als \n",
              "<mark class=\"entity\" style=\"background: #ddd; padding: 0.45em 0.6em; margin: 0 0.25em; line-height: 1; border-radius: 0.35em;\">\n",
              "    Neos-Mandatar Rainer Hable Berlin\n",
              "    <span style=\"font-size: 0.8em; font-weight: bold; line-height: 1; border-radius: 0.35em; vertical-align: middle; margin-left: 0.5rem\">PER</span>\n",
              "</mark>\n",
              " vorhielt, dass den 70 Investoren der dritten Tranche (da war der \n",
              "<mark class=\"entity\" style=\"background: #ddd; padding: 0.45em 0.6em; margin: 0 0.25em; line-height: 1; border-radius: 0.35em;\">\n",
              "    Bayern-Einstieg\n",
              "    <span style=\"font-size: 0.8em; font-weight: bold; line-height: 1; border-radius: 0.35em; vertical-align: middle; margin-left: 0.5rem\">MISC</span>\n",
              "</mark>\n",
              " schon bekannt) ein Geschenk gemacht wurde. \n",
              "<mark class=\"entity\" style=\"background: #ddd; padding: 0.45em 0.6em; margin: 0 0.25em; line-height: 1; border-radius: 0.35em;\">\n",
              "    Hable\n",
              "    <span style=\"font-size: 0.8em; font-weight: bold; line-height: 1; border-radius: 0.35em; vertical-align: middle; margin-left: 0.5rem\">PER</span>\n",
              "</mark>\n",
              " ließ es nicht dabei bewenden – und landete einen Treffer. Erst meinte \n",
              "<mark class=\"entity\" style=\"background: #ff9561; padding: 0.45em 0.6em; margin: 0 0.25em; line-height: 1; border-radius: 0.35em;\">\n",
              "    Berlin\n",
              "    <span style=\"font-size: 0.8em; font-weight: bold; line-height: 1; border-radius: 0.35em; vertical-align: middle; margin-left: 0.5rem\">LOC</span>\n",
              "</mark>\n",
              ", er selbst oder eine seiner Firmen sei bei dem Investment nicht mehr dabei gewesen. Nach Vorlage eines Aktes korrigierte er sich:_2,5 Mio. Euro habe eine Firma, an der er beteiligt war, in Genussscheine gesteckt. Laut \n",
              "<mark class=\"entity\" style=\"background: #ddd; padding: 0.45em 0.6em; margin: 0 0.25em; line-height: 1; border-radius: 0.35em;\">\n",
              "    Hable\n",
              "    <span style=\"font-size: 0.8em; font-weight: bold; line-height: 1; border-radius: 0.35em; vertical-align: middle; margin-left: 0.5rem\">PER</span>\n",
              "</mark>\n",
              " war der Vermögensverwalter gar mit 18 Mio. Euro in der dritten Tranche investiert, was \n",
              "<mark class=\"entity\" style=\"background: #ff9561; padding: 0.45em 0.6em; margin: 0 0.25em; line-height: 1; border-radius: 0.35em;\">\n",
              "    Berlin\n",
              "    <span style=\"font-size: 0.8em; font-weight: bold; line-height: 1; border-radius: 0.35em; vertical-align: middle; margin-left: 0.5rem\">LOC</span>\n",
              "</mark>\n",
              " bestritt. Dann ging der frühere \n",
              "<mark class=\"entity\" style=\"background: #7aecec; padding: 0.45em 0.6em; margin: 0 0.25em; line-height: 1; border-radius: 0.35em;\">\n",
              "    Hypo-Chef\n",
              "    <span style=\"font-size: 0.8em; font-weight: bold; line-height: 1; border-radius: 0.35em; vertical-align: middle; margin-left: 0.5rem\">ORG</span>\n",
              "</mark>\n",
              " in die Offensive. Er selbst sei bei dem Investment betrogen worden, weil die \n",
              "<mark class=\"entity\" style=\"background: #ddd; padding: 0.45em 0.6em; margin: 0 0.25em; line-height: 1; border-radius: 0.35em;\">\n",
              "    Hypo-Bilanzen\n",
              "    <span style=\"font-size: 0.8em; font-weight: bold; line-height: 1; border-radius: 0.35em; vertical-align: middle; margin-left: 0.5rem\">MISC</span>\n",
              "</mark>\n",
              " falsch gewesen seien. \n",
              "<mark class=\"entity\" style=\"background: #7aecec; padding: 0.45em 0.6em; margin: 0 0.25em; line-height: 1; border-radius: 0.35em;\">\n",
              "    Und:_Die Bayern\n",
              "    <span style=\"font-size: 0.8em; font-weight: bold; line-height: 1; border-radius: 0.35em; vertical-align: middle; margin-left: 0.5rem\">ORG</span>\n",
              "</mark>\n",
              " hätten sich das erste Staatsgeld Ende 2008 erschlichen, damals sei der Rückzug aus der \n",
              "<mark class=\"entity\" style=\"background: #7aecec; padding: 0.45em 0.6em; margin: 0 0.25em; line-height: 1; border-radius: 0.35em;\">\n",
              "    Hypo\n",
              "    <span style=\"font-size: 0.8em; font-weight: bold; line-height: 1; border-radius: 0.35em; vertical-align: middle; margin-left: 0.5rem\">ORG</span>\n",
              "</mark>\n",
              " längst festgestanden. Anzeigen zu diesem Vorfall und betreffend die Verstaatlichung der \n",
              "<mark class=\"entity\" style=\"background: #7aecec; padding: 0.45em 0.6em; margin: 0 0.25em; line-height: 1; border-radius: 0.35em;\">\n",
              "    Kärntner Bank\n",
              "    <span style=\"font-size: 0.8em; font-weight: bold; line-height: 1; border-radius: 0.35em; vertical-align: middle; margin-left: 0.5rem\">ORG</span>\n",
              "</mark>\n",
              " ein Jahr später bei der Staatsanwaltschaft hätten aber kaum Folgen gezeitigt. Letzterer Sachverhalt sei mangels Anfangsverdachts gleich in den Müll gewandert. \n",
              "<mark class=\"entity\" style=\"background: #ff9561; padding: 0.45em 0.6em; margin: 0 0.25em; line-height: 1; border-radius: 0.35em;\">\n",
              "    Berlins\n",
              "    <span style=\"font-size: 0.8em; font-weight: bold; line-height: 1; border-radius: 0.35em; vertical-align: middle; margin-left: 0.5rem\">LOC</span>\n",
              "</mark>\n",
              " Tipp an die \n",
              "<mark class=\"entity\" style=\"background: #ddd; padding: 0.45em 0.6em; margin: 0 0.25em; line-height: 1; border-radius: 0.35em;\">\n",
              "    Regierung:_Die 900\n",
              "    <span style=\"font-size: 0.8em; font-weight: bold; line-height: 1; border-radius: 0.35em; vertical-align: middle; margin-left: 0.5rem\">MISC</span>\n",
              "</mark>\n",
              " Millionen Euro Partizipationskapital müsste man von den \n",
              "<mark class=\"entity\" style=\"background: #ff9561; padding: 0.45em 0.6em; margin: 0 0.25em; line-height: 1; border-radius: 0.35em;\">\n",
              "    Bayern\n",
              "    <span style=\"font-size: 0.8em; font-weight: bold; line-height: 1; border-radius: 0.35em; vertical-align: middle; margin-left: 0.5rem\">LOC</span>\n",
              "</mark>\n",
              " zurückfordern. Fehler bei sich vermag der Finanzmann hingegen nicht zu entdecken.</div></span>"
            ],
            "text/plain": [
              "<IPython.core.display.HTML object>"
            ]
          },
          "metadata": {},
          "output_type": "display_data"
        }
      ],
      "source": [
        "displacy.render(tokens_de, style = \"ent\", jupyter = True)"
      ]
    },
    {
      "cell_type": "markdown",
      "id": "f5ee1cc5-6b2b-4e5c-8041-3ad2ad321ec7",
      "metadata": {
        "id": "f5ee1cc5-6b2b-4e5c-8041-3ad2ad321ec7"
      },
      "source": [
        "### We can also use spaCy to calculate the similarity between a german and an english article\n",
        "\n",
        "- Read also: [https://spacy.io/usage/spacy-101#vectors-similarity](https://spacy.io/usage/spacy-101#vectors-similarity)"
      ]
    },
    {
      "cell_type": "code",
      "execution_count": null,
      "id": "72ed1dca-ac44-4d79-94b6-c36881319622",
      "metadata": {
        "id": "72ed1dca-ac44-4d79-94b6-c36881319622",
        "outputId": "97d05f92-e617-49c1-c920-0e278e977b2a"
      },
      "outputs": [
        {
          "data": {
            "text/plain": [
              "-0.05108254988373718"
            ]
          },
          "execution_count": 27,
          "metadata": {},
          "output_type": "execute_result"
        }
      ],
      "source": [
        "tokens_de.similarity(tokens_en)"
      ]
    },
    {
      "cell_type": "code",
      "execution_count": null,
      "id": "887df2f9-1efd-433e-b016-1e2df328bb33",
      "metadata": {
        "id": "887df2f9-1efd-433e-b016-1e2df328bb33",
        "outputId": "1f0603be-7c6a-46df-b3e9-0ecda32dc3c4"
      },
      "outputs": [
        {
          "data": {
            "text/plain": [
              "0.6646700501441956"
            ]
          },
          "execution_count": 28,
          "metadata": {},
          "output_type": "execute_result"
        }
      ],
      "source": [
        "fruits = nlp_en(\"apple banana\")\n",
        "fruits[0].similarity(fruits[1])"
      ]
    },
    {
      "cell_type": "markdown",
      "id": "d9f9779f-e5d7-44ca-9608-ba0a0fc2f355",
      "metadata": {
        "id": "d9f9779f-e5d7-44ca-9608-ba0a0fc2f355"
      },
      "source": [
        "### spaCy also encodes documents and tokens as feature vectors (we might come back to this later on)"
      ]
    },
    {
      "cell_type": "code",
      "execution_count": null,
      "id": "191192d7-cd45-4970-99fa-7a9c91d99432",
      "metadata": {
        "id": "191192d7-cd45-4970-99fa-7a9c91d99432",
        "outputId": "a08410b7-4b3f-4d68-b449-590b1930c662"
      },
      "outputs": [
        {
          "name": "stdout",
          "output_type": "stream",
          "text": [
            "(300,)\n",
            "(300,)\n"
          ]
        }
      ],
      "source": [
        "token = tokens_en[0]\n",
        "print(token.vector.shape)\n",
        "print(tokens_en.vector.shape)"
      ]
    },
    {
      "cell_type": "code",
      "execution_count": null,
      "id": "0f3c5909-6e16-44b0-8324-1d6b8385cd23",
      "metadata": {
        "id": "0f3c5909-6e16-44b0-8324-1d6b8385cd23"
      },
      "outputs": [],
      "source": []
    }
  ],
  "metadata": {
    "kernelspec": {
      "display_name": "Python 3 (ipykernel)",
      "language": "python",
      "name": "python3"
    },
    "language_info": {
      "codemirror_mode": {
        "name": "ipython",
        "version": 3
      },
      "file_extension": ".py",
      "mimetype": "text/x-python",
      "name": "python",
      "nbconvert_exporter": "python",
      "pygments_lexer": "ipython3",
      "version": "3.12.0"
    },
    "colab": {
      "provenance": [],
      "include_colab_link": true
    }
  },
  "nbformat": 4,
  "nbformat_minor": 5
}