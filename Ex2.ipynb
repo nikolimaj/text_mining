{
  "cells": [
    {
      "cell_type": "markdown",
      "metadata": {
        "id": "view-in-github",
        "colab_type": "text"
      },
      "source": [
        "<a href=\"https://colab.research.google.com/github/nikolimaj/text_mining/blob/main/Ex2.ipynb\" target=\"_parent\"><img src=\"https://colab.research.google.com/assets/colab-badge.svg\" alt=\"Open In Colab\"/></a>"
      ]
    },
    {
      "cell_type": "markdown",
      "id": "2ef4d8ec-b651-43cd-b92a-7676e3fc8ec6",
      "metadata": {
        "id": "2ef4d8ec-b651-43cd-b92a-7676e3fc8ec6"
      },
      "source": [
        "### Loading our data\n",
        "\n",
        "For the following exercise we will use the word count matrix representation and only use a small subset of our data since we will implement a naiveBayes classifier - which is a \"lazy learner\" and so predictions will be rather slow."
      ]
    },
    {
      "cell_type": "code",
      "execution_count": 2,
      "id": "1c7efa9f-be80-4108-9387-6cd68255c89f",
      "metadata": {
        "id": "1c7efa9f-be80-4108-9387-6cd68255c89f"
      },
      "outputs": [],
      "source": [
        "from sklearn.model_selection import train_test_split\n",
        "from sklearn.metrics import confusion_matrix\n",
        "from sklearn.metrics import accuracy_score\n",
        "import matplotlib.pyplot as plt\n",
        "from tqdm import tqdm\n",
        "import pandas as pd\n",
        "import numpy as np\n",
        "import itertools\n",
        "import kagglehub"
      ]
    },
    {
      "cell_type": "markdown",
      "source": [
        "### Reading data from path"
      ],
      "metadata": {
        "id": "fvTcb3csgijh"
      },
      "id": "fvTcb3csgijh"
    },
    {
      "cell_type": "code",
      "source": [
        "path = kagglehub.dataset_download(\"shanegerami/ai-vs-human-text\")\n",
        "\n",
        "print(\"Path to dataset files:\", path)"
      ],
      "metadata": {
        "id": "-iXpNzCqgUp6",
        "outputId": "d2495a71-7d09-44b6-ec88-e6b85021da24",
        "colab": {
          "base_uri": "https://localhost:8080/"
        }
      },
      "id": "-iXpNzCqgUp6",
      "execution_count": 3,
      "outputs": [
        {
          "output_type": "stream",
          "name": "stdout",
          "text": [
            "Path to dataset files: /root/.cache/kagglehub/datasets/shanegerami/ai-vs-human-text/versions/1\n"
          ]
        }
      ]
    },
    {
      "cell_type": "markdown",
      "id": "f007c515-5a39-4ad2-b904-bdca9a21df0e",
      "metadata": {
        "id": "f007c515-5a39-4ad2-b904-bdca9a21df0e"
      },
      "source": [
        "### Splitting data into a training dataset and a test dataset"
      ]
    },
    {
      "cell_type": "code",
      "execution_count": 4,
      "id": "e2c52bfe-0d55-4e4b-b745-6805cdbe46a2",
      "metadata": {
        "id": "e2c52bfe-0d55-4e4b-b745-6805cdbe46a2",
        "outputId": "539cd000-16d2-4fc2-c995-cb013f988b18",
        "colab": {
          "base_uri": "https://localhost:8080/",
          "height": 241
        }
      },
      "outputs": [
        {
          "output_type": "stream",
          "name": "stdout",
          "text": [
            "(3166, 2)\n",
            "(1706, 2)\n"
          ]
        },
        {
          "output_type": "execute_result",
          "data": {
            "text/plain": [
              "                                                     text  generated\n",
              "119899  As a language model AI, I do not have a person...        1.0\n",
              "385170  Dr. Paul Beckman is the creator of the FACS wh...        0.0\n",
              "17084   The best way of work.\\n\\nOne question has been...        0.0\n",
              "277033   Dear [State Senator’s Name],\\n\\nI am writing ...        1.0\n",
              "251286  As a senior in CIC school, I believe that driv...        1.0"
            ],
            "text/html": [
              "\n",
              "  <div id=\"df-93def0d5-1ac3-4a44-9d46-47a0ddd3fdb4\" class=\"colab-df-container\">\n",
              "    <div>\n",
              "<style scoped>\n",
              "    .dataframe tbody tr th:only-of-type {\n",
              "        vertical-align: middle;\n",
              "    }\n",
              "\n",
              "    .dataframe tbody tr th {\n",
              "        vertical-align: top;\n",
              "    }\n",
              "\n",
              "    .dataframe thead th {\n",
              "        text-align: right;\n",
              "    }\n",
              "</style>\n",
              "<table border=\"1\" class=\"dataframe\">\n",
              "  <thead>\n",
              "    <tr style=\"text-align: right;\">\n",
              "      <th></th>\n",
              "      <th>text</th>\n",
              "      <th>generated</th>\n",
              "    </tr>\n",
              "  </thead>\n",
              "  <tbody>\n",
              "    <tr>\n",
              "      <th>119899</th>\n",
              "      <td>As a language model AI, I do not have a person...</td>\n",
              "      <td>1.0</td>\n",
              "    </tr>\n",
              "    <tr>\n",
              "      <th>385170</th>\n",
              "      <td>Dr. Paul Beckman is the creator of the FACS wh...</td>\n",
              "      <td>0.0</td>\n",
              "    </tr>\n",
              "    <tr>\n",
              "      <th>17084</th>\n",
              "      <td>The best way of work.\\n\\nOne question has been...</td>\n",
              "      <td>0.0</td>\n",
              "    </tr>\n",
              "    <tr>\n",
              "      <th>277033</th>\n",
              "      <td>Dear [State Senator’s Name],\\n\\nI am writing ...</td>\n",
              "      <td>1.0</td>\n",
              "    </tr>\n",
              "    <tr>\n",
              "      <th>251286</th>\n",
              "      <td>As a senior in CIC school, I believe that driv...</td>\n",
              "      <td>1.0</td>\n",
              "    </tr>\n",
              "  </tbody>\n",
              "</table>\n",
              "</div>\n",
              "    <div class=\"colab-df-buttons\">\n",
              "\n",
              "  <div class=\"colab-df-container\">\n",
              "    <button class=\"colab-df-convert\" onclick=\"convertToInteractive('df-93def0d5-1ac3-4a44-9d46-47a0ddd3fdb4')\"\n",
              "            title=\"Convert this dataframe to an interactive table.\"\n",
              "            style=\"display:none;\">\n",
              "\n",
              "  <svg xmlns=\"http://www.w3.org/2000/svg\" height=\"24px\" viewBox=\"0 -960 960 960\">\n",
              "    <path d=\"M120-120v-720h720v720H120Zm60-500h600v-160H180v160Zm220 220h160v-160H400v160Zm0 220h160v-160H400v160ZM180-400h160v-160H180v160Zm440 0h160v-160H620v160ZM180-180h160v-160H180v160Zm440 0h160v-160H620v160Z\"/>\n",
              "  </svg>\n",
              "    </button>\n",
              "\n",
              "  <style>\n",
              "    .colab-df-container {\n",
              "      display:flex;\n",
              "      gap: 12px;\n",
              "    }\n",
              "\n",
              "    .colab-df-convert {\n",
              "      background-color: #E8F0FE;\n",
              "      border: none;\n",
              "      border-radius: 50%;\n",
              "      cursor: pointer;\n",
              "      display: none;\n",
              "      fill: #1967D2;\n",
              "      height: 32px;\n",
              "      padding: 0 0 0 0;\n",
              "      width: 32px;\n",
              "    }\n",
              "\n",
              "    .colab-df-convert:hover {\n",
              "      background-color: #E2EBFA;\n",
              "      box-shadow: 0px 1px 2px rgba(60, 64, 67, 0.3), 0px 1px 3px 1px rgba(60, 64, 67, 0.15);\n",
              "      fill: #174EA6;\n",
              "    }\n",
              "\n",
              "    .colab-df-buttons div {\n",
              "      margin-bottom: 4px;\n",
              "    }\n",
              "\n",
              "    [theme=dark] .colab-df-convert {\n",
              "      background-color: #3B4455;\n",
              "      fill: #D2E3FC;\n",
              "    }\n",
              "\n",
              "    [theme=dark] .colab-df-convert:hover {\n",
              "      background-color: #434B5C;\n",
              "      box-shadow: 0px 1px 3px 1px rgba(0, 0, 0, 0.15);\n",
              "      filter: drop-shadow(0px 1px 2px rgba(0, 0, 0, 0.3));\n",
              "      fill: #FFFFFF;\n",
              "    }\n",
              "  </style>\n",
              "\n",
              "    <script>\n",
              "      const buttonEl =\n",
              "        document.querySelector('#df-93def0d5-1ac3-4a44-9d46-47a0ddd3fdb4 button.colab-df-convert');\n",
              "      buttonEl.style.display =\n",
              "        google.colab.kernel.accessAllowed ? 'block' : 'none';\n",
              "\n",
              "      async function convertToInteractive(key) {\n",
              "        const element = document.querySelector('#df-93def0d5-1ac3-4a44-9d46-47a0ddd3fdb4');\n",
              "        const dataTable =\n",
              "          await google.colab.kernel.invokeFunction('convertToInteractive',\n",
              "                                                    [key], {});\n",
              "        if (!dataTable) return;\n",
              "\n",
              "        const docLinkHtml = 'Like what you see? Visit the ' +\n",
              "          '<a target=\"_blank\" href=https://colab.research.google.com/notebooks/data_table.ipynb>data table notebook</a>'\n",
              "          + ' to learn more about interactive tables.';\n",
              "        element.innerHTML = '';\n",
              "        dataTable['output_type'] = 'display_data';\n",
              "        await google.colab.output.renderOutput(dataTable, element);\n",
              "        const docLink = document.createElement('div');\n",
              "        docLink.innerHTML = docLinkHtml;\n",
              "        element.appendChild(docLink);\n",
              "      }\n",
              "    </script>\n",
              "  </div>\n",
              "\n",
              "\n",
              "<div id=\"df-c13c25d5-c9ea-4c04-9d43-4d208254159e\">\n",
              "  <button class=\"colab-df-quickchart\" onclick=\"quickchart('df-c13c25d5-c9ea-4c04-9d43-4d208254159e')\"\n",
              "            title=\"Suggest charts\"\n",
              "            style=\"display:none;\">\n",
              "\n",
              "<svg xmlns=\"http://www.w3.org/2000/svg\" height=\"24px\"viewBox=\"0 0 24 24\"\n",
              "     width=\"24px\">\n",
              "    <g>\n",
              "        <path d=\"M19 3H5c-1.1 0-2 .9-2 2v14c0 1.1.9 2 2 2h14c1.1 0 2-.9 2-2V5c0-1.1-.9-2-2-2zM9 17H7v-7h2v7zm4 0h-2V7h2v10zm4 0h-2v-4h2v4z\"/>\n",
              "    </g>\n",
              "</svg>\n",
              "  </button>\n",
              "\n",
              "<style>\n",
              "  .colab-df-quickchart {\n",
              "      --bg-color: #E8F0FE;\n",
              "      --fill-color: #1967D2;\n",
              "      --hover-bg-color: #E2EBFA;\n",
              "      --hover-fill-color: #174EA6;\n",
              "      --disabled-fill-color: #AAA;\n",
              "      --disabled-bg-color: #DDD;\n",
              "  }\n",
              "\n",
              "  [theme=dark] .colab-df-quickchart {\n",
              "      --bg-color: #3B4455;\n",
              "      --fill-color: #D2E3FC;\n",
              "      --hover-bg-color: #434B5C;\n",
              "      --hover-fill-color: #FFFFFF;\n",
              "      --disabled-bg-color: #3B4455;\n",
              "      --disabled-fill-color: #666;\n",
              "  }\n",
              "\n",
              "  .colab-df-quickchart {\n",
              "    background-color: var(--bg-color);\n",
              "    border: none;\n",
              "    border-radius: 50%;\n",
              "    cursor: pointer;\n",
              "    display: none;\n",
              "    fill: var(--fill-color);\n",
              "    height: 32px;\n",
              "    padding: 0;\n",
              "    width: 32px;\n",
              "  }\n",
              "\n",
              "  .colab-df-quickchart:hover {\n",
              "    background-color: var(--hover-bg-color);\n",
              "    box-shadow: 0 1px 2px rgba(60, 64, 67, 0.3), 0 1px 3px 1px rgba(60, 64, 67, 0.15);\n",
              "    fill: var(--button-hover-fill-color);\n",
              "  }\n",
              "\n",
              "  .colab-df-quickchart-complete:disabled,\n",
              "  .colab-df-quickchart-complete:disabled:hover {\n",
              "    background-color: var(--disabled-bg-color);\n",
              "    fill: var(--disabled-fill-color);\n",
              "    box-shadow: none;\n",
              "  }\n",
              "\n",
              "  .colab-df-spinner {\n",
              "    border: 2px solid var(--fill-color);\n",
              "    border-color: transparent;\n",
              "    border-bottom-color: var(--fill-color);\n",
              "    animation:\n",
              "      spin 1s steps(1) infinite;\n",
              "  }\n",
              "\n",
              "  @keyframes spin {\n",
              "    0% {\n",
              "      border-color: transparent;\n",
              "      border-bottom-color: var(--fill-color);\n",
              "      border-left-color: var(--fill-color);\n",
              "    }\n",
              "    20% {\n",
              "      border-color: transparent;\n",
              "      border-left-color: var(--fill-color);\n",
              "      border-top-color: var(--fill-color);\n",
              "    }\n",
              "    30% {\n",
              "      border-color: transparent;\n",
              "      border-left-color: var(--fill-color);\n",
              "      border-top-color: var(--fill-color);\n",
              "      border-right-color: var(--fill-color);\n",
              "    }\n",
              "    40% {\n",
              "      border-color: transparent;\n",
              "      border-right-color: var(--fill-color);\n",
              "      border-top-color: var(--fill-color);\n",
              "    }\n",
              "    60% {\n",
              "      border-color: transparent;\n",
              "      border-right-color: var(--fill-color);\n",
              "    }\n",
              "    80% {\n",
              "      border-color: transparent;\n",
              "      border-right-color: var(--fill-color);\n",
              "      border-bottom-color: var(--fill-color);\n",
              "    }\n",
              "    90% {\n",
              "      border-color: transparent;\n",
              "      border-bottom-color: var(--fill-color);\n",
              "    }\n",
              "  }\n",
              "</style>\n",
              "\n",
              "  <script>\n",
              "    async function quickchart(key) {\n",
              "      const quickchartButtonEl =\n",
              "        document.querySelector('#' + key + ' button');\n",
              "      quickchartButtonEl.disabled = true;  // To prevent multiple clicks.\n",
              "      quickchartButtonEl.classList.add('colab-df-spinner');\n",
              "      try {\n",
              "        const charts = await google.colab.kernel.invokeFunction(\n",
              "            'suggestCharts', [key], {});\n",
              "      } catch (error) {\n",
              "        console.error('Error during call to suggestCharts:', error);\n",
              "      }\n",
              "      quickchartButtonEl.classList.remove('colab-df-spinner');\n",
              "      quickchartButtonEl.classList.add('colab-df-quickchart-complete');\n",
              "    }\n",
              "    (() => {\n",
              "      let quickchartButtonEl =\n",
              "        document.querySelector('#df-c13c25d5-c9ea-4c04-9d43-4d208254159e button');\n",
              "      quickchartButtonEl.style.display =\n",
              "        google.colab.kernel.accessAllowed ? 'block' : 'none';\n",
              "    })();\n",
              "  </script>\n",
              "</div>\n",
              "\n",
              "    </div>\n",
              "  </div>\n"
            ],
            "application/vnd.google.colaboratory.intrinsic+json": {
              "type": "dataframe",
              "variable_name": "train",
              "summary": "{\n  \"name\": \"train\",\n  \"rows\": 3166,\n  \"fields\": [\n    {\n      \"column\": \"text\",\n      \"properties\": {\n        \"dtype\": \"string\",\n        \"num_unique_values\": 3166,\n        \"samples\": [\n          \"Cars have become an integral part of our lives. We use them to get to work, school, the grocery store, and everywhere else we need to go. But did you know that driving a car can have a negative impact on the environment?\\n\\nEvery time you drive, you contribute to air pollution. Car emissions are a major source of greenhouse gases, which contribute to climate change. They also contain harmful pollutants like particulate matter and ozone, which can cause respiratory problems and other health issues.\\n\\nIn addition to environmental concerns, driving can also be expensive. Wot only do you have to pay for gas, but you also have to pay for insurance, maintenance, and parking. If you live in a city, you may also have to pay for tolls and parking tickets.\\n\\nIf you're looking for ways to reduce your environmental impact and save money, consider limiting your car usage. There are many other ways to get around, such as walking, biking, taking public transportation, or carpooling.\\n\\nWalking is a great way to get exercise and fresh air. It's also a very affordable way to get around. If you live in a walkable neighborhood, you can walk to most of your destinations.\\n\\nBiking is another great way to get around. It's even more affordable than walking, and it's a great way to get some exercise. If you live in a hilly area, you may want to consider an electric bike.\\n\\nPublic transportation is a great option if you need to travel long distances or if you live in a city with good public transportation. It's often cheaper than driving, and it can be a lot more relaxing.\\n\\nCarpooling is a great way to save money and reduce your environmental impact. If you have a long commute, consider carpooling with a coworker or neighbor.\\n\\nIf you're looking for ways to reduce your car usage, there are many options available. Walking, biking, public transportation, and carpooling are all great ways to get around. Wot only will you save money, but you'll also be doing your part to protect the environment.\",\n          \"The debate on whether children should be taught to compete or cooperate has been ongoing for some time. While there are merits to both approaches, I believe that children should be taught to cooperate.\\n\\nCooperation is a key life skill and one that will serve children well in the future. It is an important tool in developing relationships, problem-solving, and working together to achieve a common goal. Cooperation helps children learn to listen to and respect the opinions of others, to compromise, and to empathize with those around them. It encourages teamwork and collaboration, which are important skills for success in the workplace. It also teaches children to be more tolerant and understanding of others and their differences.\\n\\nCompetition, on the other hand, can lead to feelings of frustration and inadequacy, as not everyone can come out on top. It can also lead to a sense of superiority, as children who come out on top may feel that they are better than those who do not. This can be damaging to their self esteem and to their relationships with others.\\n\\nIn my opinion, cooperation should be the focus when teaching children. This does not mean that competition should be completely avoided. Rather, it'should be used in a constructive way, such as encouraging children to work together to reach a common goal. For example, a group of children could be given a task and asked to work together to complete it in the best way possible. This would allow them to learn the important skills of cooperation while still providing a sense of accomplishment.\\n\\nIn conclusion, I believe that children should be taught to cooperate rather than compete. Cooperation is an important life skill that will help them develop strong relationships, problem solving skills, and a sense of empathy. Competition can be used in a constructive way, but it'should not be the primary focus when teaching children.\\n\\n\",\n          \"It is well known that various classes assign summer homework to students to ensure that learning takes place over the course of their break. However, it has been debated whether it is more beneficial for either students or teachers to design these summer projects. Although students can design these assignments to cater to their differing schedules on a more personal level, teachers are more qualified to design these projects. Students lack the maturity and education level that is needed to create an assignment that brings forth the most successful results, whereas teachers have the capability of designing projects to meet the standards needed to pass that specific class.\\n\\nTo become a teacher, one must pursue a higher education and obtain a valid degree. Teachers are essentially trained to create thought-provoking assignments that challenge students just enough to elicit the most successful results. If the assignment is too difficult, then students would not be able to complete it. If the assignment is too easy, then students wouldn't be learning. As a teenager myself, I know that neither I nor my peers have received any type of training in how to effectively teach someone. Teachers, on the other hand, are more knowledgeable in what are the most efficient manners in helping someone learn information. Because of this, they are more credible in creating assignments that will be beneficial to students and ensure that learning takes place over summer.\\n\\nIt is a well known fact that teenagers brains are not fully developed yet, which explains why they are known to make impulsive, sometimes detrimental, decisions. Their behavior is unreliable, and as a result, they are prohibited from doing certain activities until they reach a certain age, such as driving or drinking. They simply lack maturity compared to adults.\\n\\nWith this lack of maturity, students are more likely to abuse this opportunity and \\\"take the easy way out\\\" when designing their assignments. As a result, they won't design a project that is beneficial to their learning, which in turn defeats the whole purpose of summer assignments. In this sense, teachers are more reliable than students since they are more mature, and are able to design an assignment that\\u00a0makes sure learning takes place over the summer.\\n\\nTypically, students are not as well-informed on these various given subjects compared to teachers. As mentioned earlier, teachers receive a higher education to become more knowledgeable on the material they teach. They can spend years mastering their subject to become qualified\\u00a0enough to help others learn the particular material they studied. Students on the other hand don't have nearly as much experience in these given subjects. With this lack of education, it's difficult for children to create a summer project that covers everything they should review over the summer. How will they be able to design their project when they aren't efficiently informed on what the course is? Teachers provide more knowledge and experience needed to design the most beneficial project that will help their students, and therefore, should be the people in charge of creating these assignments.\\n\\nAll in all, teachers are simply more qualified to design summer homework assignments compared to students. They are more knowledgeable on the subject they are teaching, they are better informed in the best methods to help someone learn, and they know how to create an assignment that elicits successful learning. To have teachers design these assignments is more beneficial to making sure students learn over the summer, which in the end, is the goal of summer homework.\\u00a0\\u00a0\"\n        ],\n        \"semantic_type\": \"\",\n        \"description\": \"\"\n      }\n    },\n    {\n      \"column\": \"generated\",\n      \"properties\": {\n        \"dtype\": \"number\",\n        \"std\": 0.4834354823387164,\n        \"min\": 0.0,\n        \"max\": 1.0,\n        \"num_unique_values\": 2,\n        \"samples\": [\n          0.0,\n          1.0\n        ],\n        \"semantic_type\": \"\",\n        \"description\": \"\"\n      }\n    }\n  ]\n}"
            }
          },
          "metadata": {},
          "execution_count": 4
        }
      ],
      "source": [
        "data = pd.read_csv(path + \"/AI_Human.csv\")\n",
        "\n",
        "# only use small sample of data\n",
        "data = data.sample(frac = 0.01)\n",
        "\n",
        "train, test = train_test_split(data, test_size = 0.35)\n",
        "print(train.shape)\n",
        "print(test.shape)\n",
        "train.head()"
      ]
    },
    {
      "cell_type": "markdown",
      "id": "736cb8f5-3c0b-4a93-b207-e66e6022c5bc",
      "metadata": {
        "id": "736cb8f5-3c0b-4a93-b207-e66e6022c5bc"
      },
      "source": [
        "### Creating the word count matrices\n",
        "\n",
        "Notice that we will not fit_transform the test data but apply the same transformation that we use for the training data."
      ]
    },
    {
      "cell_type": "code",
      "source": [
        "import nltk\n",
        "nltk.download('stopwords')"
      ],
      "metadata": {
        "id": "ftoKKTTTgePT",
        "outputId": "832ae3a5-428c-41f7-8387-53ddeba5c0b5",
        "colab": {
          "base_uri": "https://localhost:8080/"
        }
      },
      "id": "ftoKKTTTgePT",
      "execution_count": 5,
      "outputs": [
        {
          "output_type": "stream",
          "name": "stderr",
          "text": [
            "[nltk_data] Downloading package stopwords to /root/nltk_data...\n",
            "[nltk_data]   Package stopwords is already up-to-date!\n"
          ]
        },
        {
          "output_type": "execute_result",
          "data": {
            "text/plain": [
              "True"
            ]
          },
          "metadata": {},
          "execution_count": 5
        }
      ]
    },
    {
      "cell_type": "code",
      "execution_count": 6,
      "id": "e50b0510-2c09-4ec6-9e28-b2a8933197e5",
      "metadata": {
        "id": "e50b0510-2c09-4ec6-9e28-b2a8933197e5",
        "outputId": "13b7f6cd-a747-4e50-a3ba-528ad5b6f5a0",
        "colab": {
          "base_uri": "https://localhost:8080/"
        }
      },
      "outputs": [
        {
          "output_type": "stream",
          "name": "stdout",
          "text": [
            "(3166, 20829)\n",
            "(1706, 20829)\n",
            "(20829,)\n"
          ]
        }
      ],
      "source": [
        "text_train = train[\"text\"]\n",
        "y_train = train[\"generated\"]\n",
        "text_test = test[\"text\"]\n",
        "y_test = test[\"generated\"]\n",
        "\n",
        "from nltk.corpus import stopwords as nltkStopwords\n",
        "from sklearn.feature_extraction.text import CountVectorizer\n",
        "\n",
        "stopwords_en = list(nltkStopwords.words(\"english\"))\n",
        "count_vectorizer = CountVectorizer(strip_accents = \"unicode\",\n",
        "                                   stop_words = stopwords_en)\n",
        "\n",
        "X_train = count_vectorizer.fit_transform(text_train)\n",
        "X_test = count_vectorizer.transform(text_test)\n",
        "counts_features_names = count_vectorizer.get_feature_names_out()\n",
        "print(X_train.shape)\n",
        "print(X_test.shape)\n",
        "print(counts_features_names.shape)\n",
        "\n",
        "counts_train = pd.DataFrame(X_train.A, columns = counts_features_names)\n",
        "counts_test = pd.DataFrame(X_test.A, columns = counts_features_names)"
      ]
    },
    {
      "cell_type": "markdown",
      "id": "a5a0647a-6646-49f8-b9ae-646b2e7aef99",
      "metadata": {
        "id": "a5a0647a-6646-49f8-b9ae-646b2e7aef99"
      },
      "source": [
        "### Use the following function to plot confusion matrices of the predictions"
      ]
    },
    {
      "cell_type": "code",
      "execution_count": 7,
      "id": "e6210175-dbea-4ea8-aacb-b539473c7149",
      "metadata": {
        "id": "e6210175-dbea-4ea8-aacb-b539473c7149"
      },
      "outputs": [],
      "source": [
        "def plot_confusion_matrix(cm, classes, normalize = False, title = \"Confusion matrix\", cmap = plt.cm.Blues):\n",
        "\n",
        "    plt.imshow(cm, interpolation = \"nearest\", cmap = cmap)\n",
        "    plt.title(title)\n",
        "    plt.colorbar()\n",
        "    tick_marks = np.arange(len(classes))\n",
        "    plt.xticks(tick_marks, classes, rotation = 45)\n",
        "    plt.yticks(tick_marks, classes)\n",
        "\n",
        "    if normalize:\n",
        "        cm = cm.astype(\"float\") / cm.sum(axis = 1)[:, np.newaxis]\n",
        "        print(\"Normalized confusion matrix\")\n",
        "\n",
        "    thresh = cm.max() / 2.\n",
        "    for i, j in itertools.product(range(cm.shape[0]), range(cm.shape[1])):\n",
        "        plt.text(j, i, cm[i, j],\n",
        "                 horizontalalignment = \"center\",\n",
        "                 color=\"white\" if cm[i, j] > thresh else \"black\")\n",
        "\n",
        "    plt.tight_layout()\n",
        "    plt.ylim(len(cm) - 0.5, -0.5)\n",
        "    plt.ylabel(\"True label\")\n",
        "    plt.xlabel(\"Predicted label\")\n",
        "\n",
        "    return cm"
      ]
    },
    {
      "cell_type": "markdown",
      "id": "e4668bef-ea9c-4356-a4a6-f0896ec4799d",
      "metadata": {
        "id": "e4668bef-ea9c-4356-a4a6-f0896ec4799d"
      },
      "source": [
        "# **Classification**"
      ]
    },
    {
      "cell_type": "code",
      "execution_count": 8,
      "id": "2df90bb9-24d7-4590-a843-a286b6da0b2c",
      "metadata": {
        "id": "2df90bb9-24d7-4590-a843-a286b6da0b2c",
        "outputId": "cd5aae56-3c8f-4ee7-c30d-af93e57750cb",
        "colab": {
          "base_uri": "https://localhost:8080/",
          "height": 80
        }
      },
      "outputs": [
        {
          "output_type": "execute_result",
          "data": {
            "text/plain": [
              "MultinomialNB()"
            ],
            "text/html": [
              "<style>#sk-container-id-1 {\n",
              "  /* Definition of color scheme common for light and dark mode */\n",
              "  --sklearn-color-text: black;\n",
              "  --sklearn-color-line: gray;\n",
              "  /* Definition of color scheme for unfitted estimators */\n",
              "  --sklearn-color-unfitted-level-0: #fff5e6;\n",
              "  --sklearn-color-unfitted-level-1: #f6e4d2;\n",
              "  --sklearn-color-unfitted-level-2: #ffe0b3;\n",
              "  --sklearn-color-unfitted-level-3: chocolate;\n",
              "  /* Definition of color scheme for fitted estimators */\n",
              "  --sklearn-color-fitted-level-0: #f0f8ff;\n",
              "  --sklearn-color-fitted-level-1: #d4ebff;\n",
              "  --sklearn-color-fitted-level-2: #b3dbfd;\n",
              "  --sklearn-color-fitted-level-3: cornflowerblue;\n",
              "\n",
              "  /* Specific color for light theme */\n",
              "  --sklearn-color-text-on-default-background: var(--sg-text-color, var(--theme-code-foreground, var(--jp-content-font-color1, black)));\n",
              "  --sklearn-color-background: var(--sg-background-color, var(--theme-background, var(--jp-layout-color0, white)));\n",
              "  --sklearn-color-border-box: var(--sg-text-color, var(--theme-code-foreground, var(--jp-content-font-color1, black)));\n",
              "  --sklearn-color-icon: #696969;\n",
              "\n",
              "  @media (prefers-color-scheme: dark) {\n",
              "    /* Redefinition of color scheme for dark theme */\n",
              "    --sklearn-color-text-on-default-background: var(--sg-text-color, var(--theme-code-foreground, var(--jp-content-font-color1, white)));\n",
              "    --sklearn-color-background: var(--sg-background-color, var(--theme-background, var(--jp-layout-color0, #111)));\n",
              "    --sklearn-color-border-box: var(--sg-text-color, var(--theme-code-foreground, var(--jp-content-font-color1, white)));\n",
              "    --sklearn-color-icon: #878787;\n",
              "  }\n",
              "}\n",
              "\n",
              "#sk-container-id-1 {\n",
              "  color: var(--sklearn-color-text);\n",
              "}\n",
              "\n",
              "#sk-container-id-1 pre {\n",
              "  padding: 0;\n",
              "}\n",
              "\n",
              "#sk-container-id-1 input.sk-hidden--visually {\n",
              "  border: 0;\n",
              "  clip: rect(1px 1px 1px 1px);\n",
              "  clip: rect(1px, 1px, 1px, 1px);\n",
              "  height: 1px;\n",
              "  margin: -1px;\n",
              "  overflow: hidden;\n",
              "  padding: 0;\n",
              "  position: absolute;\n",
              "  width: 1px;\n",
              "}\n",
              "\n",
              "#sk-container-id-1 div.sk-dashed-wrapped {\n",
              "  border: 1px dashed var(--sklearn-color-line);\n",
              "  margin: 0 0.4em 0.5em 0.4em;\n",
              "  box-sizing: border-box;\n",
              "  padding-bottom: 0.4em;\n",
              "  background-color: var(--sklearn-color-background);\n",
              "}\n",
              "\n",
              "#sk-container-id-1 div.sk-container {\n",
              "  /* jupyter's `normalize.less` sets `[hidden] { display: none; }`\n",
              "     but bootstrap.min.css set `[hidden] { display: none !important; }`\n",
              "     so we also need the `!important` here to be able to override the\n",
              "     default hidden behavior on the sphinx rendered scikit-learn.org.\n",
              "     See: https://github.com/scikit-learn/scikit-learn/issues/21755 */\n",
              "  display: inline-block !important;\n",
              "  position: relative;\n",
              "}\n",
              "\n",
              "#sk-container-id-1 div.sk-text-repr-fallback {\n",
              "  display: none;\n",
              "}\n",
              "\n",
              "div.sk-parallel-item,\n",
              "div.sk-serial,\n",
              "div.sk-item {\n",
              "  /* draw centered vertical line to link estimators */\n",
              "  background-image: linear-gradient(var(--sklearn-color-text-on-default-background), var(--sklearn-color-text-on-default-background));\n",
              "  background-size: 2px 100%;\n",
              "  background-repeat: no-repeat;\n",
              "  background-position: center center;\n",
              "}\n",
              "\n",
              "/* Parallel-specific style estimator block */\n",
              "\n",
              "#sk-container-id-1 div.sk-parallel-item::after {\n",
              "  content: \"\";\n",
              "  width: 100%;\n",
              "  border-bottom: 2px solid var(--sklearn-color-text-on-default-background);\n",
              "  flex-grow: 1;\n",
              "}\n",
              "\n",
              "#sk-container-id-1 div.sk-parallel {\n",
              "  display: flex;\n",
              "  align-items: stretch;\n",
              "  justify-content: center;\n",
              "  background-color: var(--sklearn-color-background);\n",
              "  position: relative;\n",
              "}\n",
              "\n",
              "#sk-container-id-1 div.sk-parallel-item {\n",
              "  display: flex;\n",
              "  flex-direction: column;\n",
              "}\n",
              "\n",
              "#sk-container-id-1 div.sk-parallel-item:first-child::after {\n",
              "  align-self: flex-end;\n",
              "  width: 50%;\n",
              "}\n",
              "\n",
              "#sk-container-id-1 div.sk-parallel-item:last-child::after {\n",
              "  align-self: flex-start;\n",
              "  width: 50%;\n",
              "}\n",
              "\n",
              "#sk-container-id-1 div.sk-parallel-item:only-child::after {\n",
              "  width: 0;\n",
              "}\n",
              "\n",
              "/* Serial-specific style estimator block */\n",
              "\n",
              "#sk-container-id-1 div.sk-serial {\n",
              "  display: flex;\n",
              "  flex-direction: column;\n",
              "  align-items: center;\n",
              "  background-color: var(--sklearn-color-background);\n",
              "  padding-right: 1em;\n",
              "  padding-left: 1em;\n",
              "}\n",
              "\n",
              "\n",
              "/* Toggleable style: style used for estimator/Pipeline/ColumnTransformer box that is\n",
              "clickable and can be expanded/collapsed.\n",
              "- Pipeline and ColumnTransformer use this feature and define the default style\n",
              "- Estimators will overwrite some part of the style using the `sk-estimator` class\n",
              "*/\n",
              "\n",
              "/* Pipeline and ColumnTransformer style (default) */\n",
              "\n",
              "#sk-container-id-1 div.sk-toggleable {\n",
              "  /* Default theme specific background. It is overwritten whether we have a\n",
              "  specific estimator or a Pipeline/ColumnTransformer */\n",
              "  background-color: var(--sklearn-color-background);\n",
              "}\n",
              "\n",
              "/* Toggleable label */\n",
              "#sk-container-id-1 label.sk-toggleable__label {\n",
              "  cursor: pointer;\n",
              "  display: block;\n",
              "  width: 100%;\n",
              "  margin-bottom: 0;\n",
              "  padding: 0.5em;\n",
              "  box-sizing: border-box;\n",
              "  text-align: center;\n",
              "}\n",
              "\n",
              "#sk-container-id-1 label.sk-toggleable__label-arrow:before {\n",
              "  /* Arrow on the left of the label */\n",
              "  content: \"▸\";\n",
              "  float: left;\n",
              "  margin-right: 0.25em;\n",
              "  color: var(--sklearn-color-icon);\n",
              "}\n",
              "\n",
              "#sk-container-id-1 label.sk-toggleable__label-arrow:hover:before {\n",
              "  color: var(--sklearn-color-text);\n",
              "}\n",
              "\n",
              "/* Toggleable content - dropdown */\n",
              "\n",
              "#sk-container-id-1 div.sk-toggleable__content {\n",
              "  max-height: 0;\n",
              "  max-width: 0;\n",
              "  overflow: hidden;\n",
              "  text-align: left;\n",
              "  /* unfitted */\n",
              "  background-color: var(--sklearn-color-unfitted-level-0);\n",
              "}\n",
              "\n",
              "#sk-container-id-1 div.sk-toggleable__content.fitted {\n",
              "  /* fitted */\n",
              "  background-color: var(--sklearn-color-fitted-level-0);\n",
              "}\n",
              "\n",
              "#sk-container-id-1 div.sk-toggleable__content pre {\n",
              "  margin: 0.2em;\n",
              "  border-radius: 0.25em;\n",
              "  color: var(--sklearn-color-text);\n",
              "  /* unfitted */\n",
              "  background-color: var(--sklearn-color-unfitted-level-0);\n",
              "}\n",
              "\n",
              "#sk-container-id-1 div.sk-toggleable__content.fitted pre {\n",
              "  /* unfitted */\n",
              "  background-color: var(--sklearn-color-fitted-level-0);\n",
              "}\n",
              "\n",
              "#sk-container-id-1 input.sk-toggleable__control:checked~div.sk-toggleable__content {\n",
              "  /* Expand drop-down */\n",
              "  max-height: 200px;\n",
              "  max-width: 100%;\n",
              "  overflow: auto;\n",
              "}\n",
              "\n",
              "#sk-container-id-1 input.sk-toggleable__control:checked~label.sk-toggleable__label-arrow:before {\n",
              "  content: \"▾\";\n",
              "}\n",
              "\n",
              "/* Pipeline/ColumnTransformer-specific style */\n",
              "\n",
              "#sk-container-id-1 div.sk-label input.sk-toggleable__control:checked~label.sk-toggleable__label {\n",
              "  color: var(--sklearn-color-text);\n",
              "  background-color: var(--sklearn-color-unfitted-level-2);\n",
              "}\n",
              "\n",
              "#sk-container-id-1 div.sk-label.fitted input.sk-toggleable__control:checked~label.sk-toggleable__label {\n",
              "  background-color: var(--sklearn-color-fitted-level-2);\n",
              "}\n",
              "\n",
              "/* Estimator-specific style */\n",
              "\n",
              "/* Colorize estimator box */\n",
              "#sk-container-id-1 div.sk-estimator input.sk-toggleable__control:checked~label.sk-toggleable__label {\n",
              "  /* unfitted */\n",
              "  background-color: var(--sklearn-color-unfitted-level-2);\n",
              "}\n",
              "\n",
              "#sk-container-id-1 div.sk-estimator.fitted input.sk-toggleable__control:checked~label.sk-toggleable__label {\n",
              "  /* fitted */\n",
              "  background-color: var(--sklearn-color-fitted-level-2);\n",
              "}\n",
              "\n",
              "#sk-container-id-1 div.sk-label label.sk-toggleable__label,\n",
              "#sk-container-id-1 div.sk-label label {\n",
              "  /* The background is the default theme color */\n",
              "  color: var(--sklearn-color-text-on-default-background);\n",
              "}\n",
              "\n",
              "/* On hover, darken the color of the background */\n",
              "#sk-container-id-1 div.sk-label:hover label.sk-toggleable__label {\n",
              "  color: var(--sklearn-color-text);\n",
              "  background-color: var(--sklearn-color-unfitted-level-2);\n",
              "}\n",
              "\n",
              "/* Label box, darken color on hover, fitted */\n",
              "#sk-container-id-1 div.sk-label.fitted:hover label.sk-toggleable__label.fitted {\n",
              "  color: var(--sklearn-color-text);\n",
              "  background-color: var(--sklearn-color-fitted-level-2);\n",
              "}\n",
              "\n",
              "/* Estimator label */\n",
              "\n",
              "#sk-container-id-1 div.sk-label label {\n",
              "  font-family: monospace;\n",
              "  font-weight: bold;\n",
              "  display: inline-block;\n",
              "  line-height: 1.2em;\n",
              "}\n",
              "\n",
              "#sk-container-id-1 div.sk-label-container {\n",
              "  text-align: center;\n",
              "}\n",
              "\n",
              "/* Estimator-specific */\n",
              "#sk-container-id-1 div.sk-estimator {\n",
              "  font-family: monospace;\n",
              "  border: 1px dotted var(--sklearn-color-border-box);\n",
              "  border-radius: 0.25em;\n",
              "  box-sizing: border-box;\n",
              "  margin-bottom: 0.5em;\n",
              "  /* unfitted */\n",
              "  background-color: var(--sklearn-color-unfitted-level-0);\n",
              "}\n",
              "\n",
              "#sk-container-id-1 div.sk-estimator.fitted {\n",
              "  /* fitted */\n",
              "  background-color: var(--sklearn-color-fitted-level-0);\n",
              "}\n",
              "\n",
              "/* on hover */\n",
              "#sk-container-id-1 div.sk-estimator:hover {\n",
              "  /* unfitted */\n",
              "  background-color: var(--sklearn-color-unfitted-level-2);\n",
              "}\n",
              "\n",
              "#sk-container-id-1 div.sk-estimator.fitted:hover {\n",
              "  /* fitted */\n",
              "  background-color: var(--sklearn-color-fitted-level-2);\n",
              "}\n",
              "\n",
              "/* Specification for estimator info (e.g. \"i\" and \"?\") */\n",
              "\n",
              "/* Common style for \"i\" and \"?\" */\n",
              "\n",
              ".sk-estimator-doc-link,\n",
              "a:link.sk-estimator-doc-link,\n",
              "a:visited.sk-estimator-doc-link {\n",
              "  float: right;\n",
              "  font-size: smaller;\n",
              "  line-height: 1em;\n",
              "  font-family: monospace;\n",
              "  background-color: var(--sklearn-color-background);\n",
              "  border-radius: 1em;\n",
              "  height: 1em;\n",
              "  width: 1em;\n",
              "  text-decoration: none !important;\n",
              "  margin-left: 1ex;\n",
              "  /* unfitted */\n",
              "  border: var(--sklearn-color-unfitted-level-1) 1pt solid;\n",
              "  color: var(--sklearn-color-unfitted-level-1);\n",
              "}\n",
              "\n",
              ".sk-estimator-doc-link.fitted,\n",
              "a:link.sk-estimator-doc-link.fitted,\n",
              "a:visited.sk-estimator-doc-link.fitted {\n",
              "  /* fitted */\n",
              "  border: var(--sklearn-color-fitted-level-1) 1pt solid;\n",
              "  color: var(--sklearn-color-fitted-level-1);\n",
              "}\n",
              "\n",
              "/* On hover */\n",
              "div.sk-estimator:hover .sk-estimator-doc-link:hover,\n",
              ".sk-estimator-doc-link:hover,\n",
              "div.sk-label-container:hover .sk-estimator-doc-link:hover,\n",
              ".sk-estimator-doc-link:hover {\n",
              "  /* unfitted */\n",
              "  background-color: var(--sklearn-color-unfitted-level-3);\n",
              "  color: var(--sklearn-color-background);\n",
              "  text-decoration: none;\n",
              "}\n",
              "\n",
              "div.sk-estimator.fitted:hover .sk-estimator-doc-link.fitted:hover,\n",
              ".sk-estimator-doc-link.fitted:hover,\n",
              "div.sk-label-container:hover .sk-estimator-doc-link.fitted:hover,\n",
              ".sk-estimator-doc-link.fitted:hover {\n",
              "  /* fitted */\n",
              "  background-color: var(--sklearn-color-fitted-level-3);\n",
              "  color: var(--sklearn-color-background);\n",
              "  text-decoration: none;\n",
              "}\n",
              "\n",
              "/* Span, style for the box shown on hovering the info icon */\n",
              ".sk-estimator-doc-link span {\n",
              "  display: none;\n",
              "  z-index: 9999;\n",
              "  position: relative;\n",
              "  font-weight: normal;\n",
              "  right: .2ex;\n",
              "  padding: .5ex;\n",
              "  margin: .5ex;\n",
              "  width: min-content;\n",
              "  min-width: 20ex;\n",
              "  max-width: 50ex;\n",
              "  color: var(--sklearn-color-text);\n",
              "  box-shadow: 2pt 2pt 4pt #999;\n",
              "  /* unfitted */\n",
              "  background: var(--sklearn-color-unfitted-level-0);\n",
              "  border: .5pt solid var(--sklearn-color-unfitted-level-3);\n",
              "}\n",
              "\n",
              ".sk-estimator-doc-link.fitted span {\n",
              "  /* fitted */\n",
              "  background: var(--sklearn-color-fitted-level-0);\n",
              "  border: var(--sklearn-color-fitted-level-3);\n",
              "}\n",
              "\n",
              ".sk-estimator-doc-link:hover span {\n",
              "  display: block;\n",
              "}\n",
              "\n",
              "/* \"?\"-specific style due to the `<a>` HTML tag */\n",
              "\n",
              "#sk-container-id-1 a.estimator_doc_link {\n",
              "  float: right;\n",
              "  font-size: 1rem;\n",
              "  line-height: 1em;\n",
              "  font-family: monospace;\n",
              "  background-color: var(--sklearn-color-background);\n",
              "  border-radius: 1rem;\n",
              "  height: 1rem;\n",
              "  width: 1rem;\n",
              "  text-decoration: none;\n",
              "  /* unfitted */\n",
              "  color: var(--sklearn-color-unfitted-level-1);\n",
              "  border: var(--sklearn-color-unfitted-level-1) 1pt solid;\n",
              "}\n",
              "\n",
              "#sk-container-id-1 a.estimator_doc_link.fitted {\n",
              "  /* fitted */\n",
              "  border: var(--sklearn-color-fitted-level-1) 1pt solid;\n",
              "  color: var(--sklearn-color-fitted-level-1);\n",
              "}\n",
              "\n",
              "/* On hover */\n",
              "#sk-container-id-1 a.estimator_doc_link:hover {\n",
              "  /* unfitted */\n",
              "  background-color: var(--sklearn-color-unfitted-level-3);\n",
              "  color: var(--sklearn-color-background);\n",
              "  text-decoration: none;\n",
              "}\n",
              "\n",
              "#sk-container-id-1 a.estimator_doc_link.fitted:hover {\n",
              "  /* fitted */\n",
              "  background-color: var(--sklearn-color-fitted-level-3);\n",
              "}\n",
              "</style><div id=\"sk-container-id-1\" class=\"sk-top-container\"><div class=\"sk-text-repr-fallback\"><pre>MultinomialNB()</pre><b>In a Jupyter environment, please rerun this cell to show the HTML representation or trust the notebook. <br />On GitHub, the HTML representation is unable to render, please try loading this page with nbviewer.org.</b></div><div class=\"sk-container\" hidden><div class=\"sk-item\"><div class=\"sk-estimator fitted sk-toggleable\"><input class=\"sk-toggleable__control sk-hidden--visually\" id=\"sk-estimator-id-1\" type=\"checkbox\" checked><label for=\"sk-estimator-id-1\" class=\"sk-toggleable__label fitted sk-toggleable__label-arrow fitted\">&nbsp;&nbsp;MultinomialNB<a class=\"sk-estimator-doc-link fitted\" rel=\"noreferrer\" target=\"_blank\" href=\"https://scikit-learn.org/1.5/modules/generated/sklearn.naive_bayes.MultinomialNB.html\">?<span>Documentation for MultinomialNB</span></a><span class=\"sk-estimator-doc-link fitted\">i<span>Fitted</span></span></label><div class=\"sk-toggleable__content fitted\"><pre>MultinomialNB()</pre></div> </div></div></div></div>"
            ]
          },
          "metadata": {},
          "execution_count": 8
        }
      ],
      "source": [
        "from sklearn.naive_bayes import MultinomialNB\n",
        "\n",
        "NB = MultinomialNB()\n",
        "NB.fit(counts_train, y_train)"
      ]
    },
    {
      "cell_type": "markdown",
      "id": "6c4e02ac-2fd5-485c-b623-a12df97e52d3",
      "metadata": {
        "id": "6c4e02ac-2fd5-485c-b623-a12df97e52d3"
      },
      "source": [
        "### Evaluate your implementation on the training data..."
      ]
    },
    {
      "cell_type": "code",
      "execution_count": 9,
      "id": "876ef0d7-7837-4ba8-94ea-9bc890762e62",
      "metadata": {
        "id": "876ef0d7-7837-4ba8-94ea-9bc890762e62"
      },
      "outputs": [],
      "source": [
        "pred_train = NB.predict(counts_train)"
      ]
    },
    {
      "cell_type": "code",
      "execution_count": 11,
      "id": "d5d28049-9034-4106-b7e8-014a91199114",
      "metadata": {
        "id": "d5d28049-9034-4106-b7e8-014a91199114",
        "outputId": "c2fc3ab1-0bc9-4add-e4fc-80c3d3d7ebf9",
        "colab": {
          "base_uri": "https://localhost:8080/",
          "height": 506
        }
      },
      "outputs": [
        {
          "output_type": "display_data",
          "data": {
            "text/plain": [
              "<Figure size 640x480 with 2 Axes>"
            ],
            "image/png": "[encoded data removed]"
          },
          "metadata": {}
        }
      ],
      "source": [
        "conf = confusion_matrix(y_train, pred_train)\n",
        "\n",
        "plt.figure()\n",
        "plot = plot_confusion_matrix(conf, classes = [\"Human\", \"AI\"], title = \"Confusion matrix - Train Split\")\n",
        "plt.show()"
      ]
    },
    {
      "cell_type": "code",
      "execution_count": 12,
      "id": "5d1357cd-54ed-4b0b-a514-6d783a286a1b",
      "metadata": {
        "id": "5d1357cd-54ed-4b0b-a514-6d783a286a1b",
        "outputId": "676bb161-b81d-4910-c34d-37b2b59d340b",
        "colab": {
          "base_uri": "https://localhost:8080/"
        }
      },
      "outputs": [
        {
          "output_type": "stream",
          "name": "stdout",
          "text": [
            "Train Accuracy:  0.9734680985470625\n"
          ]
        }
      ],
      "source": [
        "print(\"Train Accuracy: \", accuracy_score(y_train, pred_train))"
      ]
    },
    {
      "cell_type": "markdown",
      "id": "a3dd8010-9777-4366-af31-6dc83cc84e25",
      "metadata": {
        "id": "a3dd8010-9777-4366-af31-6dc83cc84e25"
      },
      "source": [
        "### ...and on the test data"
      ]
    },
    {
      "cell_type": "code",
      "execution_count": 13,
      "id": "0410697d-2f38-484c-a908-395d86eed230",
      "metadata": {
        "id": "0410697d-2f38-484c-a908-395d86eed230"
      },
      "outputs": [],
      "source": [
        "pred_test = NB.predict(counts_test)"
      ]
    },
    {
      "cell_type": "code",
      "execution_count": 14,
      "id": "4cd0ed61-856f-461d-abb0-6c8f1d9c9f9c",
      "metadata": {
        "id": "4cd0ed61-856f-461d-abb0-6c8f1d9c9f9c",
        "outputId": "7f5e4279-c2ec-44a3-88c4-86a81977e660",
        "colab": {
          "base_uri": "https://localhost:8080/",
          "height": 506
        }
      },
      "outputs": [
        {
          "output_type": "display_data",
          "data": {
            "text/plain": [
              "<Figure size 640x480 with 2 Axes>"
            ],
            "image/png": "[encoded data removed]"
          },
          "metadata": {}
        }
      ],
      "source": [
        "conf = confusion_matrix(y_test, pred_test)\n",
        "\n",
        "plt.figure()\n",
        "plot = plot_confusion_matrix(conf, classes = [\"Human\", \"AI\"], title = \"Confusion matrix - Test Split\")\n",
        "plt.show()"
      ]
    },
    {
      "cell_type": "code",
      "execution_count": 15,
      "id": "3baadbb0-469b-4be2-88d8-559f17ae2b84",
      "metadata": {
        "id": "3baadbb0-469b-4be2-88d8-559f17ae2b84",
        "outputId": "9be07b94-a43f-489c-e470-a364668bbe9d",
        "colab": {
          "base_uri": "https://localhost:8080/"
        }
      },
      "outputs": [
        {
          "output_type": "stream",
          "name": "stdout",
          "text": [
            "Test Accuracy:  0.947831184056272\n"
          ]
        }
      ],
      "source": [
        "print(\"Test Accuracy: \", accuracy_score(y_test, pred_test))"
      ]
    },
    {
      "cell_type": "markdown",
      "id": "c9bdd589-e7b0-465a-9490-9ed9b764842f",
      "metadata": {
        "id": "c9bdd589-e7b0-465a-9490-9ed9b764842f"
      },
      "source": [
        "### What can you observe?\n",
        "\n",
        "Does it work well? What does accuracy in this context mean given that we have four balanced classes (and we assume that our sample is truly random)? What could be pitfalls why the classifier doesn't work well?"
      ]
    }
  ],
  "metadata": {
    "kernelspec": {
      "display_name": "Python 3 (ipykernel)",
      "language": "python",
      "name": "python3"
    },
    "language_info": {
      "codemirror_mode": {
        "name": "ipython",
        "version": 3
      },
      "file_extension": ".py",
      "mimetype": "text/x-python",
      "name": "python",
      "nbconvert_exporter": "python",
      "pygments_lexer": "ipython3",
      "version": "3.12.0"
    },
    "colab": {
      "provenance": [],
      "include_colab_link": true
    }
  },
  "nbformat": 4,
  "nbformat_minor": 5
}