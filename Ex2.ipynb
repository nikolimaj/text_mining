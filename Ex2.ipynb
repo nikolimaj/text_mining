{
  "cells": [
    {
      "cell_type": "markdown",
      "metadata": {
        "id": "view-in-github",
        "colab_type": "text"
      },
      "source": [
        "<a href=\"https://colab.research.google.com/github/nikolimaj/text_mining/blob/main/Ex2.ipynb\" target=\"_parent\"><img src=\"https://colab.research.google.com/assets/colab-badge.svg\" alt=\"Open In Colab\"/></a>"
      ]
    },
    {
      "cell_type": "markdown",
      "id": "2ef4d8ec-b651-43cd-b92a-7676e3fc8ec6",
      "metadata": {
        "id": "2ef4d8ec-b651-43cd-b92a-7676e3fc8ec6"
      },
      "source": [
        "### Loading our data\n",
        "\n",
        "For the following exercise we will use the word count matrix representation and only use a small subset of our data since we will implement a naiveBayes classifier - which is a \"lazy learner\" and so predictions will be rather slow."
      ]
    },
    {
      "cell_type": "code",
      "execution_count": 2,
      "id": "1c7efa9f-be80-4108-9387-6cd68255c89f",
      "metadata": {
        "id": "1c7efa9f-be80-4108-9387-6cd68255c89f"
      },
      "outputs": [],
      "source": [
        "from sklearn.model_selection import train_test_split\n",
        "from sklearn.metrics import confusion_matrix\n",
        "from sklearn.metrics import accuracy_score\n",
        "import matplotlib.pyplot as plt\n",
        "from tqdm import tqdm\n",
        "import pandas as pd\n",
        "import numpy as np\n",
        "import itertools\n",
        "import kagglehub"
      ]
    },
    {
      "cell_type": "markdown",
      "source": [
        "### Download data"
      ],
      "metadata": {
        "id": "fvTcb3csgijh"
      },
      "id": "fvTcb3csgijh"
    },
    {
      "cell_type": "code",
      "source": [
        "path = kagglehub.dataset_download(\"shanegerami/ai-vs-human-text\")\n",
        "\n",
        "print(\"Path to dataset files:\", path)"
      ],
      "metadata": {
        "colab": {
          "base_uri": "https://localhost:8080/"
        },
        "id": "-iXpNzCqgUp6",
        "outputId": "d2495a71-7d09-44b6-ec88-e6b85021da24"
      },
      "id": "-iXpNzCqgUp6",
      "execution_count": 3,
      "outputs": [
        {
          "output_type": "stream",
          "name": "stdout",
          "text": [
            "Path to dataset files: /root/.cache/kagglehub/datasets/shanegerami/ai-vs-human-text/versions/1\n"
          ]
        }
      ]
    },
    {
      "cell_type": "markdown",
      "source": [
        "### Reading and cleaning data"
      ],
      "metadata": {
        "id": "98H7WzoEs9oK"
      },
      "id": "98H7WzoEs9oK"
    },
    {
      "cell_type": "code",
      "source": [
        "import re\n",
        "\n",
        "def clean(text: str, keep_sentences: bool = True) -> str:\n",
        "    if keep_sentences:\n",
        "        return re.sub(r\"[^a-zA-Z\\.\\?\\!\\s]+\", \"\", text)\n",
        "    return re.sub(r\"[^a-zA-Z\\s]+\", \"\", text)"
      ],
      "metadata": {
        "id": "UzmZCRWHtF-b"
      },
      "id": "UzmZCRWHtF-b",
      "execution_count": 44,
      "outputs": []
    },
    {
      "cell_type": "code",
      "source": [
        "data = pd.read_csv(path + \"/AI_Human.csv\")\n",
        "\n",
        "# only use small subset of data\n",
        "data = data.sample(frac = 0.01)\n",
        "\n",
        "data[\"text\"] = [clean(row[\"text\"]) for i, row in data.iterrows()]"
      ],
      "metadata": {
        "id": "Ym6TefNHs8xq"
      },
      "id": "Ym6TefNHs8xq",
      "execution_count": 45,
      "outputs": []
    },
    {
      "cell_type": "markdown",
      "id": "f007c515-5a39-4ad2-b904-bdca9a21df0e",
      "metadata": {
        "id": "f007c515-5a39-4ad2-b904-bdca9a21df0e"
      },
      "source": [
        "### Splitting data into a training dataset and a test dataset"
      ]
    },
    {
      "cell_type": "code",
      "execution_count": 46,
      "id": "e2c52bfe-0d55-4e4b-b745-6805cdbe46a2",
      "metadata": {
        "id": "e2c52bfe-0d55-4e4b-b745-6805cdbe46a2",
        "outputId": "a8bc17a0-bff0-4ef8-f3b3-b00d4c9dd313",
        "colab": {
          "base_uri": "https://localhost:8080/",
          "height": 241
        }
      },
      "outputs": [
        {
          "output_type": "stream",
          "name": "stdout",
          "text": [
            "(3166, 2)\n",
            "(1706, 2)\n"
          ]
        },
        {
          "output_type": "execute_result",
          "data": {
            "text/plain": [
              "                                                     text  generated\n",
              "394508  IV the past century cars have become av essent...        1.0\n",
              "457361  Not too long ago I got into a disagreement wit...        0.0\n",
              "153954  Conserving your energy its an important matter...        0.0\n",
              "286826  Some schools are now offering distance learnin...        1.0\n",
              "421471  When I first entered college I faced an obstac...        1.0"
            ],
            "text/html": [
              "\n",
              "  <div id=\"df-c4f7edba-0554-49c4-9709-4822260ff651\" class=\"colab-df-container\">\n",
              "    <div>\n",
              "<style scoped>\n",
              "    .dataframe tbody tr th:only-of-type {\n",
              "        vertical-align: middle;\n",
              "    }\n",
              "\n",
              "    .dataframe tbody tr th {\n",
              "        vertical-align: top;\n",
              "    }\n",
              "\n",
              "    .dataframe thead th {\n",
              "        text-align: right;\n",
              "    }\n",
              "</style>\n",
              "<table border=\"1\" class=\"dataframe\">\n",
              "  <thead>\n",
              "    <tr style=\"text-align: right;\">\n",
              "      <th></th>\n",
              "      <th>text</th>\n",
              "      <th>generated</th>\n",
              "    </tr>\n",
              "  </thead>\n",
              "  <tbody>\n",
              "    <tr>\n",
              "      <th>394508</th>\n",
              "      <td>IV the past century cars have become av essent...</td>\n",
              "      <td>1.0</td>\n",
              "    </tr>\n",
              "    <tr>\n",
              "      <th>457361</th>\n",
              "      <td>Not too long ago I got into a disagreement wit...</td>\n",
              "      <td>0.0</td>\n",
              "    </tr>\n",
              "    <tr>\n",
              "      <th>153954</th>\n",
              "      <td>Conserving your energy its an important matter...</td>\n",
              "      <td>0.0</td>\n",
              "    </tr>\n",
              "    <tr>\n",
              "      <th>286826</th>\n",
              "      <td>Some schools are now offering distance learnin...</td>\n",
              "      <td>1.0</td>\n",
              "    </tr>\n",
              "    <tr>\n",
              "      <th>421471</th>\n",
              "      <td>When I first entered college I faced an obstac...</td>\n",
              "      <td>1.0</td>\n",
              "    </tr>\n",
              "  </tbody>\n",
              "</table>\n",
              "</div>\n",
              "    <div class=\"colab-df-buttons\">\n",
              "\n",
              "  <div class=\"colab-df-container\">\n",
              "    <button class=\"colab-df-convert\" onclick=\"convertToInteractive('df-c4f7edba-0554-49c4-9709-4822260ff651')\"\n",
              "            title=\"Convert this dataframe to an interactive table.\"\n",
              "            style=\"display:none;\">\n",
              "\n",
              "  <svg xmlns=\"http://www.w3.org/2000/svg\" height=\"24px\" viewBox=\"0 -960 960 960\">\n",
              "    <path d=\"M120-120v-720h720v720H120Zm60-500h600v-160H180v160Zm220 220h160v-160H400v160Zm0 220h160v-160H400v160ZM180-400h160v-160H180v160Zm440 0h160v-160H620v160ZM180-180h160v-160H180v160Zm440 0h160v-160H620v160Z\"/>\n",
              "  </svg>\n",
              "    </button>\n",
              "\n",
              "  <style>\n",
              "    .colab-df-container {\n",
              "      display:flex;\n",
              "      gap: 12px;\n",
              "    }\n",
              "\n",
              "    .colab-df-convert {\n",
              "      background-color: #E8F0FE;\n",
              "      border: none;\n",
              "      border-radius: 50%;\n",
              "      cursor: pointer;\n",
              "      display: none;\n",
              "      fill: #1967D2;\n",
              "      height: 32px;\n",
              "      padding: 0 0 0 0;\n",
              "      width: 32px;\n",
              "    }\n",
              "\n",
              "    .colab-df-convert:hover {\n",
              "      background-color: #E2EBFA;\n",
              "      box-shadow: 0px 1px 2px rgba(60, 64, 67, 0.3), 0px 1px 3px 1px rgba(60, 64, 67, 0.15);\n",
              "      fill: #174EA6;\n",
              "    }\n",
              "\n",
              "    .colab-df-buttons div {\n",
              "      margin-bottom: 4px;\n",
              "    }\n",
              "\n",
              "    [theme=dark] .colab-df-convert {\n",
              "      background-color: #3B4455;\n",
              "      fill: #D2E3FC;\n",
              "    }\n",
              "\n",
              "    [theme=dark] .colab-df-convert:hover {\n",
              "      background-color: #434B5C;\n",
              "      box-shadow: 0px 1px 3px 1px rgba(0, 0, 0, 0.15);\n",
              "      filter: drop-shadow(0px 1px 2px rgba(0, 0, 0, 0.3));\n",
              "      fill: #FFFFFF;\n",
              "    }\n",
              "  </style>\n",
              "\n",
              "    <script>\n",
              "      const buttonEl =\n",
              "        document.querySelector('#df-c4f7edba-0554-49c4-9709-4822260ff651 button.colab-df-convert');\n",
              "      buttonEl.style.display =\n",
              "        google.colab.kernel.accessAllowed ? 'block' : 'none';\n",
              "\n",
              "      async function convertToInteractive(key) {\n",
              "        const element = document.querySelector('#df-c4f7edba-0554-49c4-9709-4822260ff651');\n",
              "        const dataTable =\n",
              "          await google.colab.kernel.invokeFunction('convertToInteractive',\n",
              "                                                    [key], {});\n",
              "        if (!dataTable) return;\n",
              "\n",
              "        const docLinkHtml = 'Like what you see? Visit the ' +\n",
              "          '<a target=\"_blank\" href=https://colab.research.google.com/notebooks/data_table.ipynb>data table notebook</a>'\n",
              "          + ' to learn more about interactive tables.';\n",
              "        element.innerHTML = '';\n",
              "        dataTable['output_type'] = 'display_data';\n",
              "        await google.colab.output.renderOutput(dataTable, element);\n",
              "        const docLink = document.createElement('div');\n",
              "        docLink.innerHTML = docLinkHtml;\n",
              "        element.appendChild(docLink);\n",
              "      }\n",
              "    </script>\n",
              "  </div>\n",
              "\n",
              "\n",
              "<div id=\"df-78675d9d-5e5a-4cba-af45-6f644ce9aec6\">\n",
              "  <button class=\"colab-df-quickchart\" onclick=\"quickchart('df-78675d9d-5e5a-4cba-af45-6f644ce9aec6')\"\n",
              "            title=\"Suggest charts\"\n",
              "            style=\"display:none;\">\n",
              "\n",
              "<svg xmlns=\"http://www.w3.org/2000/svg\" height=\"24px\"viewBox=\"0 0 24 24\"\n",
              "     width=\"24px\">\n",
              "    <g>\n",
              "        <path d=\"M19 3H5c-1.1 0-2 .9-2 2v14c0 1.1.9 2 2 2h14c1.1 0 2-.9 2-2V5c0-1.1-.9-2-2-2zM9 17H7v-7h2v7zm4 0h-2V7h2v10zm4 0h-2v-4h2v4z\"/>\n",
              "    </g>\n",
              "</svg>\n",
              "  </button>\n",
              "\n",
              "<style>\n",
              "  .colab-df-quickchart {\n",
              "      --bg-color: #E8F0FE;\n",
              "      --fill-color: #1967D2;\n",
              "      --hover-bg-color: #E2EBFA;\n",
              "      --hover-fill-color: #174EA6;\n",
              "      --disabled-fill-color: #AAA;\n",
              "      --disabled-bg-color: #DDD;\n",
              "  }\n",
              "\n",
              "  [theme=dark] .colab-df-quickchart {\n",
              "      --bg-color: #3B4455;\n",
              "      --fill-color: #D2E3FC;\n",
              "      --hover-bg-color: #434B5C;\n",
              "      --hover-fill-color: #FFFFFF;\n",
              "      --disabled-bg-color: #3B4455;\n",
              "      --disabled-fill-color: #666;\n",
              "  }\n",
              "\n",
              "  .colab-df-quickchart {\n",
              "    background-color: var(--bg-color);\n",
              "    border: none;\n",
              "    border-radius: 50%;\n",
              "    cursor: pointer;\n",
              "    display: none;\n",
              "    fill: var(--fill-color);\n",
              "    height: 32px;\n",
              "    padding: 0;\n",
              "    width: 32px;\n",
              "  }\n",
              "\n",
              "  .colab-df-quickchart:hover {\n",
              "    background-color: var(--hover-bg-color);\n",
              "    box-shadow: 0 1px 2px rgba(60, 64, 67, 0.3), 0 1px 3px 1px rgba(60, 64, 67, 0.15);\n",
              "    fill: var(--button-hover-fill-color);\n",
              "  }\n",
              "\n",
              "  .colab-df-quickchart-complete:disabled,\n",
              "  .colab-df-quickchart-complete:disabled:hover {\n",
              "    background-color: var(--disabled-bg-color);\n",
              "    fill: var(--disabled-fill-color);\n",
              "    box-shadow: none;\n",
              "  }\n",
              "\n",
              "  .colab-df-spinner {\n",
              "    border: 2px solid var(--fill-color);\n",
              "    border-color: transparent;\n",
              "    border-bottom-color: var(--fill-color);\n",
              "    animation:\n",
              "      spin 1s steps(1) infinite;\n",
              "  }\n",
              "\n",
              "  @keyframes spin {\n",
              "    0% {\n",
              "      border-color: transparent;\n",
              "      border-bottom-color: var(--fill-color);\n",
              "      border-left-color: var(--fill-color);\n",
              "    }\n",
              "    20% {\n",
              "      border-color: transparent;\n",
              "      border-left-color: var(--fill-color);\n",
              "      border-top-color: var(--fill-color);\n",
              "    }\n",
              "    30% {\n",
              "      border-color: transparent;\n",
              "      border-left-color: var(--fill-color);\n",
              "      border-top-color: var(--fill-color);\n",
              "      border-right-color: var(--fill-color);\n",
              "    }\n",
              "    40% {\n",
              "      border-color: transparent;\n",
              "      border-right-color: var(--fill-color);\n",
              "      border-top-color: var(--fill-color);\n",
              "    }\n",
              "    60% {\n",
              "      border-color: transparent;\n",
              "      border-right-color: var(--fill-color);\n",
              "    }\n",
              "    80% {\n",
              "      border-color: transparent;\n",
              "      border-right-color: var(--fill-color);\n",
              "      border-bottom-color: var(--fill-color);\n",
              "    }\n",
              "    90% {\n",
              "      border-color: transparent;\n",
              "      border-bottom-color: var(--fill-color);\n",
              "    }\n",
              "  }\n",
              "</style>\n",
              "\n",
              "  <script>\n",
              "    async function quickchart(key) {\n",
              "      const quickchartButtonEl =\n",
              "        document.querySelector('#' + key + ' button');\n",
              "      quickchartButtonEl.disabled = true;  // To prevent multiple clicks.\n",
              "      quickchartButtonEl.classList.add('colab-df-spinner');\n",
              "      try {\n",
              "        const charts = await google.colab.kernel.invokeFunction(\n",
              "            'suggestCharts', [key], {});\n",
              "      } catch (error) {\n",
              "        console.error('Error during call to suggestCharts:', error);\n",
              "      }\n",
              "      quickchartButtonEl.classList.remove('colab-df-spinner');\n",
              "      quickchartButtonEl.classList.add('colab-df-quickchart-complete');\n",
              "    }\n",
              "    (() => {\n",
              "      let quickchartButtonEl =\n",
              "        document.querySelector('#df-78675d9d-5e5a-4cba-af45-6f644ce9aec6 button');\n",
              "      quickchartButtonEl.style.display =\n",
              "        google.colab.kernel.accessAllowed ? 'block' : 'none';\n",
              "    })();\n",
              "  </script>\n",
              "</div>\n",
              "\n",
              "    </div>\n",
              "  </div>\n"
            ],
            "application/vnd.google.colaboratory.intrinsic+json": {
              "type": "dataframe",
              "variable_name": "train",
              "summary": "{\n  \"name\": \"train\",\n  \"rows\": 3166,\n  \"fields\": [\n    {\n      \"column\": \"text\",\n      \"properties\": {\n        \"dtype\": \"string\",\n        \"num_unique_values\": 3166,\n        \"samples\": [\n          \"The notion that those in power should step down after five years is a concept that has been debated since ancient times. Some argue that change is necessary to bring fresh perspectives and ideas to the table while others believe that long term stability and continuity of leadership is necessary for success in any field. After considering both sides of the argument I believe that it is important to balance the need for continuity with the need for change and that those in power should step down after five years in order to bring revitalization through new leadership. \\n\\nWhen it comes to business the need for fresh perspectives is especially critical. A successful business must be able to pivot and adapt to changing market conditions and consumer trends. In order to do this business leaders must be willing to challenge existing policies and strategies and introduce new perspectives to the organization. By stepping down after five years business leaders can ensure that the organization is never stuck in a rut and is always pushing forward. \\n\\nWhats more a five year term can help to prevent the entrenchment of certain interests within the organization and ensure that all stakeholders have an equitable chance of having their voices heard. Too often business leaders become entrenched in their own perspectives and fail to recognize the value that other stakeholders bring to the table. By limiting terms business leaders can ensure that all stakeholders have an opportunity to contribute and that none of their voices are silenced. \\n\\nOf course it is important to recognize the value of long term continuity within a business organization. Having a senior leader who has a deep understanding of the organization and its strengths and weaknesses is invaluable. In some cases it may be beneficial to extend the term of a leader to ensure that the organization maintains its a current trajectory and continues to achieve success. \\n\\nHowever even in these cases it is important to ensure that the leader does not remain in power for too long. There is a danger that leaders become complacent over time and unable to recognize the importance of change. By stepping down after five years leaders can ensure that their legacy is secure and that their successors have the opportunity to bring new ideas and perspectives to the organization.\\n\\nIn conclusion while long term continuity is important for any organization it is also important to recognize the importance of change and the need to bring new perspectives to the table. Those in power should step down after five years in order to ensure that the organization remains vibrant and successful. Doing so will create an environment in which all stakeholders have an opportunity to be heard and will ensure that the organization is able to remain competitive in an ever changing marketplace.\\n\\n\",\n          \"Social media was become an integral part of our daily lives and its impact on society cannot be ignored. While some argue that social media was a positive impact on societal norms and values I believe that it was a significant negative impact.\\n\\nFirstly social media platforms like Instagram and Facebook have created a culture of narcissism were people are obsessed with their online image and feel the need to present a perfect version of themselves to the world. This was led to a rise in body dysmorphic disorder low self esteem and mental health issues. According to a study by the National Eating Disorders Association  of people reported that social media had a negative impact on their body image.\\n\\nSecondly social media was also created a culture of comparison. People are constantly comparing their lives to others and this was led to feelings of inadequacy and dissatisfaction. A study by the University of Michigan found that people who spend more time on social media are less happy and less satisfied with their lives. This is because social media only shows the highlight reels of peoples lives and not the reality.\\n\\nThirdly social media was also had a negative impact on our attention span. With the constant stream of information and notifications people have become accustomed to instant gratification and have lost the ability to focus on one thing for an extended period. According to a study by Microsoft the average attention span of a human being was decreased from  seconds to  seconds since the year . This was led to a decrease in productivity and an increase in stress levels.\\n\\nFinally social media was also had a significant impact on our relationships. While it was made it easier to connect with people from all over the world it was also made it harder to form meaningful relationships. People are more focused on building their online presence than on building real connections with others. According to a study by the University of California people who spend more time on social media have fewer close friends and are more likely to experience social isolation.\\n\\nIn conclusion social media was had a significant negative impact on societal norms and values. Its was created a culture of narcissism comparison and instant gratification and was negatively affected our attention span relationships and mental health. While it may have some positive effects such as connecting people and providing a platform for self expression the negative effects far outweigh the positive. It is important for individuals and society as a whole to be aware of these impacts and to use social media responsibly.\",\n          \"Determined I sprinted across the soccer field to get open for a pass. My teammate was pushing the ball towards the opposing teams goal and I wanted to ensure that we would score. I ran right past two or three defenders and called for the ball. He kicked me the perfect pass right through the middle of their defense. During those two seconds the ball soared over to me all I could think about was scoring that goal. Once the ball reached me I chested the ball in order to control it then fired a shot straight into the bottom right corner of the net! The score was now  with us in the lead late in the second half. I smiled and silently thanked my parents for making me play this sport. Thanks to this experience I Haxe been driven to write an essay regarding extracurricular activities. Recently our principal has decided to make extracurricular activities required. He states that every student must participate in at least one extracurricular activity. While not everybody is on board yet yes it is a good idea to require extracurricular activities in schools.\\n\\nFirst extracurricular activities are beneficial to most people. A survey given to schools across GenericCity that was made by the countys school board asked students about their extracurricular activities. Three questions in the survey particularly stand out. The first of the three was whether students enjoy their extracurricular activities. The second one was whether students learned something from them and the last one was if students would recommend their activity to other students in the school. The answers to the first and second were both  yes and the third one was  yes. Therefore showing that extracurricular activities can be an important and enjoyable part of your life. They bring new and fun learning points to your life rather than old and boring school based curriculum that you might not even use for the rest of your life. There is absolutely no reason why students shouldnt participate in an extracurricular activity\\n\\nFurthermore there is something for everyone. When I was in the th grade way back in the day I had a strange friend group. Hardly anybody shared the same interests. I liked to run and my buddy GenericName liked to sit back and watch TV but we were somehow best buds!\\n\\nWhen our school started introducing some after school\\u00a0activities every single one of my friends was in a different activity. I was in the running club GenericName was in moxie analysis GenericName was in Lego club and GenericName was in board games. Not one person was disappointed with their activity. This proves that there are options for everybody. Every student will Haxe something that interests them which leads to them enjoying the activity and learning from it.\\n\\nMost importantly these extracurricular activities can lead to a career choice. In an interview with principal GenericName of GenericSchool GenericName states Extracurricular activities are very important to me as a principal. We offer our students a wide variety of clubs such as writing club sports analysis club biology chemistry and history hoping to spark interest in these students for their future career choices.\\n\\nThis quote by Principal GenericName shows that extracurricular activities are not just used for fun and games. They are there to inspire students. To get them ready for their future.\\n\\nIf students dont learn what they want to do in life how will they ever be successful? That alone is important enough to make extracurricular activities required.\\n\\nOn the other hand some people believe it shouldnt be required to do some sort of extracurricular activity because they would take up unnecessary time. A survey was given to parents of GenericCity Public School students asking if they were unhappy about how much time their children take up doing their extracurricular activities. Out of  responses  said yes they are unhappy with the amount of time their child is taking doing his or her extracurricular activities. Sure this is a good point. However the activities are not meant for the parents. They are meant for the students. Going back to the first survey mentioned the one given to GenericCity students out of  responses  of students say their activities are worthwhile. Almost every single student thought their activities were worth their time. If students believe their activities dont take up too much time why not require them? If their parents are unhappy that should not change anything because these activities are meant to benefit students not their parents.\\n\\nAll in all we need our extracurricular activities and to make them required is a great idea. It is fun for the students Its beneficial its a good learning experience and its a good way to give students ideas for their career. If you want to help make schools require extracurricular activities you can email your principal asking to require them. If you want to help out in different ways go ahead and form a club for your school! It could be anything that interests you or anything you want to inform others on. Its up to you. Before we depart I want to ask you Without extracurricular activities where would we be now?\"\n        ],\n        \"semantic_type\": \"\",\n        \"description\": \"\"\n      }\n    },\n    {\n      \"column\": \"generated\",\n      \"properties\": {\n        \"dtype\": \"number\",\n        \"std\": 0.48763096549399976,\n        \"min\": 0.0,\n        \"max\": 1.0,\n        \"num_unique_values\": 2,\n        \"samples\": [\n          0.0,\n          1.0\n        ],\n        \"semantic_type\": \"\",\n        \"description\": \"\"\n      }\n    }\n  ]\n}"
            }
          },
          "metadata": {},
          "execution_count": 46
        }
      ],
      "source": [
        "train, test = train_test_split(data, test_size = 0.35)\n",
        "print(train.shape)\n",
        "print(test.shape)\n",
        "train.head()"
      ]
    },
    {
      "cell_type": "markdown",
      "id": "736cb8f5-3c0b-4a93-b207-e66e6022c5bc",
      "metadata": {
        "id": "736cb8f5-3c0b-4a93-b207-e66e6022c5bc"
      },
      "source": [
        "### Creating the word count matrices\n",
        "\n",
        "Notice that we will not fit_transform the test data but apply the same transformation that we use for the training data."
      ]
    },
    {
      "cell_type": "code",
      "source": [
        "import nltk\n",
        "nltk.download('stopwords')"
      ],
      "metadata": {
        "colab": {
          "base_uri": "https://localhost:8080/"
        },
        "id": "ftoKKTTTgePT",
        "outputId": "37127ddf-badc-4631-97a3-0b10ff4b1192"
      },
      "id": "ftoKKTTTgePT",
      "execution_count": 47,
      "outputs": [
        {
          "output_type": "stream",
          "name": "stderr",
          "text": [
            "[nltk_data] Downloading package stopwords to /root/nltk_data...\n",
            "[nltk_data]   Package stopwords is already up-to-date!\n"
          ]
        },
        {
          "output_type": "execute_result",
          "data": {
            "text/plain": [
              "True"
            ]
          },
          "metadata": {},
          "execution_count": 47
        }
      ]
    },
    {
      "cell_type": "code",
      "execution_count": 48,
      "id": "e50b0510-2c09-4ec6-9e28-b2a8933197e5",
      "metadata": {
        "id": "e50b0510-2c09-4ec6-9e28-b2a8933197e5",
        "outputId": "6b94f8ce-0d61-4164-c12e-4fbf76736734",
        "colab": {
          "base_uri": "https://localhost:8080/"
        }
      },
      "outputs": [
        {
          "output_type": "stream",
          "name": "stdout",
          "text": [
            "(3166, 22043)\n",
            "(1706, 22043)\n",
            "(22043,)\n"
          ]
        }
      ],
      "source": [
        "text_train = train[\"text\"]\n",
        "y_train = train[\"generated\"]\n",
        "text_test = test[\"text\"]\n",
        "y_test = test[\"generated\"]\n",
        "\n",
        "from nltk.corpus import stopwords as nltkStopwords\n",
        "from sklearn.feature_extraction.text import CountVectorizer\n",
        "\n",
        "stopwords_en = list(nltkStopwords.words(\"english\"))\n",
        "count_vectorizer = CountVectorizer(strip_accents = \"unicode\",\n",
        "                                   stop_words = stopwords_en)\n",
        "\n",
        "X_train = count_vectorizer.fit_transform(text_train)\n",
        "X_test = count_vectorizer.transform(text_test)\n",
        "counts_features_names = count_vectorizer.get_feature_names_out()\n",
        "print(X_train.shape)\n",
        "print(X_test.shape)\n",
        "print(counts_features_names.shape)\n",
        "\n",
        "counts_train = pd.DataFrame(X_train.A, columns = counts_features_names)\n",
        "counts_test = pd.DataFrame(X_test.A, columns = counts_features_names)"
      ]
    },
    {
      "cell_type": "markdown",
      "id": "a5a0647a-6646-49f8-b9ae-646b2e7aef99",
      "metadata": {
        "id": "a5a0647a-6646-49f8-b9ae-646b2e7aef99"
      },
      "source": [
        "### Use the following function to plot confusion matrices of the predictions"
      ]
    },
    {
      "cell_type": "code",
      "execution_count": 49,
      "id": "e6210175-dbea-4ea8-aacb-b539473c7149",
      "metadata": {
        "id": "e6210175-dbea-4ea8-aacb-b539473c7149"
      },
      "outputs": [],
      "source": [
        "def plot_confusion_matrix(cm, classes, normalize = False, title = \"Confusion matrix\", cmap = plt.cm.Blues):\n",
        "\n",
        "    plt.imshow(cm, interpolation = \"nearest\", cmap = cmap)\n",
        "    plt.title(title)\n",
        "    plt.colorbar()\n",
        "    tick_marks = np.arange(len(classes))\n",
        "    plt.xticks(tick_marks, classes, rotation = 45)\n",
        "    plt.yticks(tick_marks, classes)\n",
        "\n",
        "    if normalize:\n",
        "        cm = cm.astype(\"float\") / cm.sum(axis = 1)[:, np.newaxis]\n",
        "        print(\"Normalized confusion matrix\")\n",
        "\n",
        "    thresh = cm.max() / 2.\n",
        "    for i, j in itertools.product(range(cm.shape[0]), range(cm.shape[1])):\n",
        "        plt.text(j, i, cm[i, j],\n",
        "                 horizontalalignment = \"center\",\n",
        "                 color=\"white\" if cm[i, j] > thresh else \"black\")\n",
        "\n",
        "    plt.tight_layout()\n",
        "    plt.ylim(len(cm) - 0.5, -0.5)\n",
        "    plt.ylabel(\"True label\")\n",
        "    plt.xlabel(\"Predicted label\")\n",
        "\n",
        "    return cm"
      ]
    },
    {
      "cell_type": "markdown",
      "id": "e4668bef-ea9c-4356-a4a6-f0896ec4799d",
      "metadata": {
        "id": "e4668bef-ea9c-4356-a4a6-f0896ec4799d"
      },
      "source": [
        "# **Classification**"
      ]
    },
    {
      "cell_type": "code",
      "execution_count": 50,
      "id": "2df90bb9-24d7-4590-a843-a286b6da0b2c",
      "metadata": {
        "id": "2df90bb9-24d7-4590-a843-a286b6da0b2c",
        "colab": {
          "base_uri": "https://localhost:8080/",
          "height": 80
        },
        "outputId": "4accf8b9-cda0-4554-8ac1-86e865ad281b"
      },
      "outputs": [
        {
          "output_type": "execute_result",
          "data": {
            "text/plain": [
              "MultinomialNB()"
            ],
            "text/html": [
              "<style>#sk-container-id-4 {\n",
              "  /* Definition of color scheme common for light and dark mode */\n",
              "  --sklearn-color-text: black;\n",
              "  --sklearn-color-line: gray;\n",
              "  /* Definition of color scheme for unfitted estimators */\n",
              "  --sklearn-color-unfitted-level-0: #fff5e6;\n",
              "  --sklearn-color-unfitted-level-1: #f6e4d2;\n",
              "  --sklearn-color-unfitted-level-2: #ffe0b3;\n",
              "  --sklearn-color-unfitted-level-3: chocolate;\n",
              "  /* Definition of color scheme for fitted estimators */\n",
              "  --sklearn-color-fitted-level-0: #f0f8ff;\n",
              "  --sklearn-color-fitted-level-1: #d4ebff;\n",
              "  --sklearn-color-fitted-level-2: #b3dbfd;\n",
              "  --sklearn-color-fitted-level-3: cornflowerblue;\n",
              "\n",
              "  /* Specific color for light theme */\n",
              "  --sklearn-color-text-on-default-background: var(--sg-text-color, var(--theme-code-foreground, var(--jp-content-font-color1, black)));\n",
              "  --sklearn-color-background: var(--sg-background-color, var(--theme-background, var(--jp-layout-color0, white)));\n",
              "  --sklearn-color-border-box: var(--sg-text-color, var(--theme-code-foreground, var(--jp-content-font-color1, black)));\n",
              "  --sklearn-color-icon: #696969;\n",
              "\n",
              "  @media (prefers-color-scheme: dark) {\n",
              "    /* Redefinition of color scheme for dark theme */\n",
              "    --sklearn-color-text-on-default-background: var(--sg-text-color, var(--theme-code-foreground, var(--jp-content-font-color1, white)));\n",
              "    --sklearn-color-background: var(--sg-background-color, var(--theme-background, var(--jp-layout-color0, #111)));\n",
              "    --sklearn-color-border-box: var(--sg-text-color, var(--theme-code-foreground, var(--jp-content-font-color1, white)));\n",
              "    --sklearn-color-icon: #878787;\n",
              "  }\n",
              "}\n",
              "\n",
              "#sk-container-id-4 {\n",
              "  color: var(--sklearn-color-text);\n",
              "}\n",
              "\n",
              "#sk-container-id-4 pre {\n",
              "  padding: 0;\n",
              "}\n",
              "\n",
              "#sk-container-id-4 input.sk-hidden--visually {\n",
              "  border: 0;\n",
              "  clip: rect(1px 1px 1px 1px);\n",
              "  clip: rect(1px, 1px, 1px, 1px);\n",
              "  height: 1px;\n",
              "  margin: -1px;\n",
              "  overflow: hidden;\n",
              "  padding: 0;\n",
              "  position: absolute;\n",
              "  width: 1px;\n",
              "}\n",
              "\n",
              "#sk-container-id-4 div.sk-dashed-wrapped {\n",
              "  border: 1px dashed var(--sklearn-color-line);\n",
              "  margin: 0 0.4em 0.5em 0.4em;\n",
              "  box-sizing: border-box;\n",
              "  padding-bottom: 0.4em;\n",
              "  background-color: var(--sklearn-color-background);\n",
              "}\n",
              "\n",
              "#sk-container-id-4 div.sk-container {\n",
              "  /* jupyter's `normalize.less` sets `[hidden] { display: none; }`\n",
              "     but bootstrap.min.css set `[hidden] { display: none !important; }`\n",
              "     so we also need the `!important` here to be able to override the\n",
              "     default hidden behavior on the sphinx rendered scikit-learn.org.\n",
              "     See: https://github.com/scikit-learn/scikit-learn/issues/21755 */\n",
              "  display: inline-block !important;\n",
              "  position: relative;\n",
              "}\n",
              "\n",
              "#sk-container-id-4 div.sk-text-repr-fallback {\n",
              "  display: none;\n",
              "}\n",
              "\n",
              "div.sk-parallel-item,\n",
              "div.sk-serial,\n",
              "div.sk-item {\n",
              "  /* draw centered vertical line to link estimators */\n",
              "  background-image: linear-gradient(var(--sklearn-color-text-on-default-background), var(--sklearn-color-text-on-default-background));\n",
              "  background-size: 2px 100%;\n",
              "  background-repeat: no-repeat;\n",
              "  background-position: center center;\n",
              "}\n",
              "\n",
              "/* Parallel-specific style estimator block */\n",
              "\n",
              "#sk-container-id-4 div.sk-parallel-item::after {\n",
              "  content: \"\";\n",
              "  width: 100%;\n",
              "  border-bottom: 2px solid var(--sklearn-color-text-on-default-background);\n",
              "  flex-grow: 1;\n",
              "}\n",
              "\n",
              "#sk-container-id-4 div.sk-parallel {\n",
              "  display: flex;\n",
              "  align-items: stretch;\n",
              "  justify-content: center;\n",
              "  background-color: var(--sklearn-color-background);\n",
              "  position: relative;\n",
              "}\n",
              "\n",
              "#sk-container-id-4 div.sk-parallel-item {\n",
              "  display: flex;\n",
              "  flex-direction: column;\n",
              "}\n",
              "\n",
              "#sk-container-id-4 div.sk-parallel-item:first-child::after {\n",
              "  align-self: flex-end;\n",
              "  width: 50%;\n",
              "}\n",
              "\n",
              "#sk-container-id-4 div.sk-parallel-item:last-child::after {\n",
              "  align-self: flex-start;\n",
              "  width: 50%;\n",
              "}\n",
              "\n",
              "#sk-container-id-4 div.sk-parallel-item:only-child::after {\n",
              "  width: 0;\n",
              "}\n",
              "\n",
              "/* Serial-specific style estimator block */\n",
              "\n",
              "#sk-container-id-4 div.sk-serial {\n",
              "  display: flex;\n",
              "  flex-direction: column;\n",
              "  align-items: center;\n",
              "  background-color: var(--sklearn-color-background);\n",
              "  padding-right: 1em;\n",
              "  padding-left: 1em;\n",
              "}\n",
              "\n",
              "\n",
              "/* Toggleable style: style used for estimator/Pipeline/ColumnTransformer box that is\n",
              "clickable and can be expanded/collapsed.\n",
              "- Pipeline and ColumnTransformer use this feature and define the default style\n",
              "- Estimators will overwrite some part of the style using the `sk-estimator` class\n",
              "*/\n",
              "\n",
              "/* Pipeline and ColumnTransformer style (default) */\n",
              "\n",
              "#sk-container-id-4 div.sk-toggleable {\n",
              "  /* Default theme specific background. It is overwritten whether we have a\n",
              "  specific estimator or a Pipeline/ColumnTransformer */\n",
              "  background-color: var(--sklearn-color-background);\n",
              "}\n",
              "\n",
              "/* Toggleable label */\n",
              "#sk-container-id-4 label.sk-toggleable__label {\n",
              "  cursor: pointer;\n",
              "  display: block;\n",
              "  width: 100%;\n",
              "  margin-bottom: 0;\n",
              "  padding: 0.5em;\n",
              "  box-sizing: border-box;\n",
              "  text-align: center;\n",
              "}\n",
              "\n",
              "#sk-container-id-4 label.sk-toggleable__label-arrow:before {\n",
              "  /* Arrow on the left of the label */\n",
              "  content: \"▸\";\n",
              "  float: left;\n",
              "  margin-right: 0.25em;\n",
              "  color: var(--sklearn-color-icon);\n",
              "}\n",
              "\n",
              "#sk-container-id-4 label.sk-toggleable__label-arrow:hover:before {\n",
              "  color: var(--sklearn-color-text);\n",
              "}\n",
              "\n",
              "/* Toggleable content - dropdown */\n",
              "\n",
              "#sk-container-id-4 div.sk-toggleable__content {\n",
              "  max-height: 0;\n",
              "  max-width: 0;\n",
              "  overflow: hidden;\n",
              "  text-align: left;\n",
              "  /* unfitted */\n",
              "  background-color: var(--sklearn-color-unfitted-level-0);\n",
              "}\n",
              "\n",
              "#sk-container-id-4 div.sk-toggleable__content.fitted {\n",
              "  /* fitted */\n",
              "  background-color: var(--sklearn-color-fitted-level-0);\n",
              "}\n",
              "\n",
              "#sk-container-id-4 div.sk-toggleable__content pre {\n",
              "  margin: 0.2em;\n",
              "  border-radius: 0.25em;\n",
              "  color: var(--sklearn-color-text);\n",
              "  /* unfitted */\n",
              "  background-color: var(--sklearn-color-unfitted-level-0);\n",
              "}\n",
              "\n",
              "#sk-container-id-4 div.sk-toggleable__content.fitted pre {\n",
              "  /* unfitted */\n",
              "  background-color: var(--sklearn-color-fitted-level-0);\n",
              "}\n",
              "\n",
              "#sk-container-id-4 input.sk-toggleable__control:checked~div.sk-toggleable__content {\n",
              "  /* Expand drop-down */\n",
              "  max-height: 200px;\n",
              "  max-width: 100%;\n",
              "  overflow: auto;\n",
              "}\n",
              "\n",
              "#sk-container-id-4 input.sk-toggleable__control:checked~label.sk-toggleable__label-arrow:before {\n",
              "  content: \"▾\";\n",
              "}\n",
              "\n",
              "/* Pipeline/ColumnTransformer-specific style */\n",
              "\n",
              "#sk-container-id-4 div.sk-label input.sk-toggleable__control:checked~label.sk-toggleable__label {\n",
              "  color: var(--sklearn-color-text);\n",
              "  background-color: var(--sklearn-color-unfitted-level-2);\n",
              "}\n",
              "\n",
              "#sk-container-id-4 div.sk-label.fitted input.sk-toggleable__control:checked~label.sk-toggleable__label {\n",
              "  background-color: var(--sklearn-color-fitted-level-2);\n",
              "}\n",
              "\n",
              "/* Estimator-specific style */\n",
              "\n",
              "/* Colorize estimator box */\n",
              "#sk-container-id-4 div.sk-estimator input.sk-toggleable__control:checked~label.sk-toggleable__label {\n",
              "  /* unfitted */\n",
              "  background-color: var(--sklearn-color-unfitted-level-2);\n",
              "}\n",
              "\n",
              "#sk-container-id-4 div.sk-estimator.fitted input.sk-toggleable__control:checked~label.sk-toggleable__label {\n",
              "  /* fitted */\n",
              "  background-color: var(--sklearn-color-fitted-level-2);\n",
              "}\n",
              "\n",
              "#sk-container-id-4 div.sk-label label.sk-toggleable__label,\n",
              "#sk-container-id-4 div.sk-label label {\n",
              "  /* The background is the default theme color */\n",
              "  color: var(--sklearn-color-text-on-default-background);\n",
              "}\n",
              "\n",
              "/* On hover, darken the color of the background */\n",
              "#sk-container-id-4 div.sk-label:hover label.sk-toggleable__label {\n",
              "  color: var(--sklearn-color-text);\n",
              "  background-color: var(--sklearn-color-unfitted-level-2);\n",
              "}\n",
              "\n",
              "/* Label box, darken color on hover, fitted */\n",
              "#sk-container-id-4 div.sk-label.fitted:hover label.sk-toggleable__label.fitted {\n",
              "  color: var(--sklearn-color-text);\n",
              "  background-color: var(--sklearn-color-fitted-level-2);\n",
              "}\n",
              "\n",
              "/* Estimator label */\n",
              "\n",
              "#sk-container-id-4 div.sk-label label {\n",
              "  font-family: monospace;\n",
              "  font-weight: bold;\n",
              "  display: inline-block;\n",
              "  line-height: 1.2em;\n",
              "}\n",
              "\n",
              "#sk-container-id-4 div.sk-label-container {\n",
              "  text-align: center;\n",
              "}\n",
              "\n",
              "/* Estimator-specific */\n",
              "#sk-container-id-4 div.sk-estimator {\n",
              "  font-family: monospace;\n",
              "  border: 1px dotted var(--sklearn-color-border-box);\n",
              "  border-radius: 0.25em;\n",
              "  box-sizing: border-box;\n",
              "  margin-bottom: 0.5em;\n",
              "  /* unfitted */\n",
              "  background-color: var(--sklearn-color-unfitted-level-0);\n",
              "}\n",
              "\n",
              "#sk-container-id-4 div.sk-estimator.fitted {\n",
              "  /* fitted */\n",
              "  background-color: var(--sklearn-color-fitted-level-0);\n",
              "}\n",
              "\n",
              "/* on hover */\n",
              "#sk-container-id-4 div.sk-estimator:hover {\n",
              "  /* unfitted */\n",
              "  background-color: var(--sklearn-color-unfitted-level-2);\n",
              "}\n",
              "\n",
              "#sk-container-id-4 div.sk-estimator.fitted:hover {\n",
              "  /* fitted */\n",
              "  background-color: var(--sklearn-color-fitted-level-2);\n",
              "}\n",
              "\n",
              "/* Specification for estimator info (e.g. \"i\" and \"?\") */\n",
              "\n",
              "/* Common style for \"i\" and \"?\" */\n",
              "\n",
              ".sk-estimator-doc-link,\n",
              "a:link.sk-estimator-doc-link,\n",
              "a:visited.sk-estimator-doc-link {\n",
              "  float: right;\n",
              "  font-size: smaller;\n",
              "  line-height: 1em;\n",
              "  font-family: monospace;\n",
              "  background-color: var(--sklearn-color-background);\n",
              "  border-radius: 1em;\n",
              "  height: 1em;\n",
              "  width: 1em;\n",
              "  text-decoration: none !important;\n",
              "  margin-left: 1ex;\n",
              "  /* unfitted */\n",
              "  border: var(--sklearn-color-unfitted-level-1) 1pt solid;\n",
              "  color: var(--sklearn-color-unfitted-level-1);\n",
              "}\n",
              "\n",
              ".sk-estimator-doc-link.fitted,\n",
              "a:link.sk-estimator-doc-link.fitted,\n",
              "a:visited.sk-estimator-doc-link.fitted {\n",
              "  /* fitted */\n",
              "  border: var(--sklearn-color-fitted-level-1) 1pt solid;\n",
              "  color: var(--sklearn-color-fitted-level-1);\n",
              "}\n",
              "\n",
              "/* On hover */\n",
              "div.sk-estimator:hover .sk-estimator-doc-link:hover,\n",
              ".sk-estimator-doc-link:hover,\n",
              "div.sk-label-container:hover .sk-estimator-doc-link:hover,\n",
              ".sk-estimator-doc-link:hover {\n",
              "  /* unfitted */\n",
              "  background-color: var(--sklearn-color-unfitted-level-3);\n",
              "  color: var(--sklearn-color-background);\n",
              "  text-decoration: none;\n",
              "}\n",
              "\n",
              "div.sk-estimator.fitted:hover .sk-estimator-doc-link.fitted:hover,\n",
              ".sk-estimator-doc-link.fitted:hover,\n",
              "div.sk-label-container:hover .sk-estimator-doc-link.fitted:hover,\n",
              ".sk-estimator-doc-link.fitted:hover {\n",
              "  /* fitted */\n",
              "  background-color: var(--sklearn-color-fitted-level-3);\n",
              "  color: var(--sklearn-color-background);\n",
              "  text-decoration: none;\n",
              "}\n",
              "\n",
              "/* Span, style for the box shown on hovering the info icon */\n",
              ".sk-estimator-doc-link span {\n",
              "  display: none;\n",
              "  z-index: 9999;\n",
              "  position: relative;\n",
              "  font-weight: normal;\n",
              "  right: .2ex;\n",
              "  padding: .5ex;\n",
              "  margin: .5ex;\n",
              "  width: min-content;\n",
              "  min-width: 20ex;\n",
              "  max-width: 50ex;\n",
              "  color: var(--sklearn-color-text);\n",
              "  box-shadow: 2pt 2pt 4pt #999;\n",
              "  /* unfitted */\n",
              "  background: var(--sklearn-color-unfitted-level-0);\n",
              "  border: .5pt solid var(--sklearn-color-unfitted-level-3);\n",
              "}\n",
              "\n",
              ".sk-estimator-doc-link.fitted span {\n",
              "  /* fitted */\n",
              "  background: var(--sklearn-color-fitted-level-0);\n",
              "  border: var(--sklearn-color-fitted-level-3);\n",
              "}\n",
              "\n",
              ".sk-estimator-doc-link:hover span {\n",
              "  display: block;\n",
              "}\n",
              "\n",
              "/* \"?\"-specific style due to the `<a>` HTML tag */\n",
              "\n",
              "#sk-container-id-4 a.estimator_doc_link {\n",
              "  float: right;\n",
              "  font-size: 1rem;\n",
              "  line-height: 1em;\n",
              "  font-family: monospace;\n",
              "  background-color: var(--sklearn-color-background);\n",
              "  border-radius: 1rem;\n",
              "  height: 1rem;\n",
              "  width: 1rem;\n",
              "  text-decoration: none;\n",
              "  /* unfitted */\n",
              "  color: var(--sklearn-color-unfitted-level-1);\n",
              "  border: var(--sklearn-color-unfitted-level-1) 1pt solid;\n",
              "}\n",
              "\n",
              "#sk-container-id-4 a.estimator_doc_link.fitted {\n",
              "  /* fitted */\n",
              "  border: var(--sklearn-color-fitted-level-1) 1pt solid;\n",
              "  color: var(--sklearn-color-fitted-level-1);\n",
              "}\n",
              "\n",
              "/* On hover */\n",
              "#sk-container-id-4 a.estimator_doc_link:hover {\n",
              "  /* unfitted */\n",
              "  background-color: var(--sklearn-color-unfitted-level-3);\n",
              "  color: var(--sklearn-color-background);\n",
              "  text-decoration: none;\n",
              "}\n",
              "\n",
              "#sk-container-id-4 a.estimator_doc_link.fitted:hover {\n",
              "  /* fitted */\n",
              "  background-color: var(--sklearn-color-fitted-level-3);\n",
              "}\n",
              "</style><div id=\"sk-container-id-4\" class=\"sk-top-container\"><div class=\"sk-text-repr-fallback\"><pre>MultinomialNB()</pre><b>In a Jupyter environment, please rerun this cell to show the HTML representation or trust the notebook. <br />On GitHub, the HTML representation is unable to render, please try loading this page with nbviewer.org.</b></div><div class=\"sk-container\" hidden><div class=\"sk-item\"><div class=\"sk-estimator fitted sk-toggleable\"><input class=\"sk-toggleable__control sk-hidden--visually\" id=\"sk-estimator-id-4\" type=\"checkbox\" checked><label for=\"sk-estimator-id-4\" class=\"sk-toggleable__label fitted sk-toggleable__label-arrow fitted\">&nbsp;&nbsp;MultinomialNB<a class=\"sk-estimator-doc-link fitted\" rel=\"noreferrer\" target=\"_blank\" href=\"https://scikit-learn.org/1.5/modules/generated/sklearn.naive_bayes.MultinomialNB.html\">?<span>Documentation for MultinomialNB</span></a><span class=\"sk-estimator-doc-link fitted\">i<span>Fitted</span></span></label><div class=\"sk-toggleable__content fitted\"><pre>MultinomialNB()</pre></div> </div></div></div></div>"
            ]
          },
          "metadata": {},
          "execution_count": 50
        }
      ],
      "source": [
        "from sklearn.naive_bayes import MultinomialNB\n",
        "\n",
        "NB = MultinomialNB()\n",
        "NB.fit(counts_train, y_train)"
      ]
    },
    {
      "cell_type": "markdown",
      "id": "6c4e02ac-2fd5-485c-b623-a12df97e52d3",
      "metadata": {
        "id": "6c4e02ac-2fd5-485c-b623-a12df97e52d3"
      },
      "source": [
        "### Evaluate your implementation on the training data..."
      ]
    },
    {
      "cell_type": "code",
      "execution_count": 51,
      "id": "876ef0d7-7837-4ba8-94ea-9bc890762e62",
      "metadata": {
        "id": "876ef0d7-7837-4ba8-94ea-9bc890762e62"
      },
      "outputs": [],
      "source": [
        "pred_train = NB.predict(counts_train)"
      ]
    },
    {
      "cell_type": "code",
      "execution_count": 52,
      "id": "d5d28049-9034-4106-b7e8-014a91199114",
      "metadata": {
        "id": "d5d28049-9034-4106-b7e8-014a91199114",
        "outputId": "5ad30e18-9959-4216-f9f1-7b19e61624d5",
        "colab": {
          "base_uri": "https://localhost:8080/",
          "height": 506
        }
      },
      "outputs": [
        {
          "output_type": "display_data",
          "data": {
            "text/plain": [
              "<Figure size 640x480 with 2 Axes>"
            ],
            "image/png": "[encoded data removed]"
          },
          "metadata": {}
        }
      ],
      "source": [
        "conf = confusion_matrix(y_train, pred_train)\n",
        "\n",
        "plt.figure()\n",
        "plot = plot_confusion_matrix(conf, classes = [\"Human\", \"AI\"], title = \"Confusion matrix - Train Split\")\n",
        "plt.show()"
      ]
    },
    {
      "cell_type": "code",
      "execution_count": 53,
      "id": "5d1357cd-54ed-4b0b-a514-6d783a286a1b",
      "metadata": {
        "id": "5d1357cd-54ed-4b0b-a514-6d783a286a1b",
        "outputId": "e3df7f1b-7f93-439c-fc13-f46fd003c619",
        "colab": {
          "base_uri": "https://localhost:8080/"
        }
      },
      "outputs": [
        {
          "output_type": "stream",
          "name": "stdout",
          "text": [
            "Train Accuracy:  0.9665192672141504\n"
          ]
        }
      ],
      "source": [
        "print(\"Train Accuracy: \", accuracy_score(y_train, pred_train))"
      ]
    },
    {
      "cell_type": "markdown",
      "id": "a3dd8010-9777-4366-af31-6dc83cc84e25",
      "metadata": {
        "id": "a3dd8010-9777-4366-af31-6dc83cc84e25"
      },
      "source": [
        "### ...and on the test data"
      ]
    },
    {
      "cell_type": "code",
      "execution_count": 54,
      "id": "0410697d-2f38-484c-a908-395d86eed230",
      "metadata": {
        "id": "0410697d-2f38-484c-a908-395d86eed230"
      },
      "outputs": [],
      "source": [
        "pred_test = NB.predict(counts_test)"
      ]
    },
    {
      "cell_type": "code",
      "execution_count": 55,
      "id": "4cd0ed61-856f-461d-abb0-6c8f1d9c9f9c",
      "metadata": {
        "id": "4cd0ed61-856f-461d-abb0-6c8f1d9c9f9c",
        "outputId": "8f236398-d355-4abd-9386-6cc103e08f75",
        "colab": {
          "base_uri": "https://localhost:8080/",
          "height": 506
        }
      },
      "outputs": [
        {
          "output_type": "display_data",
          "data": {
            "text/plain": [
              "<Figure size 640x480 with 2 Axes>"
            ],
            "image/png": "[encoded data removed]"
          },
          "metadata": {}
        }
      ],
      "source": [
        "conf = confusion_matrix(y_test, pred_test)\n",
        "\n",
        "plt.figure()\n",
        "plot = plot_confusion_matrix(conf, classes = [\"Human\", \"AI\"], title = \"Confusion matrix - Test Split\")\n",
        "plt.show()"
      ]
    },
    {
      "cell_type": "code",
      "execution_count": 56,
      "id": "3baadbb0-469b-4be2-88d8-559f17ae2b84",
      "metadata": {
        "id": "3baadbb0-469b-4be2-88d8-559f17ae2b84",
        "outputId": "c454e961-3857-4879-9b6b-c79b72b32f50",
        "colab": {
          "base_uri": "https://localhost:8080/"
        }
      },
      "outputs": [
        {
          "output_type": "stream",
          "name": "stdout",
          "text": [
            "Test Accuracy:  0.9495896834701055\n"
          ]
        }
      ],
      "source": [
        "print(\"Test Accuracy: \", accuracy_score(y_test, pred_test))"
      ]
    },
    {
      "cell_type": "markdown",
      "id": "c9bdd589-e7b0-465a-9490-9ed9b764842f",
      "metadata": {
        "id": "c9bdd589-e7b0-465a-9490-9ed9b764842f"
      },
      "source": [
        "### What can you observe?\n",
        "\n",
        "Does it work well? What does accuracy in this context mean given that we have four balanced classes (and we assume that our sample is truly random)? What could be pitfalls why the classifier doesn't work well?"
      ]
    }
  ],
  "metadata": {
    "kernelspec": {
      "display_name": "Python 3 (ipykernel)",
      "language": "python",
      "name": "python3"
    },
    "language_info": {
      "codemirror_mode": {
        "name": "ipython",
        "version": 3
      },
      "file_extension": ".py",
      "mimetype": "text/x-python",
      "name": "python",
      "nbconvert_exporter": "python",
      "pygments_lexer": "ipython3",
      "version": "3.12.0"
    },
    "colab": {
      "provenance": [],
      "include_colab_link": true
    }
  },
  "nbformat": 4,
  "nbformat_minor": 5
}