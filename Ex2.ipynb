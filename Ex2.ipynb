{
  "cells": [
    {
      "cell_type": "markdown",
      "metadata": {
        "id": "view-in-github",
        "colab_type": "text"
      },
      "source": [
        "<a href=\"https://colab.research.google.com/github/nikolimaj/text_mining/blob/main/Ex2.ipynb\" target=\"_parent\"><img src=\"https://colab.research.google.com/assets/colab-badge.svg\" alt=\"Open In Colab\"/></a>"
      ]
    },
    {
      "cell_type": "markdown",
      "id": "2ef4d8ec-b651-43cd-b92a-7676e3fc8ec6",
      "metadata": {
        "id": "2ef4d8ec-b651-43cd-b92a-7676e3fc8ec6"
      },
      "source": [
        "### Loading our data\n",
        "\n",
        "For the following exercise we will use the word count matrix representation and only use a small subset of our data since we will implement a naiveBayes classifier - which is a \"lazy learner\" and so predictions will be rather slow."
      ]
    },
    {
      "cell_type": "code",
      "execution_count": null,
      "id": "1c7efa9f-be80-4108-9387-6cd68255c89f",
      "metadata": {
        "id": "1c7efa9f-be80-4108-9387-6cd68255c89f"
      },
      "outputs": [],
      "source": [
        "from sklearn.model_selection import train_test_split\n",
        "from sklearn.metrics import confusion_matrix\n",
        "from sklearn.metrics import accuracy_score\n",
        "import matplotlib.pyplot as plt\n",
        "from tqdm import tqdm\n",
        "import pandas as pd\n",
        "import numpy as np\n",
        "import itertools\n",
        "\n",
        "classes_en = {1: \"World\", 2: \"Sports\", 3: \"Business\", 4: \"Sci/Tech\"}\n",
        "train_en = pd.read_csv(\"https://raw.githubusercontent.com/michabirklbauer/hgb_dse_text_mining/master/data/AGNews/train.csv\",\n",
        "                       names = [\"Label\", \"Title\", \"Article\"],\n",
        "                       encoding = \"utf-8\")\n",
        "test_en = pd.read_csv(\"https://raw.githubusercontent.com/michabirklbauer/hgb_dse_text_mining/master/data/AGNews/test.csv\",\n",
        "                      names = [\"Label\", \"Title\", \"Article\"],\n",
        "                      encoding = \"utf-8\")\n",
        "\n",
        "sample = train_en.sample(1000)"
      ]
    },
    {
      "cell_type": "markdown",
      "id": "f007c515-5a39-4ad2-b904-bdca9a21df0e",
      "metadata": {
        "id": "f007c515-5a39-4ad2-b904-bdca9a21df0e"
      },
      "source": [
        "### Splitting data into a training dataset and a test dataset\n",
        "\n",
        "*Note:* Data splitting should be your first step in any data science project that involves some kind of machine learning, doing transformations - even something like word counts - will inherently introduce bias and make the calculated generalization error on the test datast less meaningful!"
      ]
    },
    {
      "cell_type": "code",
      "execution_count": null,
      "id": "e2c52bfe-0d55-4e4b-b745-6805cdbe46a2",
      "metadata": {
        "id": "e2c52bfe-0d55-4e4b-b745-6805cdbe46a2",
        "outputId": "654cf5d3-58ad-4435-df2d-917495e525a3"
      },
      "outputs": [
        {
          "name": "stdout",
          "output_type": "stream",
          "text": [
            "(650, 3)\n",
            "(350, 3)\n"
          ]
        },
        {
          "data": {
            "text/html": [
              "<div>\n",
              "<style scoped>\n",
              "    .dataframe tbody tr th:only-of-type {\n",
              "        vertical-align: middle;\n",
              "    }\n",
              "\n",
              "    .dataframe tbody tr th {\n",
              "        vertical-align: top;\n",
              "    }\n",
              "\n",
              "    .dataframe thead th {\n",
              "        text-align: right;\n",
              "    }\n",
              "</style>\n",
              "<table border=\"1\" class=\"dataframe\">\n",
              "  <thead>\n",
              "    <tr style=\"text-align: right;\">\n",
              "      <th></th>\n",
              "      <th>Label</th>\n",
              "      <th>Title</th>\n",
              "      <th>Article</th>\n",
              "    </tr>\n",
              "  </thead>\n",
              "  <tbody>\n",
              "    <tr>\n",
              "      <th>21507</th>\n",
              "      <td>2</td>\n",
              "      <td>Let the emotional joy ride begin</td>\n",
              "      <td>I am. I #39;ve been eyeballing Thursday #39;s ...</td>\n",
              "    </tr>\n",
              "    <tr>\n",
              "      <th>101305</th>\n",
              "      <td>1</td>\n",
              "      <td>Chirac vows 'true partnership' with Libya (AFP)</td>\n",
              "      <td>AFP - French President Jacques Chirac, who vow...</td>\n",
              "    </tr>\n",
              "    <tr>\n",
              "      <th>59718</th>\n",
              "      <td>2</td>\n",
              "      <td>Astros must go to Plan B with pitchers</td>\n",
              "      <td>ST. LOUIS - If Andy Pettitte and Wade Miller w...</td>\n",
              "    </tr>\n",
              "    <tr>\n",
              "      <th>75869</th>\n",
              "      <td>3</td>\n",
              "      <td>Crude Drops for Second Day as China Increases ...</td>\n",
              "      <td>Crude oil futures fell, posting their biggest ...</td>\n",
              "    </tr>\n",
              "    <tr>\n",
              "      <th>1442</th>\n",
              "      <td>1</td>\n",
              "      <td>Iraqi Peace Mission in Najaf; Baghdad Blast Ki...</td>\n",
              "      <td>NAJAF, Iraq (Reuters) - Iraqi political and r...</td>\n",
              "    </tr>\n",
              "  </tbody>\n",
              "</table>\n",
              "</div>"
            ],
            "text/plain": [
              "        Label                                              Title  \\\n",
              "21507       2                   Let the emotional joy ride begin   \n",
              "101305      1    Chirac vows 'true partnership' with Libya (AFP)   \n",
              "59718       2             Astros must go to Plan B with pitchers   \n",
              "75869       3  Crude Drops for Second Day as China Increases ...   \n",
              "1442        1  Iraqi Peace Mission in Najaf; Baghdad Blast Ki...   \n",
              "\n",
              "                                                  Article  \n",
              "21507   I am. I #39;ve been eyeballing Thursday #39;s ...  \n",
              "101305  AFP - French President Jacques Chirac, who vow...  \n",
              "59718   ST. LOUIS - If Andy Pettitte and Wade Miller w...  \n",
              "75869   Crude oil futures fell, posting their biggest ...  \n",
              "1442     NAJAF, Iraq (Reuters) - Iraqi political and r...  "
            ]
          },
          "execution_count": 2,
          "metadata": {},
          "output_type": "execute_result"
        }
      ],
      "source": [
        "train, test = train_test_split(sample, test_size = 0.35, random_state = 1337)\n",
        "print(train.shape)\n",
        "print(test.shape)\n",
        "train.head()"
      ]
    },
    {
      "cell_type": "markdown",
      "id": "736cb8f5-3c0b-4a93-b207-e66e6022c5bc",
      "metadata": {
        "id": "736cb8f5-3c0b-4a93-b207-e66e6022c5bc"
      },
      "source": [
        "### Creating the word count matrices\n",
        "\n",
        "Notice that we will not fit_transform the test data but apply the same transformation that we use for the training data."
      ]
    },
    {
      "cell_type": "code",
      "execution_count": null,
      "id": "e50b0510-2c09-4ec6-9e28-b2a8933197e5",
      "metadata": {
        "id": "e50b0510-2c09-4ec6-9e28-b2a8933197e5",
        "outputId": "155dfe7b-1107-440d-f683-92dc182e268a"
      },
      "outputs": [
        {
          "name": "stdout",
          "output_type": "stream",
          "text": [
            "(650, 5353)\n",
            "(350, 5353)\n",
            "(5353,)\n"
          ]
        }
      ],
      "source": [
        "labels_train = [classes_en[int(row[\"Label\"])] for i, row in train.iterrows()]\n",
        "docs_train = [row[\"Article\"] for i, row in train.iterrows()]\n",
        "labels_test = [classes_en[int(row[\"Label\"])] for i, row in test.iterrows()]\n",
        "docs_test = [row[\"Article\"] for i, row in test.iterrows()]\n",
        "\n",
        "from nltk.corpus import stopwords as nltkStopwords\n",
        "from sklearn.feature_extraction.text import CountVectorizer\n",
        "\n",
        "stopwords_en = list(nltkStopwords.words(\"english\"))\n",
        "count_vectorizer = CountVectorizer(strip_accents = \"unicode\",\n",
        "                                   stop_words = stopwords_en)\n",
        "\n",
        "X_train = count_vectorizer.fit_transform(docs_train)\n",
        "X_test = count_vectorizer.transform(docs_test)\n",
        "counts_features_names = count_vectorizer.get_feature_names_out()\n",
        "print(X_train.shape)\n",
        "print(X_test.shape)\n",
        "print(counts_features_names.shape)\n",
        "\n",
        "counts_train = pd.DataFrame(X_train.A, columns = counts_features_names)\n",
        "counts_train[\"Label\"] = labels_train\n",
        "counts_test = pd.DataFrame(X_test.A, columns = counts_features_names)\n",
        "counts_test[\"Label\"] = labels_test"
      ]
    },
    {
      "cell_type": "markdown",
      "id": "a5a0647a-6646-49f8-b9ae-646b2e7aef99",
      "metadata": {
        "id": "a5a0647a-6646-49f8-b9ae-646b2e7aef99"
      },
      "source": [
        "### Use the following function to plot confusion matrices of the predictions"
      ]
    },
    {
      "cell_type": "code",
      "execution_count": null,
      "id": "e6210175-dbea-4ea8-aacb-b539473c7149",
      "metadata": {
        "id": "e6210175-dbea-4ea8-aacb-b539473c7149"
      },
      "outputs": [],
      "source": [
        "def plot_confusion_matrix(cm, classes, normalize = False, title = \"Confusion matrix\", cmap = plt.cm.Blues):\n",
        "\n",
        "    plt.imshow(cm, interpolation = \"nearest\", cmap = cmap)\n",
        "    plt.title(title)\n",
        "    plt.colorbar()\n",
        "    tick_marks = np.arange(len(classes))\n",
        "    plt.xticks(tick_marks, classes, rotation = 45)\n",
        "    plt.yticks(tick_marks, classes)\n",
        "\n",
        "    if normalize:\n",
        "        cm = cm.astype(\"float\") / cm.sum(axis = 1)[:, np.newaxis]\n",
        "        print(\"Normalized confusion matrix\")\n",
        "\n",
        "    thresh = cm.max() / 2.\n",
        "    for i, j in itertools.product(range(cm.shape[0]), range(cm.shape[1])):\n",
        "        plt.text(j, i, cm[i, j],\n",
        "                 horizontalalignment = \"center\",\n",
        "                 color=\"white\" if cm[i, j] > thresh else \"black\")\n",
        "\n",
        "    plt.tight_layout()\n",
        "    plt.ylim(len(cm) - 0.5, -0.5)\n",
        "    plt.ylabel(\"True label\")\n",
        "    plt.xlabel(\"Predicted label\")\n",
        "\n",
        "    return cm"
      ]
    },
    {
      "cell_type": "markdown",
      "id": "e4668bef-ea9c-4356-a4a6-f0896ec4799d",
      "metadata": {
        "id": "e4668bef-ea9c-4356-a4a6-f0896ec4799d"
      },
      "source": [
        "# **Classification**\n",
        "\n",
        "### **Exercise:** Implement a NaiveBayes classifier that follows a lazy-learning approach -> conditional probabilities are not saved but calculated on demand. A class skeleton with documentation is given which you *may* use. But you can also come up with your own approach!\n",
        "\n",
        "**NaiveBayes Classifier Implementation - Documentation:**\n",
        "\n",
        "*class NaiveBayes(data, target, delta=1)*\n",
        "\n",
        "- Parameters:\n",
        "  - data: a pandas dataframe (pandas.DataFrame)\n",
        "  - target: column name of response variable (string)\n",
        "  - delta: Lidstone's Law Succession's delta (int)\n",
        "      - if delta = 0 this corresponds to base NaiveBayes\n",
        "      - if delta = 1 this corresponds to Laplace Estimation\n",
        "      - DEFAULT: 1\n",
        "      \n",
        "*method predict(x, has_target=False)*\n",
        "\n",
        "- Parameters:\n",
        "  - x: a pandas series (pandas.Series)\n",
        "  - has_target: whether or not x is still labeled (bool)\n",
        "    - DEFAULT: False\n",
        "- Return:\n",
        "  - predicted label (int/string)"
      ]
    },
    {
      "cell_type": "code",
      "execution_count": null,
      "id": "7a629cd5-7444-4b3e-b52a-afcc51657e4c",
      "metadata": {
        "id": "7a629cd5-7444-4b3e-b52a-afcc51657e4c"
      },
      "outputs": [],
      "source": [
        "class NaiveBayes:\n",
        "\n",
        "    def __init__(self, data, target, delta=1):\n",
        "        self.data = data\n",
        "        self.target = target\n",
        "        self.delta = delta\n",
        "        return\n",
        "\n",
        "    def predict(self, x, has_target=False):\n",
        "\n",
        "        data = self.data\n",
        "        target = self.target\n",
        "        delta = self.delta\n",
        "\n",
        "        # Probability of Class C in the dataset\n",
        "        # nr. of rows with C / nr. of rows\n",
        "        def P(C):\n",
        "            n = data[data[target]==C].shape[0]\n",
        "            d = data.shape[0]\n",
        "            return n/d\n",
        "\n",
        "        # Conditional Probability of Feature f having value F, given class C\n",
        "        # nr. of rows that have both F and C / nr. of rows that have C\n",
        "        # (+ delta)\n",
        "        def P_conditional(f, F, C):\n",
        "            n = data[(data[target]==C) & (data[f]==F)].shape[0]\n",
        "            d = data[data[target]==C].shape[0]\n",
        "            return (n + delta)/(d + len(data[f].unique()) * delta)\n",
        "\n",
        "        features = x.index.tolist()\n",
        "        if has_target:\n",
        "            features.remove(target)\n",
        "        res = []\n",
        "        # Conditional Probability of class C given features f\n",
        "        # = Product of Probability of Class C and all Conditional Probabilities F of f given C\n",
        "        for C_i in data[target].unique().tolist():\n",
        "            r = P(C_i)\n",
        "            for f in features:\n",
        "                r = r * P_conditional(f, x.loc[f], C_i)\n",
        "            res.append((r, C_i))\n",
        "\n",
        "        # Predict class C that has highest Probability\n",
        "        res.sort(key=lambda x: x[0], reverse=True)\n",
        "        argmax = res[0][1]\n",
        "\n",
        "        return argmax"
      ]
    },
    {
      "cell_type": "code",
      "execution_count": null,
      "id": "2df90bb9-24d7-4590-a843-a286b6da0b2c",
      "metadata": {
        "id": "2df90bb9-24d7-4590-a843-a286b6da0b2c"
      },
      "outputs": [],
      "source": [
        "NB = NaiveBayes(data = counts_train, target = \"Label\", delta = 1)"
      ]
    },
    {
      "cell_type": "markdown",
      "id": "6c4e02ac-2fd5-485c-b623-a12df97e52d3",
      "metadata": {
        "id": "6c4e02ac-2fd5-485c-b623-a12df97e52d3"
      },
      "source": [
        "### Evaluate your implementation on the training data..."
      ]
    },
    {
      "cell_type": "code",
      "execution_count": null,
      "id": "876ef0d7-7837-4ba8-94ea-9bc890762e62",
      "metadata": {
        "id": "876ef0d7-7837-4ba8-94ea-9bc890762e62",
        "outputId": "ddd74177-3d7c-4c13-cdcc-7ba8c331274c"
      },
      "outputs": [
        {
          "name": "stderr",
          "output_type": "stream",
          "text": [
            "progress bar: 100%|███████████████████████████████████████████████████████████████| 650/650 [14:05:50<00:00, 78.08s/it]\n"
          ]
        }
      ],
      "source": [
        "tqdm.pandas(desc = \"progress bar\")\n",
        "predictions_train = counts_train.progress_apply(lambda row: NB.predict(row, has_target = True), axis = 1)"
      ]
    },
    {
      "cell_type": "code",
      "execution_count": null,
      "id": "d5d28049-9034-4106-b7e8-014a91199114",
      "metadata": {
        "id": "d5d28049-9034-4106-b7e8-014a91199114",
        "outputId": "0a588d32-0d3c-4f18-c79e-3c41aacba24f"
      },
      "outputs": [
        {
          "data": {
            "image/png": "[encoded data removed]",
            "text/plain": [
              "<Figure size 640x480 with 2 Axes>"
            ]
          },
          "metadata": {},
          "output_type": "display_data"
        }
      ],
      "source": [
        "conf = confusion_matrix(counts_train[\"Label\"], predictions_train)\n",
        "\n",
        "plt.figure()\n",
        "plot = plot_confusion_matrix(conf, classes = [\"World\", \"Sports\", \"Business\", \"Sci/Tech\"], title = \"Confusion matrix - Train Split\")\n",
        "plt.show()"
      ]
    },
    {
      "cell_type": "code",
      "execution_count": null,
      "id": "5d1357cd-54ed-4b0b-a514-6d783a286a1b",
      "metadata": {
        "id": "5d1357cd-54ed-4b0b-a514-6d783a286a1b",
        "outputId": "e6d2f212-8535-4928-9e1f-71138bdc0d42"
      },
      "outputs": [
        {
          "name": "stdout",
          "output_type": "stream",
          "text": [
            "Train Accuracy:  0.9723076923076923\n"
          ]
        }
      ],
      "source": [
        "print(\"Train Accuracy: \", accuracy_score(counts_train[\"Label\"], predictions_train))"
      ]
    },
    {
      "cell_type": "markdown",
      "id": "a3dd8010-9777-4366-af31-6dc83cc84e25",
      "metadata": {
        "id": "a3dd8010-9777-4366-af31-6dc83cc84e25"
      },
      "source": [
        "### ...and on the test data"
      ]
    },
    {
      "cell_type": "code",
      "execution_count": null,
      "id": "0410697d-2f38-484c-a908-395d86eed230",
      "metadata": {
        "id": "0410697d-2f38-484c-a908-395d86eed230",
        "outputId": "8bf7e8f1-6890-4151-f028-7a4b6b964eb4"
      },
      "outputs": [
        {
          "name": "stderr",
          "output_type": "stream",
          "text": [
            "progress bar: 100%|████████████████████████████████████████████████████████████████| 350/350 [7:15:54<00:00, 74.73s/it]\n"
          ]
        }
      ],
      "source": [
        "tqdm.pandas(desc = \"progress bar\")\n",
        "predictions_test = counts_test.progress_apply(lambda row: NB.predict(row, has_target = True), axis = 1)"
      ]
    },
    {
      "cell_type": "code",
      "execution_count": null,
      "id": "4cd0ed61-856f-461d-abb0-6c8f1d9c9f9c",
      "metadata": {
        "id": "4cd0ed61-856f-461d-abb0-6c8f1d9c9f9c",
        "outputId": "20fffdf0-de45-4dd3-bcb1-c034494de2b4"
      },
      "outputs": [
        {
          "data": {
            "image/png": "[encoded data removed]",
            "text/plain": [
              "<Figure size 640x480 with 2 Axes>"
            ]
          },
          "metadata": {},
          "output_type": "display_data"
        }
      ],
      "source": [
        "conf = confusion_matrix(counts_test[\"Label\"], predictions_test)\n",
        "\n",
        "plt.figure()\n",
        "plot = plot_confusion_matrix(conf, classes = [\"World\", \"Sports\", \"Business\", \"Sci/Tech\"], title = \"Confusion matrix - Test Split\")\n",
        "plt.show()"
      ]
    },
    {
      "cell_type": "code",
      "execution_count": null,
      "id": "3baadbb0-469b-4be2-88d8-559f17ae2b84",
      "metadata": {
        "id": "3baadbb0-469b-4be2-88d8-559f17ae2b84",
        "outputId": "d2a8d96e-f1d5-4e7a-e1d3-b3acfa78f226"
      },
      "outputs": [
        {
          "name": "stdout",
          "output_type": "stream",
          "text": [
            "Test Accuracy:  0.6857142857142857\n"
          ]
        }
      ],
      "source": [
        "print(\"Test Accuracy: \", accuracy_score(counts_test[\"Label\"], predictions_test))"
      ]
    },
    {
      "cell_type": "markdown",
      "id": "c9bdd589-e7b0-465a-9490-9ed9b764842f",
      "metadata": {
        "id": "c9bdd589-e7b0-465a-9490-9ed9b764842f"
      },
      "source": [
        "### What can you observe?\n",
        "\n",
        "Does it work well? What does accuracy in this context mean given that we have four balanced classes (and we assume that our sample is truly random)? What could be pitfalls why the classifier doesn't work well?"
      ]
    },
    {
      "cell_type": "markdown",
      "id": "bb748dad-0d4a-428d-832e-c2a474aaa564",
      "metadata": {
        "id": "bb748dad-0d4a-428d-832e-c2a474aaa564"
      },
      "source": [
        "### **Bonus Exercise:** Performance on \"cleaned\" data.\n",
        "\n",
        "Run the naiveBayes classifier on the \"cleaned\" dataset from the clustering exercise. For example, import the cleaning function from `clean.py` and apply it to training and test partition with the code below:\n",
        "\n",
        "```python\n",
        "from clean import clean\n",
        "\n",
        "docs_cleaned_train = [clean(row[\"Article\"]) for i, row in train.iterrows()]\n",
        "docs_cleaned_test = [clean(row[\"Article\"]) for i, row in test.iterrows()]\n",
        "```\n",
        "\n",
        "Compare the performance between the \"cleaned\" and \"not cleaned\" datasets, which one performs better?"
      ]
    },
    {
      "cell_type": "markdown",
      "id": "59942b26-fa79-48fa-9f4f-1d9550de1aee",
      "metadata": {
        "id": "59942b26-fa79-48fa-9f4f-1d9550de1aee"
      },
      "source": [
        "### **Bonus Exercise:** Speeding up naiveBayes.\n",
        "\n",
        "As you can see this implementation of the naiveBayes classification algorithm is very slow and inefficient. How could we potentially improve performance and speed up prediction? Try to implement a more efficient naiveBayes classifier."
      ]
    },
    {
      "cell_type": "markdown",
      "id": "48b4033e-cdb8-4dff-ad45-ddbc4f95fcda",
      "metadata": {
        "id": "48b4033e-cdb8-4dff-ad45-ddbc4f95fcda"
      },
      "source": [
        "### **Alternative/Bonus Exercise:** Implement the kNN algorithm using the TF-IDF matrix representation and using the cosine distance!\n",
        "\n",
        "Compare (the performance of) your solution to that of the kNN implementation of sklearn: [https://scikit-learn.org/stable/modules/generated/sklearn.neighbors.KNeighborsClassifier.html](https://scikit-learn.org/stable/modules/generated/sklearn.neighbors.KNeighborsClassifier.html)"
      ]
    },
    {
      "cell_type": "code",
      "execution_count": null,
      "id": "f1a06187-699b-4890-9a78-ec3b7c45ac40",
      "metadata": {
        "id": "f1a06187-699b-4890-9a78-ec3b7c45ac40"
      },
      "outputs": [],
      "source": []
    }
  ],
  "metadata": {
    "kernelspec": {
      "display_name": "Python 3 (ipykernel)",
      "language": "python",
      "name": "python3"
    },
    "language_info": {
      "codemirror_mode": {
        "name": "ipython",
        "version": 3
      },
      "file_extension": ".py",
      "mimetype": "text/x-python",
      "name": "python",
      "nbconvert_exporter": "python",
      "pygments_lexer": "ipython3",
      "version": "3.12.0"
    },
    "colab": {
      "provenance": [],
      "include_colab_link": true
    }
  },
  "nbformat": 4,
  "nbformat_minor": 5
}